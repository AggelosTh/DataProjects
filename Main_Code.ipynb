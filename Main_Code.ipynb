{
  "nbformat": 4,
  "nbformat_minor": 0,
  "metadata": {
    "colab": {
      "name": "Main_Code.ipynb",
      "provenance": [],
      "collapsed_sections": []
    },
    "kernelspec": {
      "name": "python3",
      "display_name": "Python 3"
    }
  },
  "cells": [
    {
      "cell_type": "code",
      "metadata": {
        "id": "XZlYGIYl2gk1",
        "colab_type": "code",
        "colab": {}
      },
      "source": [
        "#tools and data entry\n",
        "import pandas as pd \n",
        "import matplotlib.pyplot as plt\n",
        "from matplotlib import pyplot\n",
        "import datetime as datetime\n",
        "import math\n",
        "import numpy as np\n",
        "import seaborn as sns\n",
        "from numpy import NaN"
      ],
      "execution_count": 0,
      "outputs": []
    },
    {
      "cell_type": "code",
      "metadata": {
        "id": "hVMnrtUo2lz9",
        "colab_type": "code",
        "outputId": "2907c395-a16d-4faa-90f5-7d9b8ab6bb5d",
        "colab": {
          "resources": {
            "http://localhost:8080/nbextensions/google.colab/files.js": {
              "data": "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",
              "ok": true,
              "headers": [
                [
                  "content-type",
                  "application/javascript"
                ]
              ],
              "status": 200,
              "status_text": "OK"
            }
          },
          "base_uri": "https://localhost:8080/",
          "height": 291
        }
      },
      "source": [
        "from google.colab import files\n",
        "uploaded = files.upload()   "
      ],
      "execution_count": 0,
      "outputs": [
        {
          "output_type": "display_data",
          "data": {
            "text/html": [
              "\n",
              "     <input type=\"file\" id=\"files-7d1a32d4-6293-4fdf-a9b8-9a6338871de4\" name=\"files[]\" multiple disabled />\n",
              "     <output id=\"result-7d1a32d4-6293-4fdf-a9b8-9a6338871de4\">\n",
              "      Upload widget is only available when the cell has been executed in the\n",
              "      current browser session. Please rerun this cell to enable.\n",
              "      </output>\n",
              "      <script src=\"/nbextensions/google.colab/files.js\"></script> "
            ],
            "text/plain": [
              "<IPython.core.display.HTML object>"
            ]
          },
          "metadata": {
            "tags": []
          }
        },
        {
          "output_type": "stream",
          "text": [
            "Saving ac_current.csv to ac_current (1).csv\n",
            "Saving ac_power.csv to ac_power (1).csv\n",
            "Saving humidity_in.csv to humidity_in (1).csv\n",
            "Saving humidity_out.csv to humidity_out (1).csv\n",
            "Saving occupancy.csv to occupancy (1).csv\n",
            "Saving temperature_in.csv to temperature_in (1).csv\n",
            "Saving temperature_out.csv to temperature_out (1).csv\n"
          ],
          "name": "stdout"
        }
      ]
    },
    {
      "cell_type": "code",
      "metadata": {
        "id": "8IuDROYE2rYJ",
        "colab_type": "code",
        "colab": {}
      },
      "source": [
        "import io\n",
        "df_hum_in = pd.read_csv(io.BytesIO(uploaded['humidity_in.csv']))"
      ],
      "execution_count": 0,
      "outputs": []
    },
    {
      "cell_type": "code",
      "metadata": {
        "id": "jTswsYOm2v7a",
        "colab_type": "code",
        "colab": {}
      },
      "source": [
        "import io\n",
        "df_hum_out = pd.read_csv(io.BytesIO(uploaded['humidity_out.csv']))"
      ],
      "execution_count": 0,
      "outputs": []
    },
    {
      "cell_type": "code",
      "metadata": {
        "id": "410CSEdv20_B",
        "colab_type": "code",
        "colab": {}
      },
      "source": [
        "import io\n",
        "df_temp_in = pd.read_csv(io.BytesIO(uploaded['temperature_in.csv']))"
      ],
      "execution_count": 0,
      "outputs": []
    },
    {
      "cell_type": "code",
      "metadata": {
        "id": "61MmvWm62524",
        "colab_type": "code",
        "colab": {}
      },
      "source": [
        "import io\n",
        "df_temp_out = pd.read_csv(io.BytesIO(uploaded['temperature_out.csv']))"
      ],
      "execution_count": 0,
      "outputs": []
    },
    {
      "cell_type": "code",
      "metadata": {
        "id": "2wnwyRlT3A_3",
        "colab_type": "code",
        "colab": {}
      },
      "source": [
        "import io\n",
        "df_power = pd.read_csv(io.BytesIO(uploaded['ac_power.csv']))"
      ],
      "execution_count": 0,
      "outputs": []
    },
    {
      "cell_type": "code",
      "metadata": {
        "id": "aaeFE6yx3F3W",
        "colab_type": "code",
        "colab": {}
      },
      "source": [
        "import io\n",
        "df_current = pd.read_csv(io.BytesIO(uploaded['ac_current.csv']))"
      ],
      "execution_count": 0,
      "outputs": []
    },
    {
      "cell_type": "code",
      "metadata": {
        "id": "ivGIDqOI3Vv1",
        "colab_type": "code",
        "colab": {}
      },
      "source": [
        "import io\n",
        "df_occup = pd.read_csv(io.BytesIO(uploaded['occupancy.csv']))"
      ],
      "execution_count": 0,
      "outputs": []
    },
    {
      "cell_type": "code",
      "metadata": {
        "id": "R174cuhl3n66",
        "colab_type": "code",
        "colab": {}
      },
      "source": [
        "df_hum_in['statetime'] = pd.to_datetime(df_hum_in['statetime'])\n",
        "df_hum_out['statetime'] = pd.to_datetime(df_hum_out['statetime'])\n",
        "df_temp_in['statetime'] = pd.to_datetime(df_temp_in['statetime'])\n",
        "df_temp_out['statetime'] = pd.to_datetime(df_temp_out['statetime'])\n",
        "df_power['statetime'] = pd.to_datetime(df_power['statetime'])\n",
        "df_current['statetime'] = pd.to_datetime(df_current['statetime'])"
      ],
      "execution_count": 0,
      "outputs": []
    },
    {
      "cell_type": "code",
      "metadata": {
        "id": "3BDLLr9Z5WAk",
        "colab_type": "code",
        "colab": {}
      },
      "source": [
        "df_hum_in['humidity_in'] = pd.to_numeric(df_hum_in['humidity_in'], errors='coerce')\n",
        "df_hum_out['humidity_out'] = pd.to_numeric(df_hum_out['humidity_out'], errors='coerce')\n",
        "df_temp_in['temp_in'] = pd.to_numeric(df_temp_in['temp_in'], errors='coerce')\n",
        "df_temp_out['temp_out'] = pd.to_numeric(df_temp_out['temp_out'], errors='coerce')\n",
        "df_power['ac_pow_power'] = pd.to_numeric(df_power['ac_pow_power'], errors='coerce')\n",
        "df_current['ac_pow_current'] = pd.to_numeric(df_current['ac_pow_current'], errors='coerce')"
      ],
      "execution_count": 0,
      "outputs": []
    },
    {
      "cell_type": "code",
      "metadata": {
        "id": "fI2Z1zsyDRfC",
        "colab_type": "code",
        "colab": {}
      },
      "source": [
        "df_hum_in = df_hum_in.set_index('statetime') \n",
        "df_hum_out = df_hum_out.set_index('statetime')\n",
        "df_temp_in = df_temp_in.set_index('statetime')\n",
        "df_temp_out = df_temp_out.set_index('statetime')\n",
        "df_power = df_power.set_index('statetime')\n",
        "df_current = df_current.set_index('statetime')"
      ],
      "execution_count": 0,
      "outputs": []
    },
    {
      "cell_type": "code",
      "metadata": {
        "id": "fnyrBFdV6y94",
        "colab_type": "code",
        "colab": {}
      },
      "source": [
        "df_hum_out = df_hum_out.resample('min').mean()\n",
        "df_hum_in = df_hum_in.resample('min').mean()\n",
        "df_temp_in = df_temp_in.resample('min').mean()\n",
        "df_temp_out = df_temp_out.resample('min').mean()\n",
        "df_power = df_power.resample('min').mean()\n",
        "df_current = df_current.resample('min').mean()"
      ],
      "execution_count": 0,
      "outputs": []
    },
    {
      "cell_type": "code",
      "metadata": {
        "id": "MOt_YJ1SGRAs",
        "colab_type": "code",
        "colab": {}
      },
      "source": [
        "df_hum_out = df_hum_out.sort_values(by=['statetime'])\n",
        "df_hum_in = df_hum_in.sort_values(by=['statetime'])\n",
        "df_temp_in = df_temp_in.sort_values(by=['statetime'])\n",
        "df_temp_out = df_temp_out.sort_values(by=['statetime'])\n",
        "df_power = df_power.sort_values(by=['statetime'])\n",
        "df_current = df_current.sort_values(by=['statetime'])"
      ],
      "execution_count": 0,
      "outputs": []
    },
    {
      "cell_type": "code",
      "metadata": {
        "id": "Yo76c8U1dQzm",
        "colab_type": "code",
        "colab": {}
      },
      "source": [
        "df_hum_out['humidity_out'].interpolate(method='linear', inplace=True)\n",
        "df_hum_in['humidity_in'].interpolate(method='linear', inplace=True)\n",
        "df_temp_in['temp_in'].interpolate(method='linear', inplace=True)\n",
        "df_temp_out['temp_out'].interpolate(method='linear', inplace=True)\n",
        "#interpolation fills nan values \n"
      ],
      "execution_count": 0,
      "outputs": []
    },
    {
      "cell_type": "code",
      "metadata": {
        "id": "jdF2cgjWcLna",
        "colab_type": "code",
        "colab": {}
      },
      "source": [
        "df_power['ac_pow_power'] = df_power['ac_pow_power'].fillna(0)"
      ],
      "execution_count": 0,
      "outputs": []
    },
    {
      "cell_type": "code",
      "metadata": {
        "id": "hHX8G3IqdFqS",
        "colab_type": "code",
        "colab": {}
      },
      "source": [
        "df_current['ac_pow_current'] = df_current['ac_pow_current'].fillna(0)"
      ],
      "execution_count": 0,
      "outputs": []
    },
    {
      "cell_type": "code",
      "metadata": {
        "id": "xrDJfV41lLcv",
        "colab_type": "code",
        "colab": {}
      },
      "source": [
        "# Data Frame που τα περιλαμβάνει όλα χωρίς NaN\n",
        "dflist = [df_hum_out, df_hum_in, df_temp_in, df_temp_out, df_power, df_current, df_occup]\n",
        "df = df_hum_out\n",
        "for i in range(1, 6):\n",
        "  df = df.merge(dflist[i], on='statetime', how='inner', sort=True)"
      ],
      "execution_count": 0,
      "outputs": []
    },
    {
      "cell_type": "code",
      "metadata": {
        "id": "pHDPjITjTJUD",
        "colab_type": "code",
        "outputId": "700429a2-cf2e-48d5-b5e6-a3708d774a0e",
        "colab": {
          "base_uri": "https://localhost:8080/",
          "height": 455
        }
      },
      "source": [
        "df\n",
        "#inner join krataei mono ta koina datetimes twn sthlwn. "
      ],
      "execution_count": 0,
      "outputs": [
        {
          "output_type": "execute_result",
          "data": {
            "text/html": [
              "<div>\n",
              "<style scoped>\n",
              "    .dataframe tbody tr th:only-of-type {\n",
              "        vertical-align: middle;\n",
              "    }\n",
              "\n",
              "    .dataframe tbody tr th {\n",
              "        vertical-align: top;\n",
              "    }\n",
              "\n",
              "    .dataframe thead th {\n",
              "        text-align: right;\n",
              "    }\n",
              "</style>\n",
              "<table border=\"1\" class=\"dataframe\">\n",
              "  <thead>\n",
              "    <tr style=\"text-align: right;\">\n",
              "      <th></th>\n",
              "      <th>humidity_out</th>\n",
              "      <th>humidity_in</th>\n",
              "      <th>temp_in</th>\n",
              "      <th>temp_out</th>\n",
              "      <th>ac_pow_power</th>\n",
              "      <th>ac_pow_current</th>\n",
              "    </tr>\n",
              "    <tr>\n",
              "      <th>statetime</th>\n",
              "      <th></th>\n",
              "      <th></th>\n",
              "      <th></th>\n",
              "      <th></th>\n",
              "      <th></th>\n",
              "      <th></th>\n",
              "    </tr>\n",
              "  </thead>\n",
              "  <tbody>\n",
              "    <tr>\n",
              "      <th>2019-10-23 07:36:00</th>\n",
              "      <td>15.645161</td>\n",
              "      <td>41.500000</td>\n",
              "      <td>27.9250</td>\n",
              "      <td>23.548387</td>\n",
              "      <td>0.000000</td>\n",
              "      <td>0.00000</td>\n",
              "    </tr>\n",
              "    <tr>\n",
              "      <th>2019-10-23 07:37:00</th>\n",
              "      <td>15.634409</td>\n",
              "      <td>41.666667</td>\n",
              "      <td>27.9125</td>\n",
              "      <td>23.572581</td>\n",
              "      <td>0.000000</td>\n",
              "      <td>0.00000</td>\n",
              "    </tr>\n",
              "    <tr>\n",
              "      <th>2019-10-23 07:38:00</th>\n",
              "      <td>15.623656</td>\n",
              "      <td>41.333333</td>\n",
              "      <td>27.9000</td>\n",
              "      <td>23.596774</td>\n",
              "      <td>0.000000</td>\n",
              "      <td>0.00000</td>\n",
              "    </tr>\n",
              "    <tr>\n",
              "      <th>2019-10-23 07:39:00</th>\n",
              "      <td>15.612903</td>\n",
              "      <td>41.000000</td>\n",
              "      <td>27.8875</td>\n",
              "      <td>23.620968</td>\n",
              "      <td>0.000000</td>\n",
              "      <td>0.00000</td>\n",
              "    </tr>\n",
              "    <tr>\n",
              "      <th>2019-10-23 07:40:00</th>\n",
              "      <td>15.602151</td>\n",
              "      <td>41.500000</td>\n",
              "      <td>27.8750</td>\n",
              "      <td>23.645161</td>\n",
              "      <td>0.000000</td>\n",
              "      <td>0.00000</td>\n",
              "    </tr>\n",
              "    <tr>\n",
              "      <th>...</th>\n",
              "      <td>...</td>\n",
              "      <td>...</td>\n",
              "      <td>...</td>\n",
              "      <td>...</td>\n",
              "      <td>...</td>\n",
              "      <td>...</td>\n",
              "    </tr>\n",
              "    <tr>\n",
              "      <th>2019-10-23 14:27:00</th>\n",
              "      <td>7.600000</td>\n",
              "      <td>50.000000</td>\n",
              "      <td>25.1000</td>\n",
              "      <td>40.000000</td>\n",
              "      <td>0.000000</td>\n",
              "      <td>0.00000</td>\n",
              "    </tr>\n",
              "    <tr>\n",
              "      <th>2019-10-23 14:28:00</th>\n",
              "      <td>7.500000</td>\n",
              "      <td>49.000000</td>\n",
              "      <td>25.0250</td>\n",
              "      <td>40.000000</td>\n",
              "      <td>0.000000</td>\n",
              "      <td>0.00000</td>\n",
              "    </tr>\n",
              "    <tr>\n",
              "      <th>2019-10-23 14:29:00</th>\n",
              "      <td>9.000000</td>\n",
              "      <td>51.000000</td>\n",
              "      <td>24.9500</td>\n",
              "      <td>38.000000</td>\n",
              "      <td>0.000000</td>\n",
              "      <td>0.00000</td>\n",
              "    </tr>\n",
              "    <tr>\n",
              "      <th>2019-10-23 14:30:00</th>\n",
              "      <td>8.000000</td>\n",
              "      <td>51.000000</td>\n",
              "      <td>25.0250</td>\n",
              "      <td>39.000000</td>\n",
              "      <td>0.000000</td>\n",
              "      <td>0.00000</td>\n",
              "    </tr>\n",
              "    <tr>\n",
              "      <th>2019-10-23 14:31:00</th>\n",
              "      <td>8.111111</td>\n",
              "      <td>49.500000</td>\n",
              "      <td>25.1000</td>\n",
              "      <td>39.500000</td>\n",
              "      <td>15.833333</td>\n",
              "      <td>0.18075</td>\n",
              "    </tr>\n",
              "  </tbody>\n",
              "</table>\n",
              "<p>416 rows × 6 columns</p>\n",
              "</div>"
            ],
            "text/plain": [
              "                     humidity_out  humidity_in  ...  ac_pow_power  ac_pow_current\n",
              "statetime                                       ...                              \n",
              "2019-10-23 07:36:00     15.645161    41.500000  ...      0.000000         0.00000\n",
              "2019-10-23 07:37:00     15.634409    41.666667  ...      0.000000         0.00000\n",
              "2019-10-23 07:38:00     15.623656    41.333333  ...      0.000000         0.00000\n",
              "2019-10-23 07:39:00     15.612903    41.000000  ...      0.000000         0.00000\n",
              "2019-10-23 07:40:00     15.602151    41.500000  ...      0.000000         0.00000\n",
              "...                           ...          ...  ...           ...             ...\n",
              "2019-10-23 14:27:00      7.600000    50.000000  ...      0.000000         0.00000\n",
              "2019-10-23 14:28:00      7.500000    49.000000  ...      0.000000         0.00000\n",
              "2019-10-23 14:29:00      9.000000    51.000000  ...      0.000000         0.00000\n",
              "2019-10-23 14:30:00      8.000000    51.000000  ...      0.000000         0.00000\n",
              "2019-10-23 14:31:00      8.111111    49.500000  ...     15.833333         0.18075\n",
              "\n",
              "[416 rows x 6 columns]"
            ]
          },
          "metadata": {
            "tags": []
          },
          "execution_count": 226
        }
      ]
    },
    {
      "cell_type": "code",
      "metadata": {
        "id": "aMJWEOEcZUsu",
        "colab_type": "code",
        "outputId": "80fcfe45-3b7b-4c0c-cf43-bf0baa0bf4b8",
        "colab": {
          "base_uri": "https://localhost:8080/",
          "height": 467
        }
      },
      "source": [
        "sns.heatmap(df.isnull(), cbar=False)\n",
        "df.isnull().sum()"
      ],
      "execution_count": 0,
      "outputs": [
        {
          "output_type": "execute_result",
          "data": {
            "text/plain": [
              "humidity_out      0\n",
              "humidity_in       0\n",
              "temp_in           0\n",
              "temp_out          0\n",
              "ac_pow_power      0\n",
              "ac_pow_current    0\n",
              "dtype: int64"
            ]
          },
          "metadata": {
            "tags": []
          },
          "execution_count": 227
        },
        {
          "output_type": "display_data",
          "data": {
            "image/png": "[encoded data removed]",
            "text/plain": [
              "<Figure size 432x288 with 1 Axes>"
            ]
          },
          "metadata": {
            "tags": []
          }
        }
      ]
    },
    {
      "cell_type": "code",
      "metadata": {
        "id": "0Xtenb-iGh4p",
        "colab_type": "code",
        "colab": {}
      },
      "source": [
        "from sklearn.preprocessing import StandardScaler\n",
        "from sklearn.preprocessing import PolynomialFeatures\n",
        "from sklearn.pipeline import Pipeline\n",
        "from sklearn.linear_model import LinearRegression\n",
        "from sklearn.linear_model import Ridge\n",
        "from sklearn.linear_model import Lasso\n",
        "from sklearn.linear_model import ElasticNet\n",
        "from sklearn.metrics import mean_squared_error\n",
        "import math\n",
        "from sklearn.tree import DecisionTreeRegressor\n",
        "from sklearn.model_selection import train_test_split\n",
        "from sklearn import metrics"
      ],
      "execution_count": 0,
      "outputs": []
    },
    {
      "cell_type": "code",
      "metadata": {
        "id": "hg6oQG-QVyG2",
        "colab_type": "code",
        "colab": {}
      },
      "source": [
        "#  Outer join Data Frame που περιέχει όλες τις τιμές συν τα κενά κελιά\n",
        "dflist = [df_hum_out, df_hum_in, df_temp_in, df_temp_out, df_power, df_current, df_occup]\n",
        "dff = df_hum_out\n",
        "for i in range(1, 6):\n",
        "  dff = dff.merge(dflist[i], on='statetime', how='outer', sort=True)"
      ],
      "execution_count": 0,
      "outputs": []
    },
    {
      "cell_type": "code",
      "metadata": {
        "id": "BSesl35XjzA8",
        "colab_type": "code",
        "colab": {}
      },
      "source": [
        "dff['ac_pow_power'] = dff['ac_pow_power'].fillna(0)"
      ],
      "execution_count": 0,
      "outputs": []
    },
    {
      "cell_type": "code",
      "metadata": {
        "id": "NxGrcttMPGsy",
        "colab_type": "code",
        "outputId": "e786c7c7-5144-48b2-e26a-2c5b4cb7c4e1",
        "colab": {
          "base_uri": "https://localhost:8080/",
          "height": 569
        }
      },
      "source": [
        "corrmat = dff.corr() \n",
        "\n",
        "f, ax = plt.subplots(figsize =(9, 8)) \n",
        "sns.heatmap(corrmat, ax = ax, cmap =\"YlGnBu\", linewidths = 0.1) "
      ],
      "execution_count": 0,
      "outputs": [
        {
          "output_type": "execute_result",
          "data": {
            "text/plain": [
              "<matplotlib.axes._subplots.AxesSubplot at 0x7f9dcbb427b8>"
            ]
          },
          "metadata": {
            "tags": []
          },
          "execution_count": 231
        },
        {
          "output_type": "display_data",
          "data": {
            "image/png": "[encoded data removed]",
            "text/plain": [
              "<Figure size 648x576 with 2 Axes>"
            ]
          },
          "metadata": {
            "tags": []
          }
        }
      ]
    },
    {
      "cell_type": "code",
      "metadata": {
        "id": "js--JUX2eWOe",
        "colab_type": "code",
        "outputId": "f18d6ea4-a41e-4350-c4f5-affba13cbf85",
        "colab": {
          "base_uri": "https://localhost:8080/",
          "height": 455
        }
      },
      "source": [
        "dff "
      ],
      "execution_count": 0,
      "outputs": [
        {
          "output_type": "execute_result",
          "data": {
            "text/html": [
              "<div>\n",
              "<style scoped>\n",
              "    .dataframe tbody tr th:only-of-type {\n",
              "        vertical-align: middle;\n",
              "    }\n",
              "\n",
              "    .dataframe tbody tr th {\n",
              "        vertical-align: top;\n",
              "    }\n",
              "\n",
              "    .dataframe thead th {\n",
              "        text-align: right;\n",
              "    }\n",
              "</style>\n",
              "<table border=\"1\" class=\"dataframe\">\n",
              "  <thead>\n",
              "    <tr style=\"text-align: right;\">\n",
              "      <th></th>\n",
              "      <th>humidity_out</th>\n",
              "      <th>humidity_in</th>\n",
              "      <th>temp_in</th>\n",
              "      <th>temp_out</th>\n",
              "      <th>ac_pow_power</th>\n",
              "      <th>ac_pow_current</th>\n",
              "    </tr>\n",
              "    <tr>\n",
              "      <th>statetime</th>\n",
              "      <th></th>\n",
              "      <th></th>\n",
              "      <th></th>\n",
              "      <th></th>\n",
              "      <th></th>\n",
              "      <th></th>\n",
              "    </tr>\n",
              "  </thead>\n",
              "  <tbody>\n",
              "    <tr>\n",
              "      <th>2019-10-07 14:09:00</th>\n",
              "      <td>NaN</td>\n",
              "      <td>NaN</td>\n",
              "      <td>NaN</td>\n",
              "      <td>NaN</td>\n",
              "      <td>0.0</td>\n",
              "      <td>0.327</td>\n",
              "    </tr>\n",
              "    <tr>\n",
              "      <th>2019-10-07 14:10:00</th>\n",
              "      <td>NaN</td>\n",
              "      <td>NaN</td>\n",
              "      <td>NaN</td>\n",
              "      <td>NaN</td>\n",
              "      <td>0.0</td>\n",
              "      <td>0.341</td>\n",
              "    </tr>\n",
              "    <tr>\n",
              "      <th>2019-10-07 14:11:00</th>\n",
              "      <td>NaN</td>\n",
              "      <td>NaN</td>\n",
              "      <td>NaN</td>\n",
              "      <td>NaN</td>\n",
              "      <td>0.0</td>\n",
              "      <td>0.000</td>\n",
              "    </tr>\n",
              "    <tr>\n",
              "      <th>2019-10-07 14:12:00</th>\n",
              "      <td>NaN</td>\n",
              "      <td>NaN</td>\n",
              "      <td>NaN</td>\n",
              "      <td>NaN</td>\n",
              "      <td>0.0</td>\n",
              "      <td>0.000</td>\n",
              "    </tr>\n",
              "    <tr>\n",
              "      <th>2019-10-07 14:13:00</th>\n",
              "      <td>NaN</td>\n",
              "      <td>NaN</td>\n",
              "      <td>NaN</td>\n",
              "      <td>NaN</td>\n",
              "      <td>0.0</td>\n",
              "      <td>0.000</td>\n",
              "    </tr>\n",
              "    <tr>\n",
              "      <th>...</th>\n",
              "      <td>...</td>\n",
              "      <td>...</td>\n",
              "      <td>...</td>\n",
              "      <td>...</td>\n",
              "      <td>...</td>\n",
              "      <td>...</td>\n",
              "    </tr>\n",
              "    <tr>\n",
              "      <th>2019-10-24 05:54:00</th>\n",
              "      <td>NaN</td>\n",
              "      <td>30.45</td>\n",
              "      <td>NaN</td>\n",
              "      <td>NaN</td>\n",
              "      <td>0.0</td>\n",
              "      <td>NaN</td>\n",
              "    </tr>\n",
              "    <tr>\n",
              "      <th>2019-10-24 05:55:00</th>\n",
              "      <td>NaN</td>\n",
              "      <td>30.50</td>\n",
              "      <td>NaN</td>\n",
              "      <td>NaN</td>\n",
              "      <td>0.0</td>\n",
              "      <td>NaN</td>\n",
              "    </tr>\n",
              "    <tr>\n",
              "      <th>2019-10-24 05:56:00</th>\n",
              "      <td>NaN</td>\n",
              "      <td>31.00</td>\n",
              "      <td>NaN</td>\n",
              "      <td>NaN</td>\n",
              "      <td>0.0</td>\n",
              "      <td>NaN</td>\n",
              "    </tr>\n",
              "    <tr>\n",
              "      <th>2019-10-24 05:57:00</th>\n",
              "      <td>NaN</td>\n",
              "      <td>30.50</td>\n",
              "      <td>NaN</td>\n",
              "      <td>NaN</td>\n",
              "      <td>0.0</td>\n",
              "      <td>NaN</td>\n",
              "    </tr>\n",
              "    <tr>\n",
              "      <th>2019-10-24 05:58:00</th>\n",
              "      <td>NaN</td>\n",
              "      <td>30.50</td>\n",
              "      <td>NaN</td>\n",
              "      <td>NaN</td>\n",
              "      <td>0.0</td>\n",
              "      <td>NaN</td>\n",
              "    </tr>\n",
              "  </tbody>\n",
              "</table>\n",
              "<p>23990 rows × 6 columns</p>\n",
              "</div>"
            ],
            "text/plain": [
              "                     humidity_out  humidity_in  ...  ac_pow_power  ac_pow_current\n",
              "statetime                                       ...                              \n",
              "2019-10-07 14:09:00           NaN          NaN  ...           0.0           0.327\n",
              "2019-10-07 14:10:00           NaN          NaN  ...           0.0           0.341\n",
              "2019-10-07 14:11:00           NaN          NaN  ...           0.0           0.000\n",
              "2019-10-07 14:12:00           NaN          NaN  ...           0.0           0.000\n",
              "2019-10-07 14:13:00           NaN          NaN  ...           0.0           0.000\n",
              "...                           ...          ...  ...           ...             ...\n",
              "2019-10-24 05:54:00           NaN        30.45  ...           0.0             NaN\n",
              "2019-10-24 05:55:00           NaN        30.50  ...           0.0             NaN\n",
              "2019-10-24 05:56:00           NaN        31.00  ...           0.0             NaN\n",
              "2019-10-24 05:57:00           NaN        30.50  ...           0.0             NaN\n",
              "2019-10-24 05:58:00           NaN        30.50  ...           0.0             NaN\n",
              "\n",
              "[23990 rows x 6 columns]"
            ]
          },
          "metadata": {
            "tags": []
          },
          "execution_count": 232
        }
      ]
    },
    {
      "cell_type": "code",
      "metadata": {
        "id": "m-4zIk_1nZ3j",
        "colab_type": "code",
        "colab": {}
      },
      "source": [
        "# Data frame που περιλαμβάνει τις κοινές σειρές με humidity out και temperature out προκειμένου να εκπαιδευτούν\n",
        "df1 = df_hum_out.merge(df_temp_out, on='statetime', how='inner', sort=True)"
      ],
      "execution_count": 0,
      "outputs": []
    },
    {
      "cell_type": "code",
      "metadata": {
        "id": "B6eiGj5vnnVk",
        "colab_type": "code",
        "outputId": "8ca7855f-f725-4093-f82f-6e79e3348fa3",
        "colab": {
          "base_uri": "https://localhost:8080/",
          "height": 455
        }
      },
      "source": [
        "df1"
      ],
      "execution_count": 0,
      "outputs": [
        {
          "output_type": "execute_result",
          "data": {
            "text/html": [
              "<div>\n",
              "<style scoped>\n",
              "    .dataframe tbody tr th:only-of-type {\n",
              "        vertical-align: middle;\n",
              "    }\n",
              "\n",
              "    .dataframe tbody tr th {\n",
              "        vertical-align: top;\n",
              "    }\n",
              "\n",
              "    .dataframe thead th {\n",
              "        text-align: right;\n",
              "    }\n",
              "</style>\n",
              "<table border=\"1\" class=\"dataframe\">\n",
              "  <thead>\n",
              "    <tr style=\"text-align: right;\">\n",
              "      <th></th>\n",
              "      <th>humidity_out</th>\n",
              "      <th>temp_out</th>\n",
              "    </tr>\n",
              "    <tr>\n",
              "      <th>statetime</th>\n",
              "      <th></th>\n",
              "      <th></th>\n",
              "    </tr>\n",
              "  </thead>\n",
              "  <tbody>\n",
              "    <tr>\n",
              "      <th>2019-10-20 04:47:00</th>\n",
              "      <td>19.5</td>\n",
              "      <td>22.000000</td>\n",
              "    </tr>\n",
              "    <tr>\n",
              "      <th>2019-10-20 04:48:00</th>\n",
              "      <td>19.4</td>\n",
              "      <td>22.034483</td>\n",
              "    </tr>\n",
              "    <tr>\n",
              "      <th>2019-10-20 04:49:00</th>\n",
              "      <td>19.3</td>\n",
              "      <td>22.068966</td>\n",
              "    </tr>\n",
              "    <tr>\n",
              "      <th>2019-10-20 04:50:00</th>\n",
              "      <td>19.2</td>\n",
              "      <td>22.103448</td>\n",
              "    </tr>\n",
              "    <tr>\n",
              "      <th>2019-10-20 04:51:00</th>\n",
              "      <td>19.1</td>\n",
              "      <td>22.137931</td>\n",
              "    </tr>\n",
              "    <tr>\n",
              "      <th>...</th>\n",
              "      <td>...</td>\n",
              "      <td>...</td>\n",
              "    </tr>\n",
              "    <tr>\n",
              "      <th>2019-10-24 04:39:00</th>\n",
              "      <td>18.0</td>\n",
              "      <td>20.000000</td>\n",
              "    </tr>\n",
              "    <tr>\n",
              "      <th>2019-10-24 04:40:00</th>\n",
              "      <td>17.0</td>\n",
              "      <td>21.000000</td>\n",
              "    </tr>\n",
              "    <tr>\n",
              "      <th>2019-10-24 04:41:00</th>\n",
              "      <td>18.0</td>\n",
              "      <td>20.000000</td>\n",
              "    </tr>\n",
              "    <tr>\n",
              "      <th>2019-10-24 04:42:00</th>\n",
              "      <td>17.5</td>\n",
              "      <td>20.500000</td>\n",
              "    </tr>\n",
              "    <tr>\n",
              "      <th>2019-10-24 04:43:00</th>\n",
              "      <td>17.0</td>\n",
              "      <td>21.000000</td>\n",
              "    </tr>\n",
              "  </tbody>\n",
              "</table>\n",
              "<p>5757 rows × 2 columns</p>\n",
              "</div>"
            ],
            "text/plain": [
              "                     humidity_out   temp_out\n",
              "statetime                                   \n",
              "2019-10-20 04:47:00          19.5  22.000000\n",
              "2019-10-20 04:48:00          19.4  22.034483\n",
              "2019-10-20 04:49:00          19.3  22.068966\n",
              "2019-10-20 04:50:00          19.2  22.103448\n",
              "2019-10-20 04:51:00          19.1  22.137931\n",
              "...                           ...        ...\n",
              "2019-10-24 04:39:00          18.0  20.000000\n",
              "2019-10-24 04:40:00          17.0  21.000000\n",
              "2019-10-24 04:41:00          18.0  20.000000\n",
              "2019-10-24 04:42:00          17.5  20.500000\n",
              "2019-10-24 04:43:00          17.0  21.000000\n",
              "\n",
              "[5757 rows x 2 columns]"
            ]
          },
          "metadata": {
            "tags": []
          },
          "execution_count": 234
        }
      ]
    },
    {
      "cell_type": "code",
      "metadata": {
        "id": "GcMFlY8SZ5dz",
        "colab_type": "code",
        "outputId": "0cc7ac03-b257-41db-f2f9-c3ca98897c60",
        "colab": {
          "base_uri": "https://localhost:8080/",
          "height": 283
        }
      },
      "source": [
        "plt.scatter(df1['humidity_out'], df1['temp_out'])"
      ],
      "execution_count": 0,
      "outputs": [
        {
          "output_type": "execute_result",
          "data": {
            "text/plain": [
              "<matplotlib.collections.PathCollection at 0x7f9dcba8b128>"
            ]
          },
          "metadata": {
            "tags": []
          },
          "execution_count": 235
        },
        {
          "output_type": "display_data",
          "data": {
            "image/png": "[encoded data removed]",
            "text/plain": [
              "<Figure size 432x288 with 1 Axes>"
            ]
          },
          "metadata": {
            "tags": []
          }
        }
      ]
    },
    {
      "cell_type": "code",
      "metadata": {
        "id": "vBpxGPxhZ_To",
        "colab_type": "code",
        "colab": {}
      },
      "source": [
        "# Εδώ ξεκινάει το linear regression μεταξύ humidity out και temperature out\n",
        "X = df1.humidity_out.values.reshape((-1,1))\n",
        "y = df1.temp_out"
      ],
      "execution_count": 0,
      "outputs": []
    },
    {
      "cell_type": "code",
      "metadata": {
        "id": "ZxPjMvQYaD1T",
        "colab_type": "code",
        "colab": {}
      },
      "source": [
        "model = LinearRegression()\n",
        "X_train, X_test, y_train, y_test = train_test_split(X, y, test_size=0.3)"
      ],
      "execution_count": 0,
      "outputs": []
    },
    {
      "cell_type": "code",
      "metadata": {
        "id": "wfTY5RGzaGVC",
        "colab_type": "code",
        "colab": {}
      },
      "source": [
        "model = model.fit(X_train,y_train)"
      ],
      "execution_count": 0,
      "outputs": []
    },
    {
      "cell_type": "code",
      "metadata": {
        "id": "MkCNnWIoaJeO",
        "colab_type": "code",
        "outputId": "af439331-c748-43b3-c746-024c7fdccd23",
        "colab": {
          "base_uri": "https://localhost:8080/",
          "height": 35
        }
      },
      "source": [
        "r_sq = model.score(X_train, y_train)   #oso kalytero regression toso o r^2 coefficient teinei sthn monada\n",
        "print('coefficient of determination:', r_sq)"
      ],
      "execution_count": 0,
      "outputs": [
        {
          "output_type": "stream",
          "text": [
            "coefficient of determination: 0.9593461987702265\n"
          ],
          "name": "stdout"
        }
      ]
    },
    {
      "cell_type": "code",
      "metadata": {
        "id": "qHzxeLCmaLrs",
        "colab_type": "code",
        "outputId": "14f33dcb-f665-4ca1-8a38-d7665b12fe86",
        "colab": {
          "base_uri": "https://localhost:8080/",
          "height": 54
        }
      },
      "source": [
        "print('intercept:', model.intercept_)\n",
        "print('slope:', model.coef_)"
      ],
      "execution_count": 0,
      "outputs": [
        {
          "output_type": "stream",
          "text": [
            "intercept: 53.48433726393118\n",
            "slope: [-1.8249046]\n"
          ],
          "name": "stdout"
        }
      ]
    },
    {
      "cell_type": "code",
      "metadata": {
        "id": "g38rd3MSaNek",
        "colab_type": "code",
        "outputId": "1971bb0e-7f60-487d-ba5a-579a35a303b9",
        "colab": {
          "base_uri": "https://localhost:8080/",
          "height": 72
        }
      },
      "source": [
        "y_pred = model.predict(X_test)\n",
        "print('predicted response:', y_pred, sep='\\n')"
      ],
      "execution_count": 0,
      "outputs": [
        {
          "output_type": "stream",
          "text": [
            "predicted response:\n",
            "[31.47813476 21.70745011 22.24723154 ... 22.46095911 24.99227839\n",
            " 27.39057152]\n"
          ],
          "name": "stdout"
        }
      ]
    },
    {
      "cell_type": "code",
      "metadata": {
        "id": "zPnmwbXraRrp",
        "colab_type": "code",
        "outputId": "23730f00-22b7-449f-f899-78e453de1f2a",
        "colab": {
          "base_uri": "https://localhost:8080/",
          "height": 35
        }
      },
      "source": [
        "print(\"MSE:\",metrics.mean_squared_error(y_test, y_pred))"
      ],
      "execution_count": 0,
      "outputs": [
        {
          "output_type": "stream",
          "text": [
            "MSE: 1.1899611702257331\n"
          ],
          "name": "stdout"
        }
      ]
    },
    {
      "cell_type": "code",
      "metadata": {
        "id": "ygvxlbXjaUnd",
        "colab_type": "code",
        "outputId": "6de218ba-436e-4f3e-a2c5-1a11d07de938",
        "colab": {
          "base_uri": "https://localhost:8080/",
          "height": 265
        }
      },
      "source": [
        "plt.scatter(X, y)\n",
        "plt.plot(X_test, y_pred, color='red')\n",
        "plt.show()"
      ],
      "execution_count": 0,
      "outputs": [
        {
          "output_type": "display_data",
          "data": {
            "image/png": "[encoded data removed]",
            "text/plain": [
              "<Figure size 432x288 with 1 Axes>"
            ]
          },
          "metadata": {
            "tags": []
          }
        }
      ]
    },
    {
      "cell_type": "code",
      "metadata": {
        "id": "-EwFO8odbVE2",
        "colab_type": "code",
        "outputId": "8f01a472-da94-4532-dec9-bb5229ec1c84",
        "colab": {
          "base_uri": "https://localhost:8080/",
          "height": 35
        }
      },
      "source": [
        "# Αφαιρούμε τις σειρές που το humidity out είναι NaN στο dff\n",
        "dff = dff.dropna(subset=['humidity_out'])\n",
        "dff.humidity_out.isnull().sum()\n",
        "#me ayton ton tropo kratame sto dff mono 19-24 oct"
      ],
      "execution_count": 0,
      "outputs": [
        {
          "output_type": "execute_result",
          "data": {
            "text/plain": [
              "0"
            ]
          },
          "metadata": {
            "tags": []
          },
          "execution_count": 244
        }
      ]
    },
    {
      "cell_type": "code",
      "metadata": {
        "id": "zmJnVbQSirMC",
        "colab_type": "code",
        "outputId": "67de9c48-89b7-4c7d-ff26-8997a6b53cda",
        "colab": {
          "base_uri": "https://localhost:8080/",
          "height": 455
        }
      },
      "source": [
        "dff"
      ],
      "execution_count": 0,
      "outputs": [
        {
          "output_type": "execute_result",
          "data": {
            "text/html": [
              "<div>\n",
              "<style scoped>\n",
              "    .dataframe tbody tr th:only-of-type {\n",
              "        vertical-align: middle;\n",
              "    }\n",
              "\n",
              "    .dataframe tbody tr th {\n",
              "        vertical-align: top;\n",
              "    }\n",
              "\n",
              "    .dataframe thead th {\n",
              "        text-align: right;\n",
              "    }\n",
              "</style>\n",
              "<table border=\"1\" class=\"dataframe\">\n",
              "  <thead>\n",
              "    <tr style=\"text-align: right;\">\n",
              "      <th></th>\n",
              "      <th>humidity_out</th>\n",
              "      <th>humidity_in</th>\n",
              "      <th>temp_in</th>\n",
              "      <th>temp_out</th>\n",
              "      <th>ac_pow_power</th>\n",
              "      <th>ac_pow_current</th>\n",
              "    </tr>\n",
              "    <tr>\n",
              "      <th>statetime</th>\n",
              "      <th></th>\n",
              "      <th></th>\n",
              "      <th></th>\n",
              "      <th></th>\n",
              "      <th></th>\n",
              "      <th></th>\n",
              "    </tr>\n",
              "  </thead>\n",
              "  <tbody>\n",
              "    <tr>\n",
              "      <th>2019-10-19 15:18:00</th>\n",
              "      <td>14.500000</td>\n",
              "      <td>NaN</td>\n",
              "      <td>NaN</td>\n",
              "      <td>NaN</td>\n",
              "      <td>0.0</td>\n",
              "      <td>0.0</td>\n",
              "    </tr>\n",
              "    <tr>\n",
              "      <th>2019-10-19 15:19:00</th>\n",
              "      <td>14.785714</td>\n",
              "      <td>NaN</td>\n",
              "      <td>NaN</td>\n",
              "      <td>NaN</td>\n",
              "      <td>0.0</td>\n",
              "      <td>0.0</td>\n",
              "    </tr>\n",
              "    <tr>\n",
              "      <th>2019-10-19 15:20:00</th>\n",
              "      <td>15.071429</td>\n",
              "      <td>NaN</td>\n",
              "      <td>NaN</td>\n",
              "      <td>NaN</td>\n",
              "      <td>0.0</td>\n",
              "      <td>0.0</td>\n",
              "    </tr>\n",
              "    <tr>\n",
              "      <th>2019-10-19 15:21:00</th>\n",
              "      <td>15.357143</td>\n",
              "      <td>NaN</td>\n",
              "      <td>NaN</td>\n",
              "      <td>NaN</td>\n",
              "      <td>0.0</td>\n",
              "      <td>0.0</td>\n",
              "    </tr>\n",
              "    <tr>\n",
              "      <th>2019-10-19 15:22:00</th>\n",
              "      <td>15.642857</td>\n",
              "      <td>NaN</td>\n",
              "      <td>NaN</td>\n",
              "      <td>NaN</td>\n",
              "      <td>0.0</td>\n",
              "      <td>0.0</td>\n",
              "    </tr>\n",
              "    <tr>\n",
              "      <th>...</th>\n",
              "      <td>...</td>\n",
              "      <td>...</td>\n",
              "      <td>...</td>\n",
              "      <td>...</td>\n",
              "      <td>...</td>\n",
              "      <td>...</td>\n",
              "    </tr>\n",
              "    <tr>\n",
              "      <th>2019-10-24 04:39:00</th>\n",
              "      <td>18.000000</td>\n",
              "      <td>31.807692</td>\n",
              "      <td>28.393906</td>\n",
              "      <td>20.0</td>\n",
              "      <td>0.0</td>\n",
              "      <td>NaN</td>\n",
              "    </tr>\n",
              "    <tr>\n",
              "      <th>2019-10-24 04:40:00</th>\n",
              "      <td>17.000000</td>\n",
              "      <td>31.794872</td>\n",
              "      <td>28.394044</td>\n",
              "      <td>21.0</td>\n",
              "      <td>0.0</td>\n",
              "      <td>NaN</td>\n",
              "    </tr>\n",
              "    <tr>\n",
              "      <th>2019-10-24 04:41:00</th>\n",
              "      <td>18.000000</td>\n",
              "      <td>31.782051</td>\n",
              "      <td>28.394183</td>\n",
              "      <td>20.0</td>\n",
              "      <td>0.0</td>\n",
              "      <td>NaN</td>\n",
              "    </tr>\n",
              "    <tr>\n",
              "      <th>2019-10-24 04:42:00</th>\n",
              "      <td>17.500000</td>\n",
              "      <td>31.769231</td>\n",
              "      <td>28.394321</td>\n",
              "      <td>20.5</td>\n",
              "      <td>0.0</td>\n",
              "      <td>NaN</td>\n",
              "    </tr>\n",
              "    <tr>\n",
              "      <th>2019-10-24 04:43:00</th>\n",
              "      <td>17.000000</td>\n",
              "      <td>31.756410</td>\n",
              "      <td>28.394460</td>\n",
              "      <td>21.0</td>\n",
              "      <td>0.0</td>\n",
              "      <td>NaN</td>\n",
              "    </tr>\n",
              "  </tbody>\n",
              "</table>\n",
              "<p>6566 rows × 6 columns</p>\n",
              "</div>"
            ],
            "text/plain": [
              "                     humidity_out  humidity_in  ...  ac_pow_power  ac_pow_current\n",
              "statetime                                       ...                              \n",
              "2019-10-19 15:18:00     14.500000          NaN  ...           0.0             0.0\n",
              "2019-10-19 15:19:00     14.785714          NaN  ...           0.0             0.0\n",
              "2019-10-19 15:20:00     15.071429          NaN  ...           0.0             0.0\n",
              "2019-10-19 15:21:00     15.357143          NaN  ...           0.0             0.0\n",
              "2019-10-19 15:22:00     15.642857          NaN  ...           0.0             0.0\n",
              "...                           ...          ...  ...           ...             ...\n",
              "2019-10-24 04:39:00     18.000000    31.807692  ...           0.0             NaN\n",
              "2019-10-24 04:40:00     17.000000    31.794872  ...           0.0             NaN\n",
              "2019-10-24 04:41:00     18.000000    31.782051  ...           0.0             NaN\n",
              "2019-10-24 04:42:00     17.500000    31.769231  ...           0.0             NaN\n",
              "2019-10-24 04:43:00     17.000000    31.756410  ...           0.0             NaN\n",
              "\n",
              "[6566 rows x 6 columns]"
            ]
          },
          "metadata": {
            "tags": []
          },
          "execution_count": 245
        }
      ]
    },
    {
      "cell_type": "code",
      "metadata": {
        "id": "O9OAGwHsqPnx",
        "colab_type": "code",
        "outputId": "019bb5c7-b61d-4856-fbfc-f98a15fea1f4",
        "colab": {
          "base_uri": "https://localhost:8080/",
          "height": 127
        }
      },
      "source": [
        "# Φτιάχνουμε μια κενή στήλη για να βάλουμε τις καινούργιες τιμές \n",
        "# που θα προκύψουν για το temperature out από το regression\n",
        "from numpy import nan\n",
        "dff['new_temp_out'] = np.nan   "
      ],
      "execution_count": 0,
      "outputs": [
        {
          "output_type": "stream",
          "text": [
            "/usr/local/lib/python3.6/dist-packages/ipykernel_launcher.py:2: SettingWithCopyWarning: \n",
            "A value is trying to be set on a copy of a slice from a DataFrame.\n",
            "Try using .loc[row_indexer,col_indexer] = value instead\n",
            "\n",
            "See the caveats in the documentation: http://pandas.pydata.org/pandas-docs/stable/user_guide/indexing.html#returning-a-view-versus-a-copy\n",
            "  \n"
          ],
          "name": "stderr"
        }
      ]
    },
    {
      "cell_type": "code",
      "metadata": {
        "id": "Yr1Yk2bRbmJC",
        "colab_type": "code",
        "outputId": "79c4ff08-4158-49f6-eae8-d4b75e26880f",
        "colab": {
          "base_uri": "https://localhost:8080/",
          "height": 127
        }
      },
      "source": [
        "dff['new_temp_out'] = model.predict(dff.humidity_out.values.reshape((-1,1))) "
      ],
      "execution_count": 0,
      "outputs": [
        {
          "output_type": "stream",
          "text": [
            "/usr/local/lib/python3.6/dist-packages/ipykernel_launcher.py:1: SettingWithCopyWarning: \n",
            "A value is trying to be set on a copy of a slice from a DataFrame.\n",
            "Try using .loc[row_indexer,col_indexer] = value instead\n",
            "\n",
            "See the caveats in the documentation: http://pandas.pydata.org/pandas-docs/stable/user_guide/indexing.html#returning-a-view-versus-a-copy\n",
            "  \"\"\"Entry point for launching an IPython kernel.\n"
          ],
          "name": "stderr"
        }
      ]
    },
    {
      "cell_type": "code",
      "metadata": {
        "id": "VtVXKQs-1pCG",
        "colab_type": "code",
        "outputId": "66ab228d-eb26-4409-f947-1ad90da1557a",
        "colab": {
          "base_uri": "https://localhost:8080/",
          "height": 109
        }
      },
      "source": [
        "# Συμπληρώνουμε τα κενά κελιά του temp_out με τις καινούργιες τιμές που βρήκαμε από το new_temp_out\n",
        "for i in range(0, len(dff)):\n",
        "  if math.isnan(dff['temp_out'][i]):\n",
        "    dff['temp_out'][i] = dff['new_temp_out'][i]  "
      ],
      "execution_count": 0,
      "outputs": [
        {
          "output_type": "stream",
          "text": [
            "/usr/local/lib/python3.6/dist-packages/IPython/core/interactiveshell.py:2882: SettingWithCopyWarning: \n",
            "A value is trying to be set on a copy of a slice from a DataFrame\n",
            "\n",
            "See the caveats in the documentation: http://pandas.pydata.org/pandas-docs/stable/user_guide/indexing.html#returning-a-view-versus-a-copy\n",
            "  exec(code_obj, self.user_global_ns, self.user_ns)\n"
          ],
          "name": "stderr"
        }
      ]
    },
    {
      "cell_type": "code",
      "metadata": {
        "id": "51cLY4rzM3OS",
        "colab_type": "code",
        "outputId": "d2c24b23-bf2f-4d39-daa3-6bb2b7e4e7e3",
        "colab": {
          "base_uri": "https://localhost:8080/",
          "height": 283
        }
      },
      "source": [
        "plt.plot(dff['temp_out'])\n",
        "plt.plot(dff['new_temp_out']) "
      ],
      "execution_count": 0,
      "outputs": [
        {
          "output_type": "execute_result",
          "data": {
            "text/plain": [
              "[<matplotlib.lines.Line2D at 0x7f9dce2ad0f0>]"
            ]
          },
          "metadata": {
            "tags": []
          },
          "execution_count": 249
        },
        {
          "output_type": "display_data",
          "data": {
            "image/png": "[encoded data removed]",
            "text/plain": [
              "<Figure size 432x288 with 1 Axes>"
            ]
          },
          "metadata": {
            "tags": []
          }
        }
      ]
    },
    {
      "cell_type": "code",
      "metadata": {
        "id": "VSqEC1C-PKpy",
        "colab_type": "code",
        "colab": {}
      },
      "source": [
        "# Αφαιρούμε τη στήλη new_temp_out\n",
        "dff = dff.drop(columns='new_temp_out')"
      ],
      "execution_count": 0,
      "outputs": []
    },
    {
      "cell_type": "code",
      "metadata": {
        "id": "0JW1Ze6yhRTL",
        "colab_type": "code",
        "outputId": "c6564ddb-6a85-4270-bf04-5dc1c0c0e8ce",
        "colab": {
          "base_uri": "https://localhost:8080/",
          "height": 283
        }
      },
      "source": [
        "plt.plot(dff['humidity_out']['2019-10-20 05:00:00':'2019-10-24 04:43:00'])\n",
        "plt.plot(dff['temp_out']['2019-10-20 05:00:00':'2019-10-24 04:43:00'])"
      ],
      "execution_count": 0,
      "outputs": [
        {
          "output_type": "execute_result",
          "data": {
            "text/plain": [
              "[<matplotlib.lines.Line2D at 0x7f9dcb1a2ef0>]"
            ]
          },
          "metadata": {
            "tags": []
          },
          "execution_count": 251
        },
        {
          "output_type": "display_data",
          "data": {
            "image/png": "[encoded data removed]",
            "text/plain": [
              "<Figure size 432x288 with 1 Axes>"
            ]
          },
          "metadata": {
            "tags": []
          }
        }
      ]
    },
    {
      "cell_type": "code",
      "metadata": {
        "id": "t9_89aoi1gye",
        "colab_type": "code",
        "colab": {}
      },
      "source": [
        "dff = dff['2019-10-20 18:00:00':'2019-10-24 04:43:00']\n",
        "#dff = dff['2019-10-20 05:00:00':'2019-10-24 04:43:00']\n",
        "#αφαίρεση μετρήσσων λόγω απρόβλεπτων τιμών υγεσίας της ημέρας 19/10 (βροχή, ελλιπή δεδομένα)"
      ],
      "execution_count": 0,
      "outputs": []
    },
    {
      "cell_type": "code",
      "metadata": {
        "id": "JDXESoeh2Ich",
        "colab_type": "code",
        "outputId": "71bd555c-54b2-47ad-b044-f02acad5f31d",
        "colab": {
          "base_uri": "https://localhost:8080/",
          "height": 455
        }
      },
      "source": [
        "dff"
      ],
      "execution_count": 0,
      "outputs": [
        {
          "output_type": "execute_result",
          "data": {
            "text/html": [
              "<div>\n",
              "<style scoped>\n",
              "    .dataframe tbody tr th:only-of-type {\n",
              "        vertical-align: middle;\n",
              "    }\n",
              "\n",
              "    .dataframe tbody tr th {\n",
              "        vertical-align: top;\n",
              "    }\n",
              "\n",
              "    .dataframe thead th {\n",
              "        text-align: right;\n",
              "    }\n",
              "</style>\n",
              "<table border=\"1\" class=\"dataframe\">\n",
              "  <thead>\n",
              "    <tr style=\"text-align: right;\">\n",
              "      <th></th>\n",
              "      <th>humidity_out</th>\n",
              "      <th>humidity_in</th>\n",
              "      <th>temp_in</th>\n",
              "      <th>temp_out</th>\n",
              "      <th>ac_pow_power</th>\n",
              "      <th>ac_pow_current</th>\n",
              "    </tr>\n",
              "    <tr>\n",
              "      <th>statetime</th>\n",
              "      <th></th>\n",
              "      <th></th>\n",
              "      <th></th>\n",
              "      <th></th>\n",
              "      <th></th>\n",
              "      <th></th>\n",
              "    </tr>\n",
              "  </thead>\n",
              "  <tbody>\n",
              "    <tr>\n",
              "      <th>2019-10-20 18:00:00</th>\n",
              "      <td>15.694030</td>\n",
              "      <td>NaN</td>\n",
              "      <td>NaN</td>\n",
              "      <td>25.537037</td>\n",
              "      <td>0.0</td>\n",
              "      <td>0.0</td>\n",
              "    </tr>\n",
              "    <tr>\n",
              "      <th>2019-10-20 18:01:00</th>\n",
              "      <td>15.686567</td>\n",
              "      <td>NaN</td>\n",
              "      <td>NaN</td>\n",
              "      <td>25.527778</td>\n",
              "      <td>0.0</td>\n",
              "      <td>0.0</td>\n",
              "    </tr>\n",
              "    <tr>\n",
              "      <th>2019-10-20 18:02:00</th>\n",
              "      <td>15.679104</td>\n",
              "      <td>NaN</td>\n",
              "      <td>NaN</td>\n",
              "      <td>25.518519</td>\n",
              "      <td>0.0</td>\n",
              "      <td>0.0</td>\n",
              "    </tr>\n",
              "    <tr>\n",
              "      <th>2019-10-20 18:03:00</th>\n",
              "      <td>15.671642</td>\n",
              "      <td>NaN</td>\n",
              "      <td>NaN</td>\n",
              "      <td>25.509259</td>\n",
              "      <td>0.0</td>\n",
              "      <td>0.0</td>\n",
              "    </tr>\n",
              "    <tr>\n",
              "      <th>2019-10-20 18:04:00</th>\n",
              "      <td>15.664179</td>\n",
              "      <td>NaN</td>\n",
              "      <td>NaN</td>\n",
              "      <td>25.500000</td>\n",
              "      <td>0.0</td>\n",
              "      <td>0.0</td>\n",
              "    </tr>\n",
              "    <tr>\n",
              "      <th>...</th>\n",
              "      <td>...</td>\n",
              "      <td>...</td>\n",
              "      <td>...</td>\n",
              "      <td>...</td>\n",
              "      <td>...</td>\n",
              "      <td>...</td>\n",
              "    </tr>\n",
              "    <tr>\n",
              "      <th>2019-10-24 04:39:00</th>\n",
              "      <td>18.000000</td>\n",
              "      <td>31.807692</td>\n",
              "      <td>28.393906</td>\n",
              "      <td>20.000000</td>\n",
              "      <td>0.0</td>\n",
              "      <td>NaN</td>\n",
              "    </tr>\n",
              "    <tr>\n",
              "      <th>2019-10-24 04:40:00</th>\n",
              "      <td>17.000000</td>\n",
              "      <td>31.794872</td>\n",
              "      <td>28.394044</td>\n",
              "      <td>21.000000</td>\n",
              "      <td>0.0</td>\n",
              "      <td>NaN</td>\n",
              "    </tr>\n",
              "    <tr>\n",
              "      <th>2019-10-24 04:41:00</th>\n",
              "      <td>18.000000</td>\n",
              "      <td>31.782051</td>\n",
              "      <td>28.394183</td>\n",
              "      <td>20.000000</td>\n",
              "      <td>0.0</td>\n",
              "      <td>NaN</td>\n",
              "    </tr>\n",
              "    <tr>\n",
              "      <th>2019-10-24 04:42:00</th>\n",
              "      <td>17.500000</td>\n",
              "      <td>31.769231</td>\n",
              "      <td>28.394321</td>\n",
              "      <td>20.500000</td>\n",
              "      <td>0.0</td>\n",
              "      <td>NaN</td>\n",
              "    </tr>\n",
              "    <tr>\n",
              "      <th>2019-10-24 04:43:00</th>\n",
              "      <td>17.000000</td>\n",
              "      <td>31.756410</td>\n",
              "      <td>28.394460</td>\n",
              "      <td>21.000000</td>\n",
              "      <td>0.0</td>\n",
              "      <td>NaN</td>\n",
              "    </tr>\n",
              "  </tbody>\n",
              "</table>\n",
              "<p>4964 rows × 6 columns</p>\n",
              "</div>"
            ],
            "text/plain": [
              "                     humidity_out  humidity_in  ...  ac_pow_power  ac_pow_current\n",
              "statetime                                       ...                              \n",
              "2019-10-20 18:00:00     15.694030          NaN  ...           0.0             0.0\n",
              "2019-10-20 18:01:00     15.686567          NaN  ...           0.0             0.0\n",
              "2019-10-20 18:02:00     15.679104          NaN  ...           0.0             0.0\n",
              "2019-10-20 18:03:00     15.671642          NaN  ...           0.0             0.0\n",
              "2019-10-20 18:04:00     15.664179          NaN  ...           0.0             0.0\n",
              "...                           ...          ...  ...           ...             ...\n",
              "2019-10-24 04:39:00     18.000000    31.807692  ...           0.0             NaN\n",
              "2019-10-24 04:40:00     17.000000    31.794872  ...           0.0             NaN\n",
              "2019-10-24 04:41:00     18.000000    31.782051  ...           0.0             NaN\n",
              "2019-10-24 04:42:00     17.500000    31.769231  ...           0.0             NaN\n",
              "2019-10-24 04:43:00     17.000000    31.756410  ...           0.0             NaN\n",
              "\n",
              "[4964 rows x 6 columns]"
            ]
          },
          "metadata": {
            "tags": []
          },
          "execution_count": 253
        }
      ]
    },
    {
      "cell_type": "code",
      "metadata": {
        "id": "pvglzP7W9i07",
        "colab_type": "code",
        "outputId": "d18a47d2-4f64-44e8-ed8b-3aa04012bc59",
        "colab": {
          "base_uri": "https://localhost:8080/",
          "height": 238
        }
      },
      "source": [
        "dff.corr()"
      ],
      "execution_count": 0,
      "outputs": [
        {
          "output_type": "execute_result",
          "data": {
            "text/html": [
              "<div>\n",
              "<style scoped>\n",
              "    .dataframe tbody tr th:only-of-type {\n",
              "        vertical-align: middle;\n",
              "    }\n",
              "\n",
              "    .dataframe tbody tr th {\n",
              "        vertical-align: top;\n",
              "    }\n",
              "\n",
              "    .dataframe thead th {\n",
              "        text-align: right;\n",
              "    }\n",
              "</style>\n",
              "<table border=\"1\" class=\"dataframe\">\n",
              "  <thead>\n",
              "    <tr style=\"text-align: right;\">\n",
              "      <th></th>\n",
              "      <th>humidity_out</th>\n",
              "      <th>humidity_in</th>\n",
              "      <th>temp_in</th>\n",
              "      <th>temp_out</th>\n",
              "      <th>ac_pow_power</th>\n",
              "      <th>ac_pow_current</th>\n",
              "    </tr>\n",
              "  </thead>\n",
              "  <tbody>\n",
              "    <tr>\n",
              "      <th>humidity_out</th>\n",
              "      <td>1.000000</td>\n",
              "      <td>-0.843282</td>\n",
              "      <td>0.752275</td>\n",
              "      <td>-0.989026</td>\n",
              "      <td>-0.230930</td>\n",
              "      <td>-0.243577</td>\n",
              "    </tr>\n",
              "    <tr>\n",
              "      <th>humidity_in</th>\n",
              "      <td>-0.843282</td>\n",
              "      <td>1.000000</td>\n",
              "      <td>-0.861618</td>\n",
              "      <td>0.845780</td>\n",
              "      <td>0.309453</td>\n",
              "      <td>0.273954</td>\n",
              "    </tr>\n",
              "    <tr>\n",
              "      <th>temp_in</th>\n",
              "      <td>0.752275</td>\n",
              "      <td>-0.861618</td>\n",
              "      <td>1.000000</td>\n",
              "      <td>-0.758710</td>\n",
              "      <td>-0.359709</td>\n",
              "      <td>-0.385551</td>\n",
              "    </tr>\n",
              "    <tr>\n",
              "      <th>temp_out</th>\n",
              "      <td>-0.989026</td>\n",
              "      <td>0.845780</td>\n",
              "      <td>-0.758710</td>\n",
              "      <td>1.000000</td>\n",
              "      <td>0.224795</td>\n",
              "      <td>0.237266</td>\n",
              "    </tr>\n",
              "    <tr>\n",
              "      <th>ac_pow_power</th>\n",
              "      <td>-0.230930</td>\n",
              "      <td>0.309453</td>\n",
              "      <td>-0.359709</td>\n",
              "      <td>0.224795</td>\n",
              "      <td>1.000000</td>\n",
              "      <td>0.908568</td>\n",
              "    </tr>\n",
              "    <tr>\n",
              "      <th>ac_pow_current</th>\n",
              "      <td>-0.243577</td>\n",
              "      <td>0.273954</td>\n",
              "      <td>-0.385551</td>\n",
              "      <td>0.237266</td>\n",
              "      <td>0.908568</td>\n",
              "      <td>1.000000</td>\n",
              "    </tr>\n",
              "  </tbody>\n",
              "</table>\n",
              "</div>"
            ],
            "text/plain": [
              "                humidity_out  humidity_in  ...  ac_pow_power  ac_pow_current\n",
              "humidity_out        1.000000    -0.843282  ...     -0.230930       -0.243577\n",
              "humidity_in        -0.843282     1.000000  ...      0.309453        0.273954\n",
              "temp_in             0.752275    -0.861618  ...     -0.359709       -0.385551\n",
              "temp_out           -0.989026     0.845780  ...      0.224795        0.237266\n",
              "ac_pow_power       -0.230930     0.309453  ...      1.000000        0.908568\n",
              "ac_pow_current     -0.243577     0.273954  ...      0.908568        1.000000\n",
              "\n",
              "[6 rows x 6 columns]"
            ]
          },
          "metadata": {
            "tags": []
          },
          "execution_count": 254
        }
      ]
    },
    {
      "cell_type": "code",
      "metadata": {
        "id": "PfYuwgngApmB",
        "colab_type": "code",
        "colab": {}
      },
      "source": [
        "a = dff.dropna(subset=['humidity_out', 'temp_out', 'ac_pow_power', 'temp_in'])"
      ],
      "execution_count": 0,
      "outputs": []
    },
    {
      "cell_type": "code",
      "metadata": {
        "id": "DsiKyRUh3hJJ",
        "colab_type": "code",
        "outputId": "75b8427a-ea02-43bd-afe6-8835c648fb85",
        "colab": {
          "base_uri": "https://localhost:8080/",
          "height": 455
        }
      },
      "source": [
        "a"
      ],
      "execution_count": 0,
      "outputs": [
        {
          "output_type": "execute_result",
          "data": {
            "text/html": [
              "<div>\n",
              "<style scoped>\n",
              "    .dataframe tbody tr th:only-of-type {\n",
              "        vertical-align: middle;\n",
              "    }\n",
              "\n",
              "    .dataframe tbody tr th {\n",
              "        vertical-align: top;\n",
              "    }\n",
              "\n",
              "    .dataframe thead th {\n",
              "        text-align: right;\n",
              "    }\n",
              "</style>\n",
              "<table border=\"1\" class=\"dataframe\">\n",
              "  <thead>\n",
              "    <tr style=\"text-align: right;\">\n",
              "      <th></th>\n",
              "      <th>humidity_out</th>\n",
              "      <th>humidity_in</th>\n",
              "      <th>temp_in</th>\n",
              "      <th>temp_out</th>\n",
              "      <th>ac_pow_power</th>\n",
              "      <th>ac_pow_current</th>\n",
              "    </tr>\n",
              "    <tr>\n",
              "      <th>statetime</th>\n",
              "      <th></th>\n",
              "      <th></th>\n",
              "      <th></th>\n",
              "      <th></th>\n",
              "      <th></th>\n",
              "      <th></th>\n",
              "    </tr>\n",
              "  </thead>\n",
              "  <tbody>\n",
              "    <tr>\n",
              "      <th>2019-10-23 00:45:00</th>\n",
              "      <td>17.414414</td>\n",
              "      <td>NaN</td>\n",
              "      <td>28.000000</td>\n",
              "      <td>21.5</td>\n",
              "      <td>0.0</td>\n",
              "      <td>0.0</td>\n",
              "    </tr>\n",
              "    <tr>\n",
              "      <th>2019-10-23 00:46:00</th>\n",
              "      <td>17.423423</td>\n",
              "      <td>NaN</td>\n",
              "      <td>27.933333</td>\n",
              "      <td>21.5</td>\n",
              "      <td>0.0</td>\n",
              "      <td>0.0</td>\n",
              "    </tr>\n",
              "    <tr>\n",
              "      <th>2019-10-23 00:47:00</th>\n",
              "      <td>17.432432</td>\n",
              "      <td>NaN</td>\n",
              "      <td>27.950000</td>\n",
              "      <td>21.5</td>\n",
              "      <td>0.0</td>\n",
              "      <td>0.0</td>\n",
              "    </tr>\n",
              "    <tr>\n",
              "      <th>2019-10-23 00:48:00</th>\n",
              "      <td>17.441441</td>\n",
              "      <td>NaN</td>\n",
              "      <td>27.966667</td>\n",
              "      <td>21.5</td>\n",
              "      <td>0.0</td>\n",
              "      <td>0.0</td>\n",
              "    </tr>\n",
              "    <tr>\n",
              "      <th>2019-10-23 00:49:00</th>\n",
              "      <td>17.450450</td>\n",
              "      <td>NaN</td>\n",
              "      <td>27.950000</td>\n",
              "      <td>21.5</td>\n",
              "      <td>0.0</td>\n",
              "      <td>0.0</td>\n",
              "    </tr>\n",
              "    <tr>\n",
              "      <th>...</th>\n",
              "      <td>...</td>\n",
              "      <td>...</td>\n",
              "      <td>...</td>\n",
              "      <td>...</td>\n",
              "      <td>...</td>\n",
              "      <td>...</td>\n",
              "    </tr>\n",
              "    <tr>\n",
              "      <th>2019-10-24 04:39:00</th>\n",
              "      <td>18.000000</td>\n",
              "      <td>31.807692</td>\n",
              "      <td>28.393906</td>\n",
              "      <td>20.0</td>\n",
              "      <td>0.0</td>\n",
              "      <td>NaN</td>\n",
              "    </tr>\n",
              "    <tr>\n",
              "      <th>2019-10-24 04:40:00</th>\n",
              "      <td>17.000000</td>\n",
              "      <td>31.794872</td>\n",
              "      <td>28.394044</td>\n",
              "      <td>21.0</td>\n",
              "      <td>0.0</td>\n",
              "      <td>NaN</td>\n",
              "    </tr>\n",
              "    <tr>\n",
              "      <th>2019-10-24 04:41:00</th>\n",
              "      <td>18.000000</td>\n",
              "      <td>31.782051</td>\n",
              "      <td>28.394183</td>\n",
              "      <td>20.0</td>\n",
              "      <td>0.0</td>\n",
              "      <td>NaN</td>\n",
              "    </tr>\n",
              "    <tr>\n",
              "      <th>2019-10-24 04:42:00</th>\n",
              "      <td>17.500000</td>\n",
              "      <td>31.769231</td>\n",
              "      <td>28.394321</td>\n",
              "      <td>20.5</td>\n",
              "      <td>0.0</td>\n",
              "      <td>NaN</td>\n",
              "    </tr>\n",
              "    <tr>\n",
              "      <th>2019-10-24 04:43:00</th>\n",
              "      <td>17.000000</td>\n",
              "      <td>31.756410</td>\n",
              "      <td>28.394460</td>\n",
              "      <td>21.0</td>\n",
              "      <td>0.0</td>\n",
              "      <td>NaN</td>\n",
              "    </tr>\n",
              "  </tbody>\n",
              "</table>\n",
              "<p>1679 rows × 6 columns</p>\n",
              "</div>"
            ],
            "text/plain": [
              "                     humidity_out  humidity_in  ...  ac_pow_power  ac_pow_current\n",
              "statetime                                       ...                              \n",
              "2019-10-23 00:45:00     17.414414          NaN  ...           0.0             0.0\n",
              "2019-10-23 00:46:00     17.423423          NaN  ...           0.0             0.0\n",
              "2019-10-23 00:47:00     17.432432          NaN  ...           0.0             0.0\n",
              "2019-10-23 00:48:00     17.441441          NaN  ...           0.0             0.0\n",
              "2019-10-23 00:49:00     17.450450          NaN  ...           0.0             0.0\n",
              "...                           ...          ...  ...           ...             ...\n",
              "2019-10-24 04:39:00     18.000000    31.807692  ...           0.0             NaN\n",
              "2019-10-24 04:40:00     17.000000    31.794872  ...           0.0             NaN\n",
              "2019-10-24 04:41:00     18.000000    31.782051  ...           0.0             NaN\n",
              "2019-10-24 04:42:00     17.500000    31.769231  ...           0.0             NaN\n",
              "2019-10-24 04:43:00     17.000000    31.756410  ...           0.0             NaN\n",
              "\n",
              "[1679 rows x 6 columns]"
            ]
          },
          "metadata": {
            "tags": []
          },
          "execution_count": 256
        }
      ]
    },
    {
      "cell_type": "code",
      "metadata": {
        "id": "PY8Ki0zur3yR",
        "colab_type": "code",
        "colab": {}
      },
      "source": [
        "# Εκπαίδευση μοντέλου για να βρούμε το temperature in συναρτήσει των humidity out, temp out και ac_power\n",
        "# Επιλέγουμε ένα Data Frame που περιέχει τις 3 μεταβλητές, χωρίς να περιέχει κενά\n",
        "X = a.iloc[:, [0,3,4]]\n",
        "y = a.iloc[:, 2]"
      ],
      "execution_count": 0,
      "outputs": []
    },
    {
      "cell_type": "code",
      "metadata": {
        "id": "oYHEYXu1cbo4",
        "colab_type": "code",
        "colab": {}
      },
      "source": [
        "X_train, X_test, y_train, y_test = train_test_split(X, y, test_size=0.3) "
      ],
      "execution_count": 0,
      "outputs": []
    },
    {
      "cell_type": "code",
      "metadata": {
        "id": "tHFKoyikc40G",
        "colab_type": "code",
        "colab": {}
      },
      "source": [
        "model2 = model.fit(X_train,y_train)"
      ],
      "execution_count": 0,
      "outputs": []
    },
    {
      "cell_type": "code",
      "metadata": {
        "id": "ohw2EzBPdFhn",
        "colab_type": "code",
        "outputId": "6a046c03-f9f1-47f3-aeee-9cb5b0ba657a",
        "colab": {
          "base_uri": "https://localhost:8080/",
          "height": 35
        }
      },
      "source": [
        "r_sq = model2.score(X_train, y_train)\n",
        "print('coefficient of determination:', r_sq)"
      ],
      "execution_count": 0,
      "outputs": [
        {
          "output_type": "stream",
          "text": [
            "coefficient of determination: 0.5872349254692767\n"
          ],
          "name": "stdout"
        }
      ]
    },
    {
      "cell_type": "code",
      "metadata": {
        "id": "_N3B2R2sl8CX",
        "colab_type": "code",
        "outputId": "97a88419-f48b-41d8-c36d-93b4b29d531b",
        "colab": {
          "base_uri": "https://localhost:8080/",
          "height": 35
        }
      },
      "source": [
        "test_score = model2.score(X_test, y_test)\n",
        "print('Test score:', test_score)"
      ],
      "execution_count": 0,
      "outputs": [
        {
          "output_type": "stream",
          "text": [
            "Test score: 0.6018113454082757\n"
          ],
          "name": "stdout"
        }
      ]
    },
    {
      "cell_type": "code",
      "metadata": {
        "id": "GNQbQjtudGGc",
        "colab_type": "code",
        "outputId": "6f5cf15f-d4e7-4790-ad7a-54df1c6a2585",
        "colab": {
          "base_uri": "https://localhost:8080/",
          "height": 54
        }
      },
      "source": [
        "print('intercept:', model2.intercept_)\n",
        "print('slope:', model2.coef_)"
      ],
      "execution_count": 0,
      "outputs": [
        {
          "output_type": "stream",
          "text": [
            "intercept: 34.230174608685516\n",
            "slope: [-0.11375452 -0.1892709  -0.01497752]\n"
          ],
          "name": "stdout"
        }
      ]
    },
    {
      "cell_type": "code",
      "metadata": {
        "id": "FfZPuRaUdIz4",
        "colab_type": "code",
        "outputId": "55de1caa-ee6c-48a0-e935-2ddaae15c5a1",
        "colab": {
          "base_uri": "https://localhost:8080/",
          "height": 1000
        }
      },
      "source": [
        "y_pred = model2.predict(X_test)\n",
        "print('predicted response:', y_pred, sep='\\n')"
      ],
      "execution_count": 0,
      "outputs": [
        {
          "output_type": "stream",
          "text": [
            "predicted response:\n",
            "[28.13238807 28.3633503  28.35941716 28.27430696 27.99344248 27.88395356\n",
            " 28.07365311 26.94084533 28.3898114  27.54000618 27.8676008  26.83994352\n",
            " 28.28040415 28.11906183 28.38344509 28.22284889 28.09043453 27.30493797\n",
            " 26.8084517  28.09226999 28.20281828 28.39717535 27.54460761 28.39717535\n",
            " 28.32782456 28.32739325 28.39717535 28.08141451 25.05332205 27.81725654\n",
            " 27.36858013 28.39166894 28.12556679 24.63079641 28.38151951 28.38616254\n",
            " 26.78149527 28.16663395 28.38380265 26.07080715 28.10721594 28.27366582\n",
            " 28.20152598 28.32599465 27.79879635 28.22176369 28.05909374 27.55271522\n",
            " 28.08204382 28.20734132 28.02577814 28.35941716 28.21273724 26.38541748\n",
            " 28.35941716 25.40899894 28.33784105 28.24611024 28.20822401 28.16553459\n",
            " 28.23900261 28.15048023 28.39481546 28.28566411 28.13581494 27.92867833\n",
            " 28.11839308 28.34129323 27.82228813 28.33827257 28.27619618 28.35035519\n",
            " 28.35941716 27.61385995 28.23254112 28.06395135 27.55906973 27.62820709\n",
            " 25.93857349 27.80152396 28.32165897 28.06631124 27.86255974 28.14401346\n",
            " 27.18667352 27.57813329 28.25257173 28.18214152 28.1924799  28.09462988\n",
            " 28.36771955 27.88456678 28.32165897 28.33676224 25.46563623 28.32165897\n",
            " 28.00578878 27.89276345 28.39717535 28.09379081 27.92403069 25.77774123\n",
            " 27.58131055 28.32179883 28.35299165 28.33072093 27.7286757  28.39402883\n",
            " 28.22220274 26.76365386 27.91961119 27.07224701 28.20927977 28.11941789\n",
            " 27.75625774 28.1532368  26.29799622 27.42284156 28.34053806 27.86341692\n",
            " 28.31686206 28.18989531 28.30775596 25.8532576  28.09240935 27.37388365\n",
            " 27.98296948 28.23641801 25.45934319 28.35941716 28.33615977 28.37750962\n",
            " 26.34546486 28.37514973 28.1911876  28.38852243 27.9791363  27.61308314\n",
            " 28.37200322 28.17211818 28.20992592 28.17885719 28.33931574 28.18791448\n",
            " 28.32467962 28.37200322 28.17374159 28.29197607 27.50891629 28.39560209\n",
            " 27.91665063 28.18731071 27.92632313 28.35941716 28.26689598 27.99783125\n",
            " 28.2441718  25.67378622 27.04806684 28.36728345 28.39717535 28.08896615\n",
            " 28.32770028 28.35941716 27.65046341 28.26012613 27.56224699 28.36964333\n",
            " 28.15500328 28.39717535 27.79208442 27.59084233 28.35941716 28.35941716\n",
            " 25.61690896 28.32165897 28.38059858 27.09675783 28.3877358  28.37200322\n",
            " 28.37599392 28.29513205 27.80215232 27.57177877 27.85865284 28.16534165\n",
            " 28.13479013 28.11518515 26.50590623 27.87262764 25.80617985 28.16211091\n",
            " 27.91849874 28.33064901 27.35266959 27.53698581 27.29963446 28.39717535\n",
            " 28.32165897 27.8487217  27.84400193 26.01408987 27.35453393 28.30670397\n",
            " 28.37507299 26.73293532 28.34323507 27.99045119 27.90719373 27.59401958\n",
            " 28.2415872  28.29618404 27.82984261 28.32165897 28.08707824 27.78755522\n",
            " 28.13432652 28.35941716 26.80916899 28.16340321 28.32445618 28.14789564\n",
            " 28.14196383 28.19829524 28.3750835  28.38172881 25.99545075 28.24432983\n",
            " 27.99912566 27.94310296 27.82040306 28.32316929 28.12146752 28.12693101\n",
            " 28.35941716 28.34247172 28.07197497 27.57495603 28.12249234 28.08707824\n",
            " 28.14161335 28.24675639 25.93857349 26.88727724 27.79788028 28.08372196\n",
            " 27.90927058 28.20596739 28.37829625 27.97618308 27.57347059 28.20145416\n",
            " 28.3456277  27.34206257 28.08574623 28.23304676 27.92296716 28.11980201\n",
            " 28.17115699 28.35941716 28.33604304 28.17503389 28.35941716 28.35614763\n",
            " 28.17826463 28.13274049 28.3920265  28.26146828 28.26462426 28.30751503\n",
            " 28.13888939 28.38694917 26.93461096 28.37908288 28.36678461 28.34280355\n",
            " 28.34053806 27.52729714 28.15221199 28.140788   26.93338969 27.58448781\n",
            " 28.07533125 28.35941716 28.32319743 27.63826225 28.11728479 25.44933834\n",
            " 27.8676008  28.14708791 28.08519033 28.22801808 28.28987209 28.30525842\n",
            " 28.08991011 27.28372392 27.92189194 28.37278985 28.19694094 28.14913754\n",
            " 28.13683976 28.34884486 28.37703764 28.17475793 27.04773619 28.39717535\n",
            " 26.79497348 28.19571064 27.98225851 28.10721594 28.19764909 25.90470402\n",
            " 28.33424503 28.14811273 28.3292106  27.98673055 28.05243062 28.39441255\n",
            " 28.13867688 28.32347715 26.77451732 27.99159225 27.84913587 28.08707824\n",
            " 26.33214731 28.27592243 28.38455143 28.34582421 28.32165897 28.32165897\n",
            " 27.98636267 28.32525498 28.20023368 28.04949164 27.91289926 27.79208442\n",
            " 27.90153276 25.64534759 28.32165897 28.18340125 25.87175503 27.42470773\n",
            " 24.90752837 28.32417646 28.25786952 28.36696879 25.80617985 28.32165897\n",
            " 28.32221841 28.37829625 26.04624033 28.32165897 27.89817997 24.96205024\n",
            " 28.05687169 28.33721176 27.9498149  28.34683109 26.0233831  28.22026429\n",
            " 28.36561556 28.33244702 28.33172782 28.33405578 28.39401937 28.29171873\n",
            " 27.59719684 28.18565787 27.09214473 28.06861868 28.34587747 27.33802625\n",
            " 28.36799856 28.32165897 28.22607963 28.28946212 25.40899894 28.39717535\n",
            " 28.2730402  28.05687169 28.35468881 25.7493026  28.35941716 28.34683109\n",
            " 28.33826375 26.96555614 27.70058622 28.32165897 28.3486291  27.80550829\n",
            " 28.39717535 28.29723603 26.61950077 27.58766507 28.07197497 27.63850121\n",
            " 28.15528643 28.32165897 28.33223126 28.05687169 27.22469835 28.22672578\n",
            " 28.36770554 28.06631124 28.32165897 27.12995625 26.77069351 27.34049917\n",
            " 28.3397829  28.32305757 27.68358846 25.7948044  27.48084677 27.88795997\n",
            " 27.89813956 28.35941716 27.77396764 28.38962371 28.32361702 28.14454981\n",
            " 27.8676008  28.32458785 28.17244929 28.11812161 28.37200322 28.3292106\n",
            " 28.29623196 25.72413047 28.39717535 27.99693652 28.34431388 28.15016236\n",
            " 27.9598828  28.32165897 25.48435534 27.01660169 28.39717535 27.8676008\n",
            " 28.32879582 28.06190612 28.15631125 28.07197497 28.37314741 26.99772259\n",
            " 27.97330667 28.33676224 28.35488617 28.34053806 27.81096351 28.30880796\n",
            " 28.01259136 28.1698647  27.87438719 28.32165897 27.79837745 28.37042996\n",
            " 28.3563965  28.35941716 28.01997141 28.32655409 27.2243677  28.11634345\n",
            " 26.8522496  28.26883223 28.14918794 27.15091232 26.44986194 28.34050378\n",
            " 28.03244126 28.16348496 28.16510508 28.38244745 28.14595719 28.31196393\n",
            " 27.18430563 28.33104709 27.51873409 28.1937722  27.32084851 28.30565198\n",
            " 26.74679598 28.32277785 27.93303506 25.93873348 27.82564725 28.34053806\n",
            " 27.36856869 28.33300379 26.76065665 28.08047056 28.1460631  25.93857349\n",
            " 27.99679845 27.99326701 28.17888802 28.08519033 28.32333729 28.39612335\n",
            " 28.26485027 28.24546409 26.14269169 27.94225112 25.12198401 28.33577544]\n"
          ],
          "name": "stdout"
        }
      ]
    },
    {
      "cell_type": "code",
      "metadata": {
        "id": "Z_KBw8KOdL7w",
        "colab_type": "code",
        "outputId": "ab248391-7d04-4b06-a4b2-ab5669ae30fa",
        "colab": {
          "base_uri": "https://localhost:8080/",
          "height": 35
        }
      },
      "source": [
        "print(\"MSE:\",metrics.mean_squared_error(y_test, y_pred))"
      ],
      "execution_count": 0,
      "outputs": [
        {
          "output_type": "stream",
          "text": [
            "MSE: 0.3634865795766536\n"
          ],
          "name": "stdout"
        }
      ]
    },
    {
      "cell_type": "code",
      "metadata": {
        "id": "DwROXEY3NJZE",
        "colab_type": "code",
        "colab": {}
      },
      "source": [
        "b = dff[['humidity_out', 'temp_out', 'ac_pow_power']]\n",
        "#['2019-10-20 03:18:00':'2019-10-24 05:58:00']"
      ],
      "execution_count": 0,
      "outputs": []
    },
    {
      "cell_type": "code",
      "metadata": {
        "id": "LcL0a2rlNuF-",
        "colab_type": "code",
        "colab": {}
      },
      "source": [
        "b = b.dropna(subset=['ac_pow_power'])"
      ],
      "execution_count": 0,
      "outputs": []
    },
    {
      "cell_type": "code",
      "metadata": {
        "id": "zaiUYkWfVGb-",
        "colab_type": "code",
        "outputId": "e6dd3e48-9706-4d67-b595-4e191cd2321f",
        "colab": {
          "base_uri": "https://localhost:8080/",
          "height": 455
        }
      },
      "source": [
        "b"
      ],
      "execution_count": 0,
      "outputs": [
        {
          "output_type": "execute_result",
          "data": {
            "text/html": [
              "<div>\n",
              "<style scoped>\n",
              "    .dataframe tbody tr th:only-of-type {\n",
              "        vertical-align: middle;\n",
              "    }\n",
              "\n",
              "    .dataframe tbody tr th {\n",
              "        vertical-align: top;\n",
              "    }\n",
              "\n",
              "    .dataframe thead th {\n",
              "        text-align: right;\n",
              "    }\n",
              "</style>\n",
              "<table border=\"1\" class=\"dataframe\">\n",
              "  <thead>\n",
              "    <tr style=\"text-align: right;\">\n",
              "      <th></th>\n",
              "      <th>humidity_out</th>\n",
              "      <th>temp_out</th>\n",
              "      <th>ac_pow_power</th>\n",
              "    </tr>\n",
              "    <tr>\n",
              "      <th>statetime</th>\n",
              "      <th></th>\n",
              "      <th></th>\n",
              "      <th></th>\n",
              "    </tr>\n",
              "  </thead>\n",
              "  <tbody>\n",
              "    <tr>\n",
              "      <th>2019-10-20 18:00:00</th>\n",
              "      <td>15.694030</td>\n",
              "      <td>25.537037</td>\n",
              "      <td>0.0</td>\n",
              "    </tr>\n",
              "    <tr>\n",
              "      <th>2019-10-20 18:01:00</th>\n",
              "      <td>15.686567</td>\n",
              "      <td>25.527778</td>\n",
              "      <td>0.0</td>\n",
              "    </tr>\n",
              "    <tr>\n",
              "      <th>2019-10-20 18:02:00</th>\n",
              "      <td>15.679104</td>\n",
              "      <td>25.518519</td>\n",
              "      <td>0.0</td>\n",
              "    </tr>\n",
              "    <tr>\n",
              "      <th>2019-10-20 18:03:00</th>\n",
              "      <td>15.671642</td>\n",
              "      <td>25.509259</td>\n",
              "      <td>0.0</td>\n",
              "    </tr>\n",
              "    <tr>\n",
              "      <th>2019-10-20 18:04:00</th>\n",
              "      <td>15.664179</td>\n",
              "      <td>25.500000</td>\n",
              "      <td>0.0</td>\n",
              "    </tr>\n",
              "    <tr>\n",
              "      <th>...</th>\n",
              "      <td>...</td>\n",
              "      <td>...</td>\n",
              "      <td>...</td>\n",
              "    </tr>\n",
              "    <tr>\n",
              "      <th>2019-10-24 04:39:00</th>\n",
              "      <td>18.000000</td>\n",
              "      <td>20.000000</td>\n",
              "      <td>0.0</td>\n",
              "    </tr>\n",
              "    <tr>\n",
              "      <th>2019-10-24 04:40:00</th>\n",
              "      <td>17.000000</td>\n",
              "      <td>21.000000</td>\n",
              "      <td>0.0</td>\n",
              "    </tr>\n",
              "    <tr>\n",
              "      <th>2019-10-24 04:41:00</th>\n",
              "      <td>18.000000</td>\n",
              "      <td>20.000000</td>\n",
              "      <td>0.0</td>\n",
              "    </tr>\n",
              "    <tr>\n",
              "      <th>2019-10-24 04:42:00</th>\n",
              "      <td>17.500000</td>\n",
              "      <td>20.500000</td>\n",
              "      <td>0.0</td>\n",
              "    </tr>\n",
              "    <tr>\n",
              "      <th>2019-10-24 04:43:00</th>\n",
              "      <td>17.000000</td>\n",
              "      <td>21.000000</td>\n",
              "      <td>0.0</td>\n",
              "    </tr>\n",
              "  </tbody>\n",
              "</table>\n",
              "<p>4964 rows × 3 columns</p>\n",
              "</div>"
            ],
            "text/plain": [
              "                     humidity_out   temp_out  ac_pow_power\n",
              "statetime                                                 \n",
              "2019-10-20 18:00:00     15.694030  25.537037           0.0\n",
              "2019-10-20 18:01:00     15.686567  25.527778           0.0\n",
              "2019-10-20 18:02:00     15.679104  25.518519           0.0\n",
              "2019-10-20 18:03:00     15.671642  25.509259           0.0\n",
              "2019-10-20 18:04:00     15.664179  25.500000           0.0\n",
              "...                           ...        ...           ...\n",
              "2019-10-24 04:39:00     18.000000  20.000000           0.0\n",
              "2019-10-24 04:40:00     17.000000  21.000000           0.0\n",
              "2019-10-24 04:41:00     18.000000  20.000000           0.0\n",
              "2019-10-24 04:42:00     17.500000  20.500000           0.0\n",
              "2019-10-24 04:43:00     17.000000  21.000000           0.0\n",
              "\n",
              "[4964 rows x 3 columns]"
            ]
          },
          "metadata": {
            "tags": []
          },
          "execution_count": 267
        }
      ]
    },
    {
      "cell_type": "code",
      "metadata": {
        "id": "1kEbY93MUqzo",
        "colab_type": "code",
        "outputId": "428830e9-054a-4514-f940-67e758344997",
        "colab": {
          "base_uri": "https://localhost:8080/",
          "height": 90
        }
      },
      "source": [
        "b.isna().sum()"
      ],
      "execution_count": 0,
      "outputs": [
        {
          "output_type": "execute_result",
          "data": {
            "text/plain": [
              "humidity_out    0\n",
              "temp_out        0\n",
              "ac_pow_power    0\n",
              "dtype: int64"
            ]
          },
          "metadata": {
            "tags": []
          },
          "execution_count": 268
        }
      ]
    },
    {
      "cell_type": "code",
      "metadata": {
        "id": "epN8lvgmGlw8",
        "colab_type": "code",
        "colab": {}
      },
      "source": [
        "b['new_temp_in'] = model2.predict(b)"
      ],
      "execution_count": 0,
      "outputs": []
    },
    {
      "cell_type": "code",
      "metadata": {
        "id": "-FTv3TRKGy5i",
        "colab_type": "code",
        "colab": {}
      },
      "source": [
        "dff = dff.merge(b['new_temp_in'], how='outer', on='statetime', sort='True' )"
      ],
      "execution_count": 0,
      "outputs": []
    },
    {
      "cell_type": "code",
      "metadata": {
        "id": "CxcQ_dCeMNJT",
        "colab_type": "code",
        "outputId": "6e7c585f-de95-4115-d192-8d9c2f5de49b",
        "colab": {
          "base_uri": "https://localhost:8080/",
          "height": 455
        }
      },
      "source": [
        "dff "
      ],
      "execution_count": 0,
      "outputs": [
        {
          "output_type": "execute_result",
          "data": {
            "text/html": [
              "<div>\n",
              "<style scoped>\n",
              "    .dataframe tbody tr th:only-of-type {\n",
              "        vertical-align: middle;\n",
              "    }\n",
              "\n",
              "    .dataframe tbody tr th {\n",
              "        vertical-align: top;\n",
              "    }\n",
              "\n",
              "    .dataframe thead th {\n",
              "        text-align: right;\n",
              "    }\n",
              "</style>\n",
              "<table border=\"1\" class=\"dataframe\">\n",
              "  <thead>\n",
              "    <tr style=\"text-align: right;\">\n",
              "      <th></th>\n",
              "      <th>humidity_out</th>\n",
              "      <th>humidity_in</th>\n",
              "      <th>temp_in</th>\n",
              "      <th>temp_out</th>\n",
              "      <th>ac_pow_power</th>\n",
              "      <th>ac_pow_current</th>\n",
              "      <th>new_temp_in</th>\n",
              "    </tr>\n",
              "    <tr>\n",
              "      <th>statetime</th>\n",
              "      <th></th>\n",
              "      <th></th>\n",
              "      <th></th>\n",
              "      <th></th>\n",
              "      <th></th>\n",
              "      <th></th>\n",
              "      <th></th>\n",
              "    </tr>\n",
              "  </thead>\n",
              "  <tbody>\n",
              "    <tr>\n",
              "      <th>2019-10-20 18:00:00</th>\n",
              "      <td>15.694030</td>\n",
              "      <td>NaN</td>\n",
              "      <td>NaN</td>\n",
              "      <td>25.537037</td>\n",
              "      <td>0.0</td>\n",
              "      <td>0.0</td>\n",
              "      <td>27.611490</td>\n",
              "    </tr>\n",
              "    <tr>\n",
              "      <th>2019-10-20 18:01:00</th>\n",
              "      <td>15.686567</td>\n",
              "      <td>NaN</td>\n",
              "      <td>NaN</td>\n",
              "      <td>25.527778</td>\n",
              "      <td>0.0</td>\n",
              "      <td>0.0</td>\n",
              "      <td>27.614091</td>\n",
              "    </tr>\n",
              "    <tr>\n",
              "      <th>2019-10-20 18:02:00</th>\n",
              "      <td>15.679104</td>\n",
              "      <td>NaN</td>\n",
              "      <td>NaN</td>\n",
              "      <td>25.518519</td>\n",
              "      <td>0.0</td>\n",
              "      <td>0.0</td>\n",
              "      <td>27.616693</td>\n",
              "    </tr>\n",
              "    <tr>\n",
              "      <th>2019-10-20 18:03:00</th>\n",
              "      <td>15.671642</td>\n",
              "      <td>NaN</td>\n",
              "      <td>NaN</td>\n",
              "      <td>25.509259</td>\n",
              "      <td>0.0</td>\n",
              "      <td>0.0</td>\n",
              "      <td>27.619294</td>\n",
              "    </tr>\n",
              "    <tr>\n",
              "      <th>2019-10-20 18:04:00</th>\n",
              "      <td>15.664179</td>\n",
              "      <td>NaN</td>\n",
              "      <td>NaN</td>\n",
              "      <td>25.500000</td>\n",
              "      <td>0.0</td>\n",
              "      <td>0.0</td>\n",
              "      <td>27.621896</td>\n",
              "    </tr>\n",
              "    <tr>\n",
              "      <th>...</th>\n",
              "      <td>...</td>\n",
              "      <td>...</td>\n",
              "      <td>...</td>\n",
              "      <td>...</td>\n",
              "      <td>...</td>\n",
              "      <td>...</td>\n",
              "      <td>...</td>\n",
              "    </tr>\n",
              "    <tr>\n",
              "      <th>2019-10-24 04:39:00</th>\n",
              "      <td>18.000000</td>\n",
              "      <td>31.807692</td>\n",
              "      <td>28.393906</td>\n",
              "      <td>20.000000</td>\n",
              "      <td>0.0</td>\n",
              "      <td>NaN</td>\n",
              "      <td>28.397175</td>\n",
              "    </tr>\n",
              "    <tr>\n",
              "      <th>2019-10-24 04:40:00</th>\n",
              "      <td>17.000000</td>\n",
              "      <td>31.794872</td>\n",
              "      <td>28.394044</td>\n",
              "      <td>21.000000</td>\n",
              "      <td>0.0</td>\n",
              "      <td>NaN</td>\n",
              "      <td>28.321659</td>\n",
              "    </tr>\n",
              "    <tr>\n",
              "      <th>2019-10-24 04:41:00</th>\n",
              "      <td>18.000000</td>\n",
              "      <td>31.782051</td>\n",
              "      <td>28.394183</td>\n",
              "      <td>20.000000</td>\n",
              "      <td>0.0</td>\n",
              "      <td>NaN</td>\n",
              "      <td>28.397175</td>\n",
              "    </tr>\n",
              "    <tr>\n",
              "      <th>2019-10-24 04:42:00</th>\n",
              "      <td>17.500000</td>\n",
              "      <td>31.769231</td>\n",
              "      <td>28.394321</td>\n",
              "      <td>20.500000</td>\n",
              "      <td>0.0</td>\n",
              "      <td>NaN</td>\n",
              "      <td>28.359417</td>\n",
              "    </tr>\n",
              "    <tr>\n",
              "      <th>2019-10-24 04:43:00</th>\n",
              "      <td>17.000000</td>\n",
              "      <td>31.756410</td>\n",
              "      <td>28.394460</td>\n",
              "      <td>21.000000</td>\n",
              "      <td>0.0</td>\n",
              "      <td>NaN</td>\n",
              "      <td>28.321659</td>\n",
              "    </tr>\n",
              "  </tbody>\n",
              "</table>\n",
              "<p>4964 rows × 7 columns</p>\n",
              "</div>"
            ],
            "text/plain": [
              "                     humidity_out  humidity_in  ...  ac_pow_current  new_temp_in\n",
              "statetime                                       ...                             \n",
              "2019-10-20 18:00:00     15.694030          NaN  ...             0.0    27.611490\n",
              "2019-10-20 18:01:00     15.686567          NaN  ...             0.0    27.614091\n",
              "2019-10-20 18:02:00     15.679104          NaN  ...             0.0    27.616693\n",
              "2019-10-20 18:03:00     15.671642          NaN  ...             0.0    27.619294\n",
              "2019-10-20 18:04:00     15.664179          NaN  ...             0.0    27.621896\n",
              "...                           ...          ...  ...             ...          ...\n",
              "2019-10-24 04:39:00     18.000000    31.807692  ...             NaN    28.397175\n",
              "2019-10-24 04:40:00     17.000000    31.794872  ...             NaN    28.321659\n",
              "2019-10-24 04:41:00     18.000000    31.782051  ...             NaN    28.397175\n",
              "2019-10-24 04:42:00     17.500000    31.769231  ...             NaN    28.359417\n",
              "2019-10-24 04:43:00     17.000000    31.756410  ...             NaN    28.321659\n",
              "\n",
              "[4964 rows x 7 columns]"
            ]
          },
          "metadata": {
            "tags": []
          },
          "execution_count": 271
        }
      ]
    },
    {
      "cell_type": "code",
      "metadata": {
        "id": "b-u05ADPIGho",
        "colab_type": "code",
        "outputId": "f45879b2-70e4-40a2-dc47-345226833a9e",
        "colab": {
          "base_uri": "https://localhost:8080/",
          "height": 35
        }
      },
      "source": [
        "dff['new_temp_in'].isna().sum()"
      ],
      "execution_count": 0,
      "outputs": [
        {
          "output_type": "execute_result",
          "data": {
            "text/plain": [
              "0"
            ]
          },
          "metadata": {
            "tags": []
          },
          "execution_count": 272
        }
      ]
    },
    {
      "cell_type": "code",
      "metadata": {
        "id": "wOWz7OSAJQwQ",
        "colab_type": "code",
        "outputId": "e7538ed7-fce4-40e7-a523-a0f7cc51bb2a",
        "colab": {
          "base_uri": "https://localhost:8080/",
          "height": 283
        }
      },
      "source": [
        "#plt.plot()\n",
        "plt.plot(dff['temp_out'])\n",
        "plt.plot(dff['temp_in'])\n",
        "plt.plot(dff['new_temp_in'])"
      ],
      "execution_count": 0,
      "outputs": [
        {
          "output_type": "execute_result",
          "data": {
            "text/plain": [
              "[<matplotlib.lines.Line2D at 0x7f9dcb0725c0>]"
            ]
          },
          "metadata": {
            "tags": []
          },
          "execution_count": 273
        },
        {
          "output_type": "display_data",
          "data": {
            "image/png": "[encoded data removed]",
            "text/plain": [
              "<Figure size 432x288 with 1 Axes>"
            ]
          },
          "metadata": {
            "tags": []
          }
        }
      ]
    },
    {
      "cell_type": "code",
      "metadata": {
        "id": "dvrZr6-1Hkly",
        "colab_type": "code",
        "colab": {}
      },
      "source": [
        "for i in range(0, len(dff)):\n",
        "  if math.isnan(dff['temp_in'][i]):\n",
        "    dff['temp_in'][i] = dff['new_temp_in'][i]"
      ],
      "execution_count": 0,
      "outputs": []
    },
    {
      "cell_type": "code",
      "metadata": {
        "id": "-T3WdXH3Rfrd",
        "colab_type": "code",
        "outputId": "da289969-fee8-4248-a3ff-b196d2ffc084",
        "colab": {
          "base_uri": "https://localhost:8080/",
          "height": 283
        }
      },
      "source": [
        "plt.plot(dff['temp_in'])\n",
        "plt.plot(dff['temp_out'])"
      ],
      "execution_count": 0,
      "outputs": [
        {
          "output_type": "execute_result",
          "data": {
            "text/plain": [
              "[<matplotlib.lines.Line2D at 0x7f9dcb124908>]"
            ]
          },
          "metadata": {
            "tags": []
          },
          "execution_count": 275
        },
        {
          "output_type": "display_data",
          "data": {
            "image/png": "[encoded data removed]",
            "text/plain": [
              "<Figure size 432x288 with 1 Axes>"
            ]
          },
          "metadata": {
            "tags": []
          }
        }
      ]
    },
    {
      "cell_type": "code",
      "metadata": {
        "id": "oPq7FYvSRvKm",
        "colab_type": "code",
        "colab": {}
      },
      "source": [
        "dff = dff.drop(columns='new_temp_in')"
      ],
      "execution_count": 0,
      "outputs": []
    },
    {
      "cell_type": "code",
      "metadata": {
        "id": "NRM5PU7rQxfz",
        "colab_type": "code",
        "outputId": "0866794d-1165-46d0-fb45-03929a40b5a4",
        "colab": {
          "base_uri": "https://localhost:8080/",
          "height": 283
        }
      },
      "source": [
        "plt.plot(dff['temp_out'])\n",
        "plt.plot(dff['temp_in'])\n",
        "plt.plot(dff['humidity_out'])\n",
        "plt.plot(dff['ac_pow_power'])\n",
        "#plt.plot(dff['humidity_in'])"
      ],
      "execution_count": 0,
      "outputs": [
        {
          "output_type": "execute_result",
          "data": {
            "text/plain": [
              "[<matplotlib.lines.Line2D at 0x7f9dcd40cc18>]"
            ]
          },
          "metadata": {
            "tags": []
          },
          "execution_count": 277
        },
        {
          "output_type": "display_data",
          "data": {
            "image/png": "[encoded data removed]",
            "text/plain": [
              "<Figure size 432x288 with 1 Axes>"
            ]
          },
          "metadata": {
            "tags": []
          }
        }
      ]
    },
    {
      "cell_type": "code",
      "metadata": {
        "id": "Iy0qEBh4WA24",
        "colab_type": "code",
        "outputId": "2e39fb4b-a678-494d-9241-b1176f0689e7",
        "colab": {
          "base_uri": "https://localhost:8080/",
          "height": 146
        }
      },
      "source": [
        "dff.isna().sum()"
      ],
      "execution_count": 0,
      "outputs": [
        {
          "output_type": "execute_result",
          "data": {
            "text/plain": [
              "humidity_out         0\n",
              "humidity_in       3696\n",
              "temp_in              0\n",
              "temp_out             0\n",
              "ac_pow_power         0\n",
              "ac_pow_current     852\n",
              "dtype: int64"
            ]
          },
          "metadata": {
            "tags": []
          },
          "execution_count": 278
        }
      ]
    },
    {
      "cell_type": "code",
      "metadata": {
        "id": "M3LOYlXkNgwc",
        "colab_type": "code",
        "colab": {}
      },
      "source": [
        "corrfinal = dff.corr()"
      ],
      "execution_count": 0,
      "outputs": []
    },
    {
      "cell_type": "code",
      "metadata": {
        "id": "Gt7HLE0DNwMB",
        "colab_type": "code",
        "outputId": "4c5c4f3b-3321-41dd-bef6-8983f10ffc8f",
        "colab": {
          "base_uri": "https://localhost:8080/",
          "height": 238
        }
      },
      "source": [
        "corrfinal"
      ],
      "execution_count": 0,
      "outputs": [
        {
          "output_type": "execute_result",
          "data": {
            "text/html": [
              "<div>\n",
              "<style scoped>\n",
              "    .dataframe tbody tr th:only-of-type {\n",
              "        vertical-align: middle;\n",
              "    }\n",
              "\n",
              "    .dataframe tbody tr th {\n",
              "        vertical-align: top;\n",
              "    }\n",
              "\n",
              "    .dataframe thead th {\n",
              "        text-align: right;\n",
              "    }\n",
              "</style>\n",
              "<table border=\"1\" class=\"dataframe\">\n",
              "  <thead>\n",
              "    <tr style=\"text-align: right;\">\n",
              "      <th></th>\n",
              "      <th>humidity_out</th>\n",
              "      <th>humidity_in</th>\n",
              "      <th>temp_in</th>\n",
              "      <th>temp_out</th>\n",
              "      <th>ac_pow_power</th>\n",
              "      <th>ac_pow_current</th>\n",
              "    </tr>\n",
              "  </thead>\n",
              "  <tbody>\n",
              "    <tr>\n",
              "      <th>humidity_out</th>\n",
              "      <td>1.000000</td>\n",
              "      <td>-0.843282</td>\n",
              "      <td>0.868956</td>\n",
              "      <td>-0.989026</td>\n",
              "      <td>-0.230930</td>\n",
              "      <td>-0.243577</td>\n",
              "    </tr>\n",
              "    <tr>\n",
              "      <th>humidity_in</th>\n",
              "      <td>-0.843282</td>\n",
              "      <td>1.000000</td>\n",
              "      <td>-0.861618</td>\n",
              "      <td>0.845780</td>\n",
              "      <td>0.309453</td>\n",
              "      <td>0.273954</td>\n",
              "    </tr>\n",
              "    <tr>\n",
              "      <th>temp_in</th>\n",
              "      <td>0.868956</td>\n",
              "      <td>-0.861618</td>\n",
              "      <td>1.000000</td>\n",
              "      <td>-0.885287</td>\n",
              "      <td>-0.345413</td>\n",
              "      <td>-0.360089</td>\n",
              "    </tr>\n",
              "    <tr>\n",
              "      <th>temp_out</th>\n",
              "      <td>-0.989026</td>\n",
              "      <td>0.845780</td>\n",
              "      <td>-0.885287</td>\n",
              "      <td>1.000000</td>\n",
              "      <td>0.224795</td>\n",
              "      <td>0.237266</td>\n",
              "    </tr>\n",
              "    <tr>\n",
              "      <th>ac_pow_power</th>\n",
              "      <td>-0.230930</td>\n",
              "      <td>0.309453</td>\n",
              "      <td>-0.345413</td>\n",
              "      <td>0.224795</td>\n",
              "      <td>1.000000</td>\n",
              "      <td>0.908568</td>\n",
              "    </tr>\n",
              "    <tr>\n",
              "      <th>ac_pow_current</th>\n",
              "      <td>-0.243577</td>\n",
              "      <td>0.273954</td>\n",
              "      <td>-0.360089</td>\n",
              "      <td>0.237266</td>\n",
              "      <td>0.908568</td>\n",
              "      <td>1.000000</td>\n",
              "    </tr>\n",
              "  </tbody>\n",
              "</table>\n",
              "</div>"
            ],
            "text/plain": [
              "                humidity_out  humidity_in  ...  ac_pow_power  ac_pow_current\n",
              "humidity_out        1.000000    -0.843282  ...     -0.230930       -0.243577\n",
              "humidity_in        -0.843282     1.000000  ...      0.309453        0.273954\n",
              "temp_in             0.868956    -0.861618  ...     -0.345413       -0.360089\n",
              "temp_out           -0.989026     0.845780  ...      0.224795        0.237266\n",
              "ac_pow_power       -0.230930     0.309453  ...      1.000000        0.908568\n",
              "ac_pow_current     -0.243577     0.273954  ...      0.908568        1.000000\n",
              "\n",
              "[6 rows x 6 columns]"
            ]
          },
          "metadata": {
            "tags": []
          },
          "execution_count": 280
        }
      ]
    },
    {
      "cell_type": "code",
      "metadata": {
        "id": "63VwEl9nVeIu",
        "colab_type": "code",
        "colab": {}
      },
      "source": [
        "# εκπαίδευση μοντέλου για να συμπληρώσουμε τις τιμές του humidity in συναρτήσει του humidity out και temperature in\n",
        "a = dff.dropna(subset=['humidity_out','humidity_in', 'temp_in'])"
      ],
      "execution_count": 0,
      "outputs": []
    },
    {
      "cell_type": "code",
      "metadata": {
        "id": "7Ztta0fcX7wd",
        "colab_type": "code",
        "outputId": "32f3d787-1232-4ffb-d537-56014d12d1df",
        "colab": {
          "base_uri": "https://localhost:8080/",
          "height": 35
        }
      },
      "source": [
        "a['humidity_in'].isna().sum()"
      ],
      "execution_count": 0,
      "outputs": [
        {
          "output_type": "execute_result",
          "data": {
            "text/plain": [
              "0"
            ]
          },
          "metadata": {
            "tags": []
          },
          "execution_count": 282
        }
      ]
    },
    {
      "cell_type": "code",
      "metadata": {
        "id": "0Kw8PJNuSkFn",
        "colab_type": "code",
        "outputId": "9f6671ae-7258-4d0d-aea3-71c0ee0a0e73",
        "colab": {
          "base_uri": "https://localhost:8080/",
          "height": 72
        }
      },
      "source": [
        "X = a.iloc[:, [0,2]]\n",
        "X.isnull().sum()"
      ],
      "execution_count": 0,
      "outputs": [
        {
          "output_type": "execute_result",
          "data": {
            "text/plain": [
              "humidity_out    0\n",
              "temp_in         0\n",
              "dtype: int64"
            ]
          },
          "metadata": {
            "tags": []
          },
          "execution_count": 283
        }
      ]
    },
    {
      "cell_type": "code",
      "metadata": {
        "id": "DWo_tOouKeh4",
        "colab_type": "code",
        "outputId": "388eb379-6ac0-4ae6-f683-3d359d69e724",
        "colab": {
          "base_uri": "https://localhost:8080/",
          "height": 455
        }
      },
      "source": [
        "X"
      ],
      "execution_count": 0,
      "outputs": [
        {
          "output_type": "execute_result",
          "data": {
            "text/html": [
              "<div>\n",
              "<style scoped>\n",
              "    .dataframe tbody tr th:only-of-type {\n",
              "        vertical-align: middle;\n",
              "    }\n",
              "\n",
              "    .dataframe tbody tr th {\n",
              "        vertical-align: top;\n",
              "    }\n",
              "\n",
              "    .dataframe thead th {\n",
              "        text-align: right;\n",
              "    }\n",
              "</style>\n",
              "<table border=\"1\" class=\"dataframe\">\n",
              "  <thead>\n",
              "    <tr style=\"text-align: right;\">\n",
              "      <th></th>\n",
              "      <th>humidity_out</th>\n",
              "      <th>temp_in</th>\n",
              "    </tr>\n",
              "    <tr>\n",
              "      <th>statetime</th>\n",
              "      <th></th>\n",
              "      <th></th>\n",
              "    </tr>\n",
              "  </thead>\n",
              "  <tbody>\n",
              "    <tr>\n",
              "      <th>2019-10-23 07:36:00</th>\n",
              "      <td>15.645161</td>\n",
              "      <td>27.925000</td>\n",
              "    </tr>\n",
              "    <tr>\n",
              "      <th>2019-10-23 07:37:00</th>\n",
              "      <td>15.634409</td>\n",
              "      <td>27.912500</td>\n",
              "    </tr>\n",
              "    <tr>\n",
              "      <th>2019-10-23 07:38:00</th>\n",
              "      <td>15.623656</td>\n",
              "      <td>27.900000</td>\n",
              "    </tr>\n",
              "    <tr>\n",
              "      <th>2019-10-23 07:39:00</th>\n",
              "      <td>15.612903</td>\n",
              "      <td>27.887500</td>\n",
              "    </tr>\n",
              "    <tr>\n",
              "      <th>2019-10-23 07:40:00</th>\n",
              "      <td>15.602151</td>\n",
              "      <td>27.875000</td>\n",
              "    </tr>\n",
              "    <tr>\n",
              "      <th>...</th>\n",
              "      <td>...</td>\n",
              "      <td>...</td>\n",
              "    </tr>\n",
              "    <tr>\n",
              "      <th>2019-10-24 04:39:00</th>\n",
              "      <td>18.000000</td>\n",
              "      <td>28.393906</td>\n",
              "    </tr>\n",
              "    <tr>\n",
              "      <th>2019-10-24 04:40:00</th>\n",
              "      <td>17.000000</td>\n",
              "      <td>28.394044</td>\n",
              "    </tr>\n",
              "    <tr>\n",
              "      <th>2019-10-24 04:41:00</th>\n",
              "      <td>18.000000</td>\n",
              "      <td>28.394183</td>\n",
              "    </tr>\n",
              "    <tr>\n",
              "      <th>2019-10-24 04:42:00</th>\n",
              "      <td>17.500000</td>\n",
              "      <td>28.394321</td>\n",
              "    </tr>\n",
              "    <tr>\n",
              "      <th>2019-10-24 04:43:00</th>\n",
              "      <td>17.000000</td>\n",
              "      <td>28.394460</td>\n",
              "    </tr>\n",
              "  </tbody>\n",
              "</table>\n",
              "<p>1268 rows × 2 columns</p>\n",
              "</div>"
            ],
            "text/plain": [
              "                     humidity_out    temp_in\n",
              "statetime                                   \n",
              "2019-10-23 07:36:00     15.645161  27.925000\n",
              "2019-10-23 07:37:00     15.634409  27.912500\n",
              "2019-10-23 07:38:00     15.623656  27.900000\n",
              "2019-10-23 07:39:00     15.612903  27.887500\n",
              "2019-10-23 07:40:00     15.602151  27.875000\n",
              "...                           ...        ...\n",
              "2019-10-24 04:39:00     18.000000  28.393906\n",
              "2019-10-24 04:40:00     17.000000  28.394044\n",
              "2019-10-24 04:41:00     18.000000  28.394183\n",
              "2019-10-24 04:42:00     17.500000  28.394321\n",
              "2019-10-24 04:43:00     17.000000  28.394460\n",
              "\n",
              "[1268 rows x 2 columns]"
            ]
          },
          "metadata": {
            "tags": []
          },
          "execution_count": 284
        }
      ]
    },
    {
      "cell_type": "code",
      "metadata": {
        "id": "S915-27WUBC0",
        "colab_type": "code",
        "outputId": "bd9119c0-d25e-441d-9034-0efb885148a7",
        "colab": {
          "base_uri": "https://localhost:8080/",
          "height": 35
        }
      },
      "source": [
        "y = a.iloc[:, 1]\n",
        "y.isnull().sum()"
      ],
      "execution_count": 0,
      "outputs": [
        {
          "output_type": "execute_result",
          "data": {
            "text/plain": [
              "0"
            ]
          },
          "metadata": {
            "tags": []
          },
          "execution_count": 285
        }
      ]
    },
    {
      "cell_type": "code",
      "metadata": {
        "id": "Rcm39gwsTFZN",
        "colab_type": "code",
        "colab": {}
      },
      "source": [
        "X_train, X_test, y_train, y_test = train_test_split(X, y, test_size=0.3)"
      ],
      "execution_count": 0,
      "outputs": []
    },
    {
      "cell_type": "code",
      "metadata": {
        "id": "hCDSiPsLUevB",
        "colab_type": "code",
        "colab": {}
      },
      "source": [
        "model3 = LinearRegression()\n",
        "model3 = model.fit(X_train,y_train)"
      ],
      "execution_count": 0,
      "outputs": []
    },
    {
      "cell_type": "code",
      "metadata": {
        "id": "QEhACygwUers",
        "colab_type": "code",
        "outputId": "3cf7da73-4a04-4331-e70b-e40cc7bed2f3",
        "colab": {
          "base_uri": "https://localhost:8080/",
          "height": 35
        }
      },
      "source": [
        "r_sq = model3.score(X_train, y_train)\n",
        "print('coefficient of determination:', r_sq)"
      ],
      "execution_count": 0,
      "outputs": [
        {
          "output_type": "stream",
          "text": [
            "coefficient of determination: 0.794494032994229\n"
          ],
          "name": "stdout"
        }
      ]
    },
    {
      "cell_type": "code",
      "metadata": {
        "id": "7gvxvkqXnOI_",
        "colab_type": "code",
        "outputId": "5f953260-5b32-4a78-d101-fe2fe18f469e",
        "colab": {
          "base_uri": "https://localhost:8080/",
          "height": 35
        }
      },
      "source": [
        "test_score = model3.score(X_test, y_test)\n",
        "print('Test_score:', test_score)"
      ],
      "execution_count": 0,
      "outputs": [
        {
          "output_type": "stream",
          "text": [
            "Test_score: 0.8274619876365421\n"
          ],
          "name": "stdout"
        }
      ]
    },
    {
      "cell_type": "code",
      "metadata": {
        "id": "G6se8S9fUeoH",
        "colab_type": "code",
        "outputId": "d79f8d39-cce9-4d17-9b81-dcb11f6e9861",
        "colab": {
          "base_uri": "https://localhost:8080/",
          "height": 54
        }
      },
      "source": [
        "print('intercept:', model3.intercept_)\n",
        "print('slope:', model3.coef_)"
      ],
      "execution_count": 0,
      "outputs": [
        {
          "output_type": "stream",
          "text": [
            "intercept: 114.23008766852978\n",
            "slope: [-0.7185215  -2.35218788]\n"
          ],
          "name": "stdout"
        }
      ]
    },
    {
      "cell_type": "code",
      "metadata": {
        "id": "HFo0CEr6WqcD",
        "colab_type": "code",
        "outputId": "91029b94-ea6b-4cdb-8115-43e0ecbf23e8",
        "colab": {
          "base_uri": "https://localhost:8080/",
          "height": 1000
        }
      },
      "source": [
        "y_pred = model3.predict(X_test)\n",
        "print('predicted response:', y_pred, sep='\\n')"
      ],
      "execution_count": 0,
      "outputs": [
        {
          "output_type": "stream",
          "text": [
            "predicted response:\n",
            "[35.07926701 45.85796922 34.99315085 34.99441911 34.81778207 34.45207771\n",
            " 35.34352854 37.02072293 41.0398857  34.78436179 34.64187    35.08259642\n",
            " 37.68887357 34.65919839 36.08355919 35.63363846 34.44019958 37.73580274\n",
            " 45.97129024 36.1209046  42.97813629 34.44613865 34.93527269 35.02381155\n",
            " 34.67738272 37.48822302 34.82441458 39.25079929 46.67909079 34.70582678\n",
            " 38.19310309 34.53659162 34.89475307 36.20332624 35.07517512 35.73831974\n",
            " 36.1067373  41.80122063 50.99665233 34.6748461  35.89641545 37.8051079\n",
            " 35.62553363 37.66634989 34.92976845 50.59673224 34.64947987 35.61233103\n",
            " 34.52287472 49.31795798 37.52952869 34.88868503 35.25771941 35.12335566\n",
            " 37.77400322 35.93523699 43.50363715 42.16203239 49.2786333  34.88188609\n",
            " 36.06038107 47.31592897 37.65024338 34.44811833 37.2132679  34.80300367\n",
            " 34.62414333 34.84096329 35.00806435 35.61999693 37.75783496 36.98641994\n",
            " 37.0629889  34.69078737 34.66591189 46.443872   45.51025114 35.93733741\n",
            " 44.63680238 50.44489607 36.8865738  34.44670427 34.44302771 35.82206477\n",
            " 35.65204697 34.45745115 35.2409254  37.20716596 35.28124344 34.57829245\n",
            " 35.29323028 34.4563199  45.17441598 36.8725269  35.40581364 37.57555255\n",
            " 34.5769893  34.74707803 36.87064784 39.51075714 34.91858333 34.45009802\n",
            " 34.85247798 38.21825473 34.5592277  34.57047355 34.76541381 46.86193745\n",
            " 34.88875632 36.06810711 34.94841033 36.1239082  44.56855426 35.26423517\n",
            " 34.58676294 49.20678116 34.94095358 34.45660271 37.16047303 34.45236052\n",
            " 34.70528558 35.87295189 50.15194468 35.99752209 36.73683314 41.25601122\n",
            " 34.92093802 41.51463376 38.36230911 51.06207191 34.78035106 50.27813083\n",
            " 35.71738349 34.71785936 48.90310882 37.15333762 50.14765631 36.79146151\n",
            " 34.7992753  34.574383   36.05265503 50.74213584 34.60635727 38.30058473\n",
            " 34.44415896 47.59373493 36.044929   34.8133604  49.44199994 34.59494828\n",
            " 36.22585335 34.44642146 35.13275323 34.90269391 37.91305413 35.07890349\n",
            " 35.26358359 35.02048214 36.15193866 34.7409926  49.97767478 34.70233752\n",
            " 47.00885803 46.11028802 37.15030039 34.77785154 49.19391602 34.50824808\n",
            " 35.03850777 34.44585583 34.51313489 46.18976638 35.07939219 50.04291204\n",
            " 34.88640452 34.69472398 35.63291591 37.30693386 37.5031791  34.85845493\n",
            " 50.46097749 35.23100481 36.99597551 35.29648816 34.87141828 34.45462302\n",
            " 35.11522885 36.98004955 34.98954292 42.53881129 35.18505355 34.74129913\n",
            " 34.84028743 35.65137158 36.76957718 35.63476147 36.99438292 34.75297607\n",
            " 37.94191716 35.12668507 50.47269028 34.77940034 34.79554692 35.123644\n",
            " 34.81159261 34.45575427 35.28501405 38.08900907 35.05653324 36.98164215\n",
            " 34.72050532 36.14826812 37.17615547 35.22774694 45.95918263 37.83669958\n",
            " 34.44557302 37.68172047 47.25050938 34.76944829 34.79636219 34.53756898\n",
            " 45.99124917 46.22861214 34.87011444 49.91458171 34.82692168 49.61841403\n",
            " 35.65746163 35.89985311 49.6248466  34.57740419 34.83767959 51.1535864\n",
            " 35.05320398 34.89813288 35.80112851 36.13358595 37.5446484  34.73023652\n",
            " 45.88931033 35.21992044 34.66723623 49.45272089 50.54260003 43.43684888\n",
            " 34.50987702 39.80791357 40.50418324 37.54579429 37.39757844 34.61633294\n",
            " 34.95213871 35.09729264 34.8740757  34.70684231 49.80340488 35.64029818\n",
            " 39.42156953 34.81791718 44.84154673 34.69443681 36.02175088 37.79309029\n",
            " 34.45716833 37.06284904 38.3172666  34.65708974 36.98801253 39.08002906\n",
            " 35.00578592 40.75243291 35.13110075 35.84300102 37.10960985 37.86829126\n",
            " 36.72685219 36.19598515 34.64590936 47.530231   34.66319526 34.71372786\n",
            " 37.14192869 37.63135365 34.4450074  34.80230623 37.1256447  49.36216422\n",
            " 37.0266807  35.16465614 50.88753944 34.44217927 36.09094974 37.21628928\n",
            " 34.59558068 34.62284541 34.75531652 35.14228588 36.61735891 34.82662541\n",
            " 34.79597184 35.0006076  49.72940854 34.65455311 37.42132697 37.5723542\n",
            " 50.18831565 37.58809131 38.15902462 34.8227868  34.45292615 37.84210955\n",
            " 35.67551097 47.45963327 34.62918688 37.02973637 37.41524162 34.85226758\n",
            " 35.11618725 34.98942247 45.80023662 38.26066687 37.74858463 34.77091941\n",
            " 35.64952602 34.78063342 37.11015501 39.78555125 34.69488321 35.202487\n",
            " 34.44104802 34.82180498 35.06457079 49.70331364 34.8707667  47.76973816\n",
            " 37.85249542 37.94796962 37.04636263 34.66469961 35.31238599 34.45603708\n",
            " 35.26293202 34.45518865 35.62922477 35.0155211  35.11531978 37.05508117\n",
            " 34.71743572 37.01459624 34.74485067 34.8276025  34.95959546 44.08881065\n",
            " 36.77350236 34.65538488 34.61375717 37.38436283 36.48415569 34.67230948\n",
            " 49.92530265 45.99553755 35.80484889 50.68011486 38.00617349 35.64583488\n",
            " 46.80956532 36.77380412 50.61809388 40.07300405 37.69574889 34.80461031\n",
            " 36.55649236 34.59290178 34.66216298 38.45811198 38.9147266  34.78809017\n",
            " 37.70432564 36.19231461 42.06039014]\n"
          ],
          "name": "stdout"
        }
      ]
    },
    {
      "cell_type": "code",
      "metadata": {
        "id": "Xn8SL1lZWzCi",
        "colab_type": "code",
        "outputId": "3f53b044-4315-4a25-c1cf-e3a9d36daa52",
        "colab": {
          "base_uri": "https://localhost:8080/",
          "height": 35
        }
      },
      "source": [
        "print(\"MSE:\",metrics.mean_squared_error(y_test, y_pred))"
      ],
      "execution_count": 0,
      "outputs": [
        {
          "output_type": "stream",
          "text": [
            "MSE: 5.013330972432628\n"
          ],
          "name": "stdout"
        }
      ]
    },
    {
      "cell_type": "code",
      "metadata": {
        "id": "Cy4gLxmpW0fk",
        "colab_type": "code",
        "colab": {}
      },
      "source": [
        "x = dff.iloc[:, [0,2]]"
      ],
      "execution_count": 0,
      "outputs": []
    },
    {
      "cell_type": "code",
      "metadata": {
        "id": "YpwAsgwzJKKU",
        "colab_type": "code",
        "outputId": "19309e76-58f9-48ce-b431-6376791331e3",
        "colab": {
          "base_uri": "https://localhost:8080/",
          "height": 455
        }
      },
      "source": [
        "x"
      ],
      "execution_count": 0,
      "outputs": [
        {
          "output_type": "execute_result",
          "data": {
            "text/html": [
              "<div>\n",
              "<style scoped>\n",
              "    .dataframe tbody tr th:only-of-type {\n",
              "        vertical-align: middle;\n",
              "    }\n",
              "\n",
              "    .dataframe tbody tr th {\n",
              "        vertical-align: top;\n",
              "    }\n",
              "\n",
              "    .dataframe thead th {\n",
              "        text-align: right;\n",
              "    }\n",
              "</style>\n",
              "<table border=\"1\" class=\"dataframe\">\n",
              "  <thead>\n",
              "    <tr style=\"text-align: right;\">\n",
              "      <th></th>\n",
              "      <th>humidity_out</th>\n",
              "      <th>temp_in</th>\n",
              "    </tr>\n",
              "    <tr>\n",
              "      <th>statetime</th>\n",
              "      <th></th>\n",
              "      <th></th>\n",
              "    </tr>\n",
              "  </thead>\n",
              "  <tbody>\n",
              "    <tr>\n",
              "      <th>2019-10-20 18:00:00</th>\n",
              "      <td>15.694030</td>\n",
              "      <td>27.611490</td>\n",
              "    </tr>\n",
              "    <tr>\n",
              "      <th>2019-10-20 18:01:00</th>\n",
              "      <td>15.686567</td>\n",
              "      <td>27.614091</td>\n",
              "    </tr>\n",
              "    <tr>\n",
              "      <th>2019-10-20 18:02:00</th>\n",
              "      <td>15.679104</td>\n",
              "      <td>27.616693</td>\n",
              "    </tr>\n",
              "    <tr>\n",
              "      <th>2019-10-20 18:03:00</th>\n",
              "      <td>15.671642</td>\n",
              "      <td>27.619294</td>\n",
              "    </tr>\n",
              "    <tr>\n",
              "      <th>2019-10-20 18:04:00</th>\n",
              "      <td>15.664179</td>\n",
              "      <td>27.621896</td>\n",
              "    </tr>\n",
              "    <tr>\n",
              "      <th>...</th>\n",
              "      <td>...</td>\n",
              "      <td>...</td>\n",
              "    </tr>\n",
              "    <tr>\n",
              "      <th>2019-10-24 04:39:00</th>\n",
              "      <td>18.000000</td>\n",
              "      <td>28.393906</td>\n",
              "    </tr>\n",
              "    <tr>\n",
              "      <th>2019-10-24 04:40:00</th>\n",
              "      <td>17.000000</td>\n",
              "      <td>28.394044</td>\n",
              "    </tr>\n",
              "    <tr>\n",
              "      <th>2019-10-24 04:41:00</th>\n",
              "      <td>18.000000</td>\n",
              "      <td>28.394183</td>\n",
              "    </tr>\n",
              "    <tr>\n",
              "      <th>2019-10-24 04:42:00</th>\n",
              "      <td>17.500000</td>\n",
              "      <td>28.394321</td>\n",
              "    </tr>\n",
              "    <tr>\n",
              "      <th>2019-10-24 04:43:00</th>\n",
              "      <td>17.000000</td>\n",
              "      <td>28.394460</td>\n",
              "    </tr>\n",
              "  </tbody>\n",
              "</table>\n",
              "<p>4964 rows × 2 columns</p>\n",
              "</div>"
            ],
            "text/plain": [
              "                     humidity_out    temp_in\n",
              "statetime                                   \n",
              "2019-10-20 18:00:00     15.694030  27.611490\n",
              "2019-10-20 18:01:00     15.686567  27.614091\n",
              "2019-10-20 18:02:00     15.679104  27.616693\n",
              "2019-10-20 18:03:00     15.671642  27.619294\n",
              "2019-10-20 18:04:00     15.664179  27.621896\n",
              "...                           ...        ...\n",
              "2019-10-24 04:39:00     18.000000  28.393906\n",
              "2019-10-24 04:40:00     17.000000  28.394044\n",
              "2019-10-24 04:41:00     18.000000  28.394183\n",
              "2019-10-24 04:42:00     17.500000  28.394321\n",
              "2019-10-24 04:43:00     17.000000  28.394460\n",
              "\n",
              "[4964 rows x 2 columns]"
            ]
          },
          "metadata": {
            "tags": []
          },
          "execution_count": 294
        }
      ]
    },
    {
      "cell_type": "code",
      "metadata": {
        "id": "3nixhqb5FqUS",
        "colab_type": "code",
        "outputId": "74b6f485-554f-4047-b346-f48fe33694b2",
        "colab": {
          "base_uri": "https://localhost:8080/",
          "height": 72
        }
      },
      "source": [
        "x.isnull().sum()"
      ],
      "execution_count": 0,
      "outputs": [
        {
          "output_type": "execute_result",
          "data": {
            "text/plain": [
              "humidity_out    0\n",
              "temp_in         0\n",
              "dtype: int64"
            ]
          },
          "metadata": {
            "tags": []
          },
          "execution_count": 295
        }
      ]
    },
    {
      "cell_type": "code",
      "metadata": {
        "id": "RXw8VRGIW9-l",
        "colab_type": "code",
        "outputId": "bb8c1fcd-583d-4f1a-e053-5728f76d4c78",
        "colab": {
          "base_uri": "https://localhost:8080/",
          "height": 127
        }
      },
      "source": [
        "x['new_hum_in'] = model3.predict(x)"
      ],
      "execution_count": 0,
      "outputs": [
        {
          "output_type": "stream",
          "text": [
            "/usr/local/lib/python3.6/dist-packages/ipykernel_launcher.py:1: SettingWithCopyWarning: \n",
            "A value is trying to be set on a copy of a slice from a DataFrame.\n",
            "Try using .loc[row_indexer,col_indexer] = value instead\n",
            "\n",
            "See the caveats in the documentation: http://pandas.pydata.org/pandas-docs/stable/user_guide/indexing.html#returning-a-view-versus-a-copy\n",
            "  \"\"\"Entry point for launching an IPython kernel.\n"
          ],
          "name": "stderr"
        }
      ]
    },
    {
      "cell_type": "code",
      "metadata": {
        "id": "JgQUxFJB8-hT",
        "colab_type": "code",
        "colab": {}
      },
      "source": [
        "#flag"
      ],
      "execution_count": 0,
      "outputs": []
    },
    {
      "cell_type": "code",
      "metadata": {
        "id": "XJ131usFXWkw",
        "colab_type": "code",
        "outputId": "9f4743c0-12fb-4c5a-9854-bfa6619dd820",
        "colab": {
          "base_uri": "https://localhost:8080/",
          "height": 455
        }
      },
      "source": [
        "x"
      ],
      "execution_count": 0,
      "outputs": [
        {
          "output_type": "execute_result",
          "data": {
            "text/html": [
              "<div>\n",
              "<style scoped>\n",
              "    .dataframe tbody tr th:only-of-type {\n",
              "        vertical-align: middle;\n",
              "    }\n",
              "\n",
              "    .dataframe tbody tr th {\n",
              "        vertical-align: top;\n",
              "    }\n",
              "\n",
              "    .dataframe thead th {\n",
              "        text-align: right;\n",
              "    }\n",
              "</style>\n",
              "<table border=\"1\" class=\"dataframe\">\n",
              "  <thead>\n",
              "    <tr style=\"text-align: right;\">\n",
              "      <th></th>\n",
              "      <th>humidity_out</th>\n",
              "      <th>temp_in</th>\n",
              "      <th>new_hum_in</th>\n",
              "    </tr>\n",
              "    <tr>\n",
              "      <th>statetime</th>\n",
              "      <th></th>\n",
              "      <th></th>\n",
              "      <th></th>\n",
              "    </tr>\n",
              "  </thead>\n",
              "  <tbody>\n",
              "    <tr>\n",
              "      <th>2019-10-20 18:00:00</th>\n",
              "      <td>15.694030</td>\n",
              "      <td>27.611490</td>\n",
              "      <td>38.006178</td>\n",
              "    </tr>\n",
              "    <tr>\n",
              "      <th>2019-10-20 18:01:00</th>\n",
              "      <td>15.686567</td>\n",
              "      <td>27.614091</td>\n",
              "      <td>38.005421</td>\n",
              "    </tr>\n",
              "    <tr>\n",
              "      <th>2019-10-20 18:02:00</th>\n",
              "      <td>15.679104</td>\n",
              "      <td>27.616693</td>\n",
              "      <td>38.004664</td>\n",
              "    </tr>\n",
              "    <tr>\n",
              "      <th>2019-10-20 18:03:00</th>\n",
              "      <td>15.671642</td>\n",
              "      <td>27.619294</td>\n",
              "      <td>38.003907</td>\n",
              "    </tr>\n",
              "    <tr>\n",
              "      <th>2019-10-20 18:04:00</th>\n",
              "      <td>15.664179</td>\n",
              "      <td>27.621896</td>\n",
              "      <td>38.003150</td>\n",
              "    </tr>\n",
              "    <tr>\n",
              "      <th>...</th>\n",
              "      <td>...</td>\n",
              "      <td>...</td>\n",
              "      <td>...</td>\n",
              "    </tr>\n",
              "    <tr>\n",
              "      <th>2019-10-24 04:39:00</th>\n",
              "      <td>18.000000</td>\n",
              "      <td>28.393906</td>\n",
              "      <td>34.508900</td>\n",
              "    </tr>\n",
              "    <tr>\n",
              "      <th>2019-10-24 04:40:00</th>\n",
              "      <td>17.000000</td>\n",
              "      <td>28.394044</td>\n",
              "      <td>35.227095</td>\n",
              "    </tr>\n",
              "    <tr>\n",
              "      <th>2019-10-24 04:41:00</th>\n",
              "      <td>18.000000</td>\n",
              "      <td>28.394183</td>\n",
              "      <td>34.508248</td>\n",
              "    </tr>\n",
              "    <tr>\n",
              "      <th>2019-10-24 04:42:00</th>\n",
              "      <td>17.500000</td>\n",
              "      <td>28.394321</td>\n",
              "      <td>34.867183</td>\n",
              "    </tr>\n",
              "    <tr>\n",
              "      <th>2019-10-24 04:43:00</th>\n",
              "      <td>17.000000</td>\n",
              "      <td>28.394460</td>\n",
              "      <td>35.226118</td>\n",
              "    </tr>\n",
              "  </tbody>\n",
              "</table>\n",
              "<p>4964 rows × 3 columns</p>\n",
              "</div>"
            ],
            "text/plain": [
              "                     humidity_out    temp_in  new_hum_in\n",
              "statetime                                               \n",
              "2019-10-20 18:00:00     15.694030  27.611490   38.006178\n",
              "2019-10-20 18:01:00     15.686567  27.614091   38.005421\n",
              "2019-10-20 18:02:00     15.679104  27.616693   38.004664\n",
              "2019-10-20 18:03:00     15.671642  27.619294   38.003907\n",
              "2019-10-20 18:04:00     15.664179  27.621896   38.003150\n",
              "...                           ...        ...         ...\n",
              "2019-10-24 04:39:00     18.000000  28.393906   34.508900\n",
              "2019-10-24 04:40:00     17.000000  28.394044   35.227095\n",
              "2019-10-24 04:41:00     18.000000  28.394183   34.508248\n",
              "2019-10-24 04:42:00     17.500000  28.394321   34.867183\n",
              "2019-10-24 04:43:00     17.000000  28.394460   35.226118\n",
              "\n",
              "[4964 rows x 3 columns]"
            ]
          },
          "metadata": {
            "tags": []
          },
          "execution_count": 298
        }
      ]
    },
    {
      "cell_type": "code",
      "metadata": {
        "id": "pgQuCdkSDw6w",
        "colab_type": "code",
        "colab": {}
      },
      "source": [
        "dff = dff.merge(x['new_hum_in'], how='outer', on='statetime', sort=True)"
      ],
      "execution_count": 0,
      "outputs": []
    },
    {
      "cell_type": "code",
      "metadata": {
        "id": "0sjQr3wMDbet",
        "colab_type": "code",
        "colab": {}
      },
      "source": [
        "for i in range(0, len(dff)):\n",
        "  if math.isnan(dff['humidity_in'][i]):\n",
        "    dff['humidity_in'][i] = dff['new_hum_in'][i] "
      ],
      "execution_count": 0,
      "outputs": []
    },
    {
      "cell_type": "code",
      "metadata": {
        "id": "RlE-oesOEDId",
        "colab_type": "code",
        "outputId": "c38bd40e-479a-446e-b4c3-8996e8280841",
        "colab": {
          "base_uri": "https://localhost:8080/",
          "height": 265
        }
      },
      "source": [
        "plt.plot(dff['temp_out'],label = 'temp_out')\n",
        "plt.plot(dff['ac_pow_power'])\n",
        "plt.plot(dff['temp_in'])\n",
        "plt.plot(dff['humidity_in'])\n",
        "plt.plot(dff['humidity_out'])\n",
        "plt.show()"
      ],
      "execution_count": 0,
      "outputs": [
        {
          "output_type": "display_data",
          "data": {
            "image/png": "[encoded data removed]",
            "text/plain": [
              "<Figure size 432x288 with 1 Axes>"
            ]
          },
          "metadata": {
            "tags": []
          }
        }
      ]
    },
    {
      "cell_type": "code",
      "metadata": {
        "id": "0ocv0zgTEhPD",
        "colab_type": "code",
        "colab": {}
      },
      "source": [
        "dff = dff.drop(columns='new_hum_in')"
      ],
      "execution_count": 0,
      "outputs": []
    },
    {
      "cell_type": "code",
      "metadata": {
        "id": "WgHaSe3iTDe9",
        "colab_type": "code",
        "colab": {}
      },
      "source": [
        "df_occup['statetime'] = pd.to_datetime(df_occup['statetime'])"
      ],
      "execution_count": 0,
      "outputs": []
    },
    {
      "cell_type": "code",
      "metadata": {
        "id": "4RyCzMZeUSxd",
        "colab_type": "code",
        "colab": {}
      },
      "source": [
        "df_occup = df_occup.set_index('statetime')"
      ],
      "execution_count": 0,
      "outputs": []
    },
    {
      "cell_type": "code",
      "metadata": {
        "id": "s8UBzMUoTVz_",
        "colab_type": "code",
        "colab": {}
      },
      "source": [
        "df_occup = df_occup.replace(\"EA674E\", 1)"
      ],
      "execution_count": 0,
      "outputs": []
    },
    {
      "cell_type": "code",
      "metadata": {
        "id": "DDm9i1ij9pMv",
        "colab_type": "code",
        "colab": {}
      },
      "source": [
        "df_occup = df_occup.resample('min').max()"
      ],
      "execution_count": 0,
      "outputs": []
    },
    {
      "cell_type": "code",
      "metadata": {
        "id": "QEJBkzm3W3P4",
        "colab_type": "code",
        "outputId": "a1f31adb-6e03-4934-d6ca-2439c0a48216",
        "colab": {
          "base_uri": "https://localhost:8080/",
          "height": 54
        }
      },
      "source": [
        "df_occup.isnull().sum()"
      ],
      "execution_count": 0,
      "outputs": [
        {
          "output_type": "execute_result",
          "data": {
            "text/plain": [
              "motion_detected    2486\n",
              "dtype: int64"
            ]
          },
          "metadata": {
            "tags": []
          },
          "execution_count": 307
        }
      ]
    },
    {
      "cell_type": "code",
      "metadata": {
        "id": "tRvoLHajX8og",
        "colab_type": "code",
        "colab": {}
      },
      "source": [
        "dff = dff.merge(df_occup, how='outer', on='statetime')"
      ],
      "execution_count": 0,
      "outputs": []
    },
    {
      "cell_type": "code",
      "metadata": {
        "id": "nPi_tS_LGGJD",
        "colab_type": "code",
        "colab": {}
      },
      "source": [
        "dff['motion_detected'] = dff['motion_detected'].fillna(0)"
      ],
      "execution_count": 0,
      "outputs": []
    },
    {
      "cell_type": "code",
      "metadata": {
        "id": "1n3D4UogZh9l",
        "colab_type": "code",
        "colab": {}
      },
      "source": [
        "from sklearn import tree"
      ],
      "execution_count": 0,
      "outputs": []
    },
    {
      "cell_type": "code",
      "metadata": {
        "id": "e0YWPz1Z1RMz",
        "colab_type": "code",
        "colab": {}
      },
      "source": [
        "dff['AC'] = dff['ac_pow_power']"
      ],
      "execution_count": 0,
      "outputs": []
    },
    {
      "cell_type": "code",
      "metadata": {
        "id": "dd_nQaEtGXyy",
        "colab_type": "code",
        "colab": {}
      },
      "source": [
        "dff['AC'] = dff['AC'].fillna(0)"
      ],
      "execution_count": 0,
      "outputs": []
    },
    {
      "cell_type": "code",
      "metadata": {
        "id": "qj9d6i2-GliN",
        "colab_type": "code",
        "outputId": "56e6630c-e009-4656-92d4-ee06f0ffde81",
        "colab": {
          "base_uri": "https://localhost:8080/",
          "height": 455
        }
      },
      "source": [
        "dff"
      ],
      "execution_count": 0,
      "outputs": [
        {
          "output_type": "execute_result",
          "data": {
            "text/html": [
              "<div>\n",
              "<style scoped>\n",
              "    .dataframe tbody tr th:only-of-type {\n",
              "        vertical-align: middle;\n",
              "    }\n",
              "\n",
              "    .dataframe tbody tr th {\n",
              "        vertical-align: top;\n",
              "    }\n",
              "\n",
              "    .dataframe thead th {\n",
              "        text-align: right;\n",
              "    }\n",
              "</style>\n",
              "<table border=\"1\" class=\"dataframe\">\n",
              "  <thead>\n",
              "    <tr style=\"text-align: right;\">\n",
              "      <th></th>\n",
              "      <th>humidity_out</th>\n",
              "      <th>humidity_in</th>\n",
              "      <th>temp_in</th>\n",
              "      <th>temp_out</th>\n",
              "      <th>ac_pow_power</th>\n",
              "      <th>ac_pow_current</th>\n",
              "      <th>motion_detected</th>\n",
              "      <th>AC</th>\n",
              "    </tr>\n",
              "    <tr>\n",
              "      <th>statetime</th>\n",
              "      <th></th>\n",
              "      <th></th>\n",
              "      <th></th>\n",
              "      <th></th>\n",
              "      <th></th>\n",
              "      <th></th>\n",
              "      <th></th>\n",
              "      <th></th>\n",
              "    </tr>\n",
              "  </thead>\n",
              "  <tbody>\n",
              "    <tr>\n",
              "      <th>2019-10-20 18:00:00</th>\n",
              "      <td>15.694030</td>\n",
              "      <td>38.006178</td>\n",
              "      <td>27.611490</td>\n",
              "      <td>25.537037</td>\n",
              "      <td>0.0</td>\n",
              "      <td>0.0</td>\n",
              "      <td>0.0</td>\n",
              "      <td>0.0</td>\n",
              "    </tr>\n",
              "    <tr>\n",
              "      <th>2019-10-20 18:01:00</th>\n",
              "      <td>15.686567</td>\n",
              "      <td>38.005421</td>\n",
              "      <td>27.614091</td>\n",
              "      <td>25.527778</td>\n",
              "      <td>0.0</td>\n",
              "      <td>0.0</td>\n",
              "      <td>0.0</td>\n",
              "      <td>0.0</td>\n",
              "    </tr>\n",
              "    <tr>\n",
              "      <th>2019-10-20 18:02:00</th>\n",
              "      <td>15.679104</td>\n",
              "      <td>38.004664</td>\n",
              "      <td>27.616693</td>\n",
              "      <td>25.518519</td>\n",
              "      <td>0.0</td>\n",
              "      <td>0.0</td>\n",
              "      <td>0.0</td>\n",
              "      <td>0.0</td>\n",
              "    </tr>\n",
              "    <tr>\n",
              "      <th>2019-10-20 18:03:00</th>\n",
              "      <td>15.671642</td>\n",
              "      <td>38.003907</td>\n",
              "      <td>27.619294</td>\n",
              "      <td>25.509259</td>\n",
              "      <td>0.0</td>\n",
              "      <td>0.0</td>\n",
              "      <td>0.0</td>\n",
              "      <td>0.0</td>\n",
              "    </tr>\n",
              "    <tr>\n",
              "      <th>2019-10-20 18:04:00</th>\n",
              "      <td>15.664179</td>\n",
              "      <td>38.003150</td>\n",
              "      <td>27.621896</td>\n",
              "      <td>25.500000</td>\n",
              "      <td>0.0</td>\n",
              "      <td>0.0</td>\n",
              "      <td>0.0</td>\n",
              "      <td>0.0</td>\n",
              "    </tr>\n",
              "    <tr>\n",
              "      <th>...</th>\n",
              "      <td>...</td>\n",
              "      <td>...</td>\n",
              "      <td>...</td>\n",
              "      <td>...</td>\n",
              "      <td>...</td>\n",
              "      <td>...</td>\n",
              "      <td>...</td>\n",
              "      <td>...</td>\n",
              "    </tr>\n",
              "    <tr>\n",
              "      <th>2019-10-24 05:49:00</th>\n",
              "      <td>NaN</td>\n",
              "      <td>NaN</td>\n",
              "      <td>NaN</td>\n",
              "      <td>NaN</td>\n",
              "      <td>NaN</td>\n",
              "      <td>NaN</td>\n",
              "      <td>1.0</td>\n",
              "      <td>0.0</td>\n",
              "    </tr>\n",
              "    <tr>\n",
              "      <th>2019-10-24 05:50:00</th>\n",
              "      <td>NaN</td>\n",
              "      <td>NaN</td>\n",
              "      <td>NaN</td>\n",
              "      <td>NaN</td>\n",
              "      <td>NaN</td>\n",
              "      <td>NaN</td>\n",
              "      <td>1.0</td>\n",
              "      <td>0.0</td>\n",
              "    </tr>\n",
              "    <tr>\n",
              "      <th>2019-10-24 05:51:00</th>\n",
              "      <td>NaN</td>\n",
              "      <td>NaN</td>\n",
              "      <td>NaN</td>\n",
              "      <td>NaN</td>\n",
              "      <td>NaN</td>\n",
              "      <td>NaN</td>\n",
              "      <td>1.0</td>\n",
              "      <td>0.0</td>\n",
              "    </tr>\n",
              "    <tr>\n",
              "      <th>2019-10-24 05:52:00</th>\n",
              "      <td>NaN</td>\n",
              "      <td>NaN</td>\n",
              "      <td>NaN</td>\n",
              "      <td>NaN</td>\n",
              "      <td>NaN</td>\n",
              "      <td>NaN</td>\n",
              "      <td>1.0</td>\n",
              "      <td>0.0</td>\n",
              "    </tr>\n",
              "    <tr>\n",
              "      <th>2019-10-24 05:53:00</th>\n",
              "      <td>NaN</td>\n",
              "      <td>NaN</td>\n",
              "      <td>NaN</td>\n",
              "      <td>NaN</td>\n",
              "      <td>NaN</td>\n",
              "      <td>NaN</td>\n",
              "      <td>1.0</td>\n",
              "      <td>0.0</td>\n",
              "    </tr>\n",
              "  </tbody>\n",
              "</table>\n",
              "<p>5034 rows × 8 columns</p>\n",
              "</div>"
            ],
            "text/plain": [
              "                     humidity_out  humidity_in  ...  motion_detected   AC\n",
              "statetime                                       ...                      \n",
              "2019-10-20 18:00:00     15.694030    38.006178  ...              0.0  0.0\n",
              "2019-10-20 18:01:00     15.686567    38.005421  ...              0.0  0.0\n",
              "2019-10-20 18:02:00     15.679104    38.004664  ...              0.0  0.0\n",
              "2019-10-20 18:03:00     15.671642    38.003907  ...              0.0  0.0\n",
              "2019-10-20 18:04:00     15.664179    38.003150  ...              0.0  0.0\n",
              "...                           ...          ...  ...              ...  ...\n",
              "2019-10-24 05:49:00           NaN          NaN  ...              1.0  0.0\n",
              "2019-10-24 05:50:00           NaN          NaN  ...              1.0  0.0\n",
              "2019-10-24 05:51:00           NaN          NaN  ...              1.0  0.0\n",
              "2019-10-24 05:52:00           NaN          NaN  ...              1.0  0.0\n",
              "2019-10-24 05:53:00           NaN          NaN  ...              1.0  0.0\n",
              "\n",
              "[5034 rows x 8 columns]"
            ]
          },
          "metadata": {
            "tags": []
          },
          "execution_count": 313
        }
      ]
    },
    {
      "cell_type": "code",
      "metadata": {
        "id": "VsqB54a6Mmll",
        "colab_type": "code",
        "outputId": "528d59fa-bee5-478b-e731-769260d35934",
        "colab": {
          "base_uri": "https://localhost:8080/",
          "height": 575
        }
      },
      "source": [
        "corrmat = dff.corr() \n",
        "\n",
        "f, ax = plt.subplots(figsize =(9, 8)) \n",
        "sns.heatmap(corrmat, ax = ax, cmap =\"YlGnBu\", linewidths = 0.1) "
      ],
      "execution_count": 0,
      "outputs": [
        {
          "output_type": "execute_result",
          "data": {
            "text/plain": [
              "<matplotlib.axes._subplots.AxesSubplot at 0x7f9dcb059518>"
            ]
          },
          "metadata": {
            "tags": []
          },
          "execution_count": 314
        },
        {
          "output_type": "display_data",
          "data": {
            "image/png": "[encoded data removed]",
            "text/plain": [
              "<Figure size 648x576 with 2 Axes>"
            ]
          },
          "metadata": {
            "tags": []
          }
        }
      ]
    },
    {
      "cell_type": "code",
      "metadata": {
        "id": "xEXUmKWb1YG7",
        "colab_type": "code",
        "outputId": "462c3f35-0c39-4197-b75e-431480ca8d15",
        "colab": {
          "base_uri": "https://localhost:8080/",
          "height": 455
        }
      },
      "source": [
        "dff"
      ],
      "execution_count": 0,
      "outputs": [
        {
          "output_type": "execute_result",
          "data": {
            "text/html": [
              "<div>\n",
              "<style scoped>\n",
              "    .dataframe tbody tr th:only-of-type {\n",
              "        vertical-align: middle;\n",
              "    }\n",
              "\n",
              "    .dataframe tbody tr th {\n",
              "        vertical-align: top;\n",
              "    }\n",
              "\n",
              "    .dataframe thead th {\n",
              "        text-align: right;\n",
              "    }\n",
              "</style>\n",
              "<table border=\"1\" class=\"dataframe\">\n",
              "  <thead>\n",
              "    <tr style=\"text-align: right;\">\n",
              "      <th></th>\n",
              "      <th>humidity_out</th>\n",
              "      <th>humidity_in</th>\n",
              "      <th>temp_in</th>\n",
              "      <th>temp_out</th>\n",
              "      <th>ac_pow_power</th>\n",
              "      <th>ac_pow_current</th>\n",
              "      <th>motion_detected</th>\n",
              "      <th>AC</th>\n",
              "    </tr>\n",
              "    <tr>\n",
              "      <th>statetime</th>\n",
              "      <th></th>\n",
              "      <th></th>\n",
              "      <th></th>\n",
              "      <th></th>\n",
              "      <th></th>\n",
              "      <th></th>\n",
              "      <th></th>\n",
              "      <th></th>\n",
              "    </tr>\n",
              "  </thead>\n",
              "  <tbody>\n",
              "    <tr>\n",
              "      <th>2019-10-20 18:00:00</th>\n",
              "      <td>15.694030</td>\n",
              "      <td>38.006178</td>\n",
              "      <td>27.611490</td>\n",
              "      <td>25.537037</td>\n",
              "      <td>0.0</td>\n",
              "      <td>0.0</td>\n",
              "      <td>0.0</td>\n",
              "      <td>0.0</td>\n",
              "    </tr>\n",
              "    <tr>\n",
              "      <th>2019-10-20 18:01:00</th>\n",
              "      <td>15.686567</td>\n",
              "      <td>38.005421</td>\n",
              "      <td>27.614091</td>\n",
              "      <td>25.527778</td>\n",
              "      <td>0.0</td>\n",
              "      <td>0.0</td>\n",
              "      <td>0.0</td>\n",
              "      <td>0.0</td>\n",
              "    </tr>\n",
              "    <tr>\n",
              "      <th>2019-10-20 18:02:00</th>\n",
              "      <td>15.679104</td>\n",
              "      <td>38.004664</td>\n",
              "      <td>27.616693</td>\n",
              "      <td>25.518519</td>\n",
              "      <td>0.0</td>\n",
              "      <td>0.0</td>\n",
              "      <td>0.0</td>\n",
              "      <td>0.0</td>\n",
              "    </tr>\n",
              "    <tr>\n",
              "      <th>2019-10-20 18:03:00</th>\n",
              "      <td>15.671642</td>\n",
              "      <td>38.003907</td>\n",
              "      <td>27.619294</td>\n",
              "      <td>25.509259</td>\n",
              "      <td>0.0</td>\n",
              "      <td>0.0</td>\n",
              "      <td>0.0</td>\n",
              "      <td>0.0</td>\n",
              "    </tr>\n",
              "    <tr>\n",
              "      <th>2019-10-20 18:04:00</th>\n",
              "      <td>15.664179</td>\n",
              "      <td>38.003150</td>\n",
              "      <td>27.621896</td>\n",
              "      <td>25.500000</td>\n",
              "      <td>0.0</td>\n",
              "      <td>0.0</td>\n",
              "      <td>0.0</td>\n",
              "      <td>0.0</td>\n",
              "    </tr>\n",
              "    <tr>\n",
              "      <th>...</th>\n",
              "      <td>...</td>\n",
              "      <td>...</td>\n",
              "      <td>...</td>\n",
              "      <td>...</td>\n",
              "      <td>...</td>\n",
              "      <td>...</td>\n",
              "      <td>...</td>\n",
              "      <td>...</td>\n",
              "    </tr>\n",
              "    <tr>\n",
              "      <th>2019-10-24 05:49:00</th>\n",
              "      <td>NaN</td>\n",
              "      <td>NaN</td>\n",
              "      <td>NaN</td>\n",
              "      <td>NaN</td>\n",
              "      <td>NaN</td>\n",
              "      <td>NaN</td>\n",
              "      <td>1.0</td>\n",
              "      <td>0.0</td>\n",
              "    </tr>\n",
              "    <tr>\n",
              "      <th>2019-10-24 05:50:00</th>\n",
              "      <td>NaN</td>\n",
              "      <td>NaN</td>\n",
              "      <td>NaN</td>\n",
              "      <td>NaN</td>\n",
              "      <td>NaN</td>\n",
              "      <td>NaN</td>\n",
              "      <td>1.0</td>\n",
              "      <td>0.0</td>\n",
              "    </tr>\n",
              "    <tr>\n",
              "      <th>2019-10-24 05:51:00</th>\n",
              "      <td>NaN</td>\n",
              "      <td>NaN</td>\n",
              "      <td>NaN</td>\n",
              "      <td>NaN</td>\n",
              "      <td>NaN</td>\n",
              "      <td>NaN</td>\n",
              "      <td>1.0</td>\n",
              "      <td>0.0</td>\n",
              "    </tr>\n",
              "    <tr>\n",
              "      <th>2019-10-24 05:52:00</th>\n",
              "      <td>NaN</td>\n",
              "      <td>NaN</td>\n",
              "      <td>NaN</td>\n",
              "      <td>NaN</td>\n",
              "      <td>NaN</td>\n",
              "      <td>NaN</td>\n",
              "      <td>1.0</td>\n",
              "      <td>0.0</td>\n",
              "    </tr>\n",
              "    <tr>\n",
              "      <th>2019-10-24 05:53:00</th>\n",
              "      <td>NaN</td>\n",
              "      <td>NaN</td>\n",
              "      <td>NaN</td>\n",
              "      <td>NaN</td>\n",
              "      <td>NaN</td>\n",
              "      <td>NaN</td>\n",
              "      <td>1.0</td>\n",
              "      <td>0.0</td>\n",
              "    </tr>\n",
              "  </tbody>\n",
              "</table>\n",
              "<p>5034 rows × 8 columns</p>\n",
              "</div>"
            ],
            "text/plain": [
              "                     humidity_out  humidity_in  ...  motion_detected   AC\n",
              "statetime                                       ...                      \n",
              "2019-10-20 18:00:00     15.694030    38.006178  ...              0.0  0.0\n",
              "2019-10-20 18:01:00     15.686567    38.005421  ...              0.0  0.0\n",
              "2019-10-20 18:02:00     15.679104    38.004664  ...              0.0  0.0\n",
              "2019-10-20 18:03:00     15.671642    38.003907  ...              0.0  0.0\n",
              "2019-10-20 18:04:00     15.664179    38.003150  ...              0.0  0.0\n",
              "...                           ...          ...  ...              ...  ...\n",
              "2019-10-24 05:49:00           NaN          NaN  ...              1.0  0.0\n",
              "2019-10-24 05:50:00           NaN          NaN  ...              1.0  0.0\n",
              "2019-10-24 05:51:00           NaN          NaN  ...              1.0  0.0\n",
              "2019-10-24 05:52:00           NaN          NaN  ...              1.0  0.0\n",
              "2019-10-24 05:53:00           NaN          NaN  ...              1.0  0.0\n",
              "\n",
              "[5034 rows x 8 columns]"
            ]
          },
          "metadata": {
            "tags": []
          },
          "execution_count": 315
        }
      ]
    },
    {
      "cell_type": "code",
      "metadata": {
        "id": "5gmvdZExwmmE",
        "colab_type": "code",
        "colab": {}
      },
      "source": [
        "#dff['AC'] = pd.cut(dff['AC'],2,labels=['off', 'on'])\n",
        "for i in range(0, len(dff['AC'])):\n",
        "  if dff['AC'][i] != 0:\n",
        "    dff['AC'][i] = 1"
      ],
      "execution_count": 0,
      "outputs": []
    },
    {
      "cell_type": "code",
      "metadata": {
        "id": "zdaXwuOdweQk",
        "colab_type": "code",
        "colab": {}
      },
      "source": [
        "#dff['AC'] =dff['AC'].fillna('off')"
      ],
      "execution_count": 0,
      "outputs": []
    },
    {
      "cell_type": "code",
      "metadata": {
        "id": "3TbFUhV6zt41",
        "colab_type": "code",
        "outputId": "c8a2a886-df9c-400a-a4cf-3a431055fb43",
        "colab": {
          "base_uri": "https://localhost:8080/",
          "height": 35
        }
      },
      "source": [
        "dff['AC'].isna().sum()"
      ],
      "execution_count": 0,
      "outputs": [
        {
          "output_type": "execute_result",
          "data": {
            "text/plain": [
              "0"
            ]
          },
          "metadata": {
            "tags": []
          },
          "execution_count": 318
        }
      ]
    },
    {
      "cell_type": "code",
      "metadata": {
        "id": "eW8bc-GOoq2j",
        "colab_type": "code",
        "colab": {}
      },
      "source": [
        "verydff = dff"
      ],
      "execution_count": 0,
      "outputs": []
    },
    {
      "cell_type": "code",
      "metadata": {
        "id": "79aU5SqIrYfE",
        "colab_type": "code",
        "outputId": "614b89bb-9b1c-4213-e8a1-d59cf593bb3e",
        "colab": {
          "base_uri": "https://localhost:8080/",
          "height": 300
        }
      },
      "source": [
        "verydff.corr() "
      ],
      "execution_count": 0,
      "outputs": [
        {
          "output_type": "execute_result",
          "data": {
            "text/html": [
              "<div>\n",
              "<style scoped>\n",
              "    .dataframe tbody tr th:only-of-type {\n",
              "        vertical-align: middle;\n",
              "    }\n",
              "\n",
              "    .dataframe tbody tr th {\n",
              "        vertical-align: top;\n",
              "    }\n",
              "\n",
              "    .dataframe thead th {\n",
              "        text-align: right;\n",
              "    }\n",
              "</style>\n",
              "<table border=\"1\" class=\"dataframe\">\n",
              "  <thead>\n",
              "    <tr style=\"text-align: right;\">\n",
              "      <th></th>\n",
              "      <th>humidity_out</th>\n",
              "      <th>humidity_in</th>\n",
              "      <th>temp_in</th>\n",
              "      <th>temp_out</th>\n",
              "      <th>ac_pow_power</th>\n",
              "      <th>ac_pow_current</th>\n",
              "      <th>motion_detected</th>\n",
              "      <th>AC</th>\n",
              "    </tr>\n",
              "  </thead>\n",
              "  <tbody>\n",
              "    <tr>\n",
              "      <th>humidity_out</th>\n",
              "      <td>1.000000</td>\n",
              "      <td>-0.929648</td>\n",
              "      <td>0.868956</td>\n",
              "      <td>-0.989026</td>\n",
              "      <td>-0.230930</td>\n",
              "      <td>-0.243577</td>\n",
              "      <td>-0.192800</td>\n",
              "      <td>-0.254568</td>\n",
              "    </tr>\n",
              "    <tr>\n",
              "      <th>humidity_in</th>\n",
              "      <td>-0.929648</td>\n",
              "      <td>1.000000</td>\n",
              "      <td>-0.926640</td>\n",
              "      <td>0.932514</td>\n",
              "      <td>0.281853</td>\n",
              "      <td>0.299533</td>\n",
              "      <td>0.255416</td>\n",
              "      <td>0.305010</td>\n",
              "    </tr>\n",
              "    <tr>\n",
              "      <th>temp_in</th>\n",
              "      <td>0.868956</td>\n",
              "      <td>-0.926640</td>\n",
              "      <td>1.000000</td>\n",
              "      <td>-0.885287</td>\n",
              "      <td>-0.345413</td>\n",
              "      <td>-0.360089</td>\n",
              "      <td>-0.216785</td>\n",
              "      <td>-0.362126</td>\n",
              "    </tr>\n",
              "    <tr>\n",
              "      <th>temp_out</th>\n",
              "      <td>-0.989026</td>\n",
              "      <td>0.932514</td>\n",
              "      <td>-0.885287</td>\n",
              "      <td>1.000000</td>\n",
              "      <td>0.224795</td>\n",
              "      <td>0.237266</td>\n",
              "      <td>0.167226</td>\n",
              "      <td>0.249919</td>\n",
              "    </tr>\n",
              "    <tr>\n",
              "      <th>ac_pow_power</th>\n",
              "      <td>-0.230930</td>\n",
              "      <td>0.281853</td>\n",
              "      <td>-0.345413</td>\n",
              "      <td>0.224795</td>\n",
              "      <td>1.000000</td>\n",
              "      <td>0.908568</td>\n",
              "      <td>0.131060</td>\n",
              "      <td>0.951019</td>\n",
              "    </tr>\n",
              "    <tr>\n",
              "      <th>ac_pow_current</th>\n",
              "      <td>-0.243577</td>\n",
              "      <td>0.299533</td>\n",
              "      <td>-0.360089</td>\n",
              "      <td>0.237266</td>\n",
              "      <td>0.908568</td>\n",
              "      <td>1.000000</td>\n",
              "      <td>0.127127</td>\n",
              "      <td>0.922754</td>\n",
              "    </tr>\n",
              "    <tr>\n",
              "      <th>motion_detected</th>\n",
              "      <td>-0.192800</td>\n",
              "      <td>0.255416</td>\n",
              "      <td>-0.216785</td>\n",
              "      <td>0.167226</td>\n",
              "      <td>0.131060</td>\n",
              "      <td>0.127127</td>\n",
              "      <td>1.000000</td>\n",
              "      <td>0.130929</td>\n",
              "    </tr>\n",
              "    <tr>\n",
              "      <th>AC</th>\n",
              "      <td>-0.254568</td>\n",
              "      <td>0.305010</td>\n",
              "      <td>-0.362126</td>\n",
              "      <td>0.249919</td>\n",
              "      <td>0.951019</td>\n",
              "      <td>0.922754</td>\n",
              "      <td>0.130929</td>\n",
              "      <td>1.000000</td>\n",
              "    </tr>\n",
              "  </tbody>\n",
              "</table>\n",
              "</div>"
            ],
            "text/plain": [
              "                 humidity_out  humidity_in  ...  motion_detected        AC\n",
              "humidity_out         1.000000    -0.929648  ...        -0.192800 -0.254568\n",
              "humidity_in         -0.929648     1.000000  ...         0.255416  0.305010\n",
              "temp_in              0.868956    -0.926640  ...        -0.216785 -0.362126\n",
              "temp_out            -0.989026     0.932514  ...         0.167226  0.249919\n",
              "ac_pow_power        -0.230930     0.281853  ...         0.131060  0.951019\n",
              "ac_pow_current      -0.243577     0.299533  ...         0.127127  0.922754\n",
              "motion_detected     -0.192800     0.255416  ...         1.000000  0.130929\n",
              "AC                  -0.254568     0.305010  ...         0.130929  1.000000\n",
              "\n",
              "[8 rows x 8 columns]"
            ]
          },
          "metadata": {
            "tags": []
          },
          "execution_count": 320
        }
      ]
    },
    {
      "cell_type": "code",
      "metadata": {
        "id": "Mb85c9e20w2U",
        "colab_type": "code",
        "colab": {}
      },
      "source": [
        "verydff = verydff.drop(columns='ac_pow_power')"
      ],
      "execution_count": 0,
      "outputs": []
    },
    {
      "cell_type": "code",
      "metadata": {
        "id": "S3gT-qVeY7Me",
        "colab_type": "code",
        "colab": {}
      },
      "source": [
        "verydff = verydff.drop(columns='ac_pow_current')"
      ],
      "execution_count": 0,
      "outputs": []
    },
    {
      "cell_type": "code",
      "metadata": {
        "id": "bwv1ehkvHwZQ",
        "colab_type": "code",
        "outputId": "4227f386-063d-4258-c04d-c685c17a1ae5",
        "colab": {
          "base_uri": "https://localhost:8080/",
          "height": 146
        }
      },
      "source": [
        "verydff.isna().sum()"
      ],
      "execution_count": 0,
      "outputs": [
        {
          "output_type": "execute_result",
          "data": {
            "text/plain": [
              "humidity_out       70\n",
              "humidity_in        70\n",
              "temp_in            70\n",
              "temp_out           70\n",
              "motion_detected     0\n",
              "AC                  0\n",
              "dtype: int64"
            ]
          },
          "metadata": {
            "tags": []
          },
          "execution_count": 323
        }
      ]
    },
    {
      "cell_type": "code",
      "metadata": {
        "id": "LyahW7b3H3Dl",
        "colab_type": "code",
        "outputId": "af3aed98-7d92-4327-e330-eb2531052237",
        "colab": {
          "base_uri": "https://localhost:8080/",
          "height": 455
        }
      },
      "source": [
        "verydff"
      ],
      "execution_count": 0,
      "outputs": [
        {
          "output_type": "execute_result",
          "data": {
            "text/html": [
              "<div>\n",
              "<style scoped>\n",
              "    .dataframe tbody tr th:only-of-type {\n",
              "        vertical-align: middle;\n",
              "    }\n",
              "\n",
              "    .dataframe tbody tr th {\n",
              "        vertical-align: top;\n",
              "    }\n",
              "\n",
              "    .dataframe thead th {\n",
              "        text-align: right;\n",
              "    }\n",
              "</style>\n",
              "<table border=\"1\" class=\"dataframe\">\n",
              "  <thead>\n",
              "    <tr style=\"text-align: right;\">\n",
              "      <th></th>\n",
              "      <th>humidity_out</th>\n",
              "      <th>humidity_in</th>\n",
              "      <th>temp_in</th>\n",
              "      <th>temp_out</th>\n",
              "      <th>motion_detected</th>\n",
              "      <th>AC</th>\n",
              "    </tr>\n",
              "    <tr>\n",
              "      <th>statetime</th>\n",
              "      <th></th>\n",
              "      <th></th>\n",
              "      <th></th>\n",
              "      <th></th>\n",
              "      <th></th>\n",
              "      <th></th>\n",
              "    </tr>\n",
              "  </thead>\n",
              "  <tbody>\n",
              "    <tr>\n",
              "      <th>2019-10-20 18:00:00</th>\n",
              "      <td>15.694030</td>\n",
              "      <td>38.006178</td>\n",
              "      <td>27.611490</td>\n",
              "      <td>25.537037</td>\n",
              "      <td>0.0</td>\n",
              "      <td>0.0</td>\n",
              "    </tr>\n",
              "    <tr>\n",
              "      <th>2019-10-20 18:01:00</th>\n",
              "      <td>15.686567</td>\n",
              "      <td>38.005421</td>\n",
              "      <td>27.614091</td>\n",
              "      <td>25.527778</td>\n",
              "      <td>0.0</td>\n",
              "      <td>0.0</td>\n",
              "    </tr>\n",
              "    <tr>\n",
              "      <th>2019-10-20 18:02:00</th>\n",
              "      <td>15.679104</td>\n",
              "      <td>38.004664</td>\n",
              "      <td>27.616693</td>\n",
              "      <td>25.518519</td>\n",
              "      <td>0.0</td>\n",
              "      <td>0.0</td>\n",
              "    </tr>\n",
              "    <tr>\n",
              "      <th>2019-10-20 18:03:00</th>\n",
              "      <td>15.671642</td>\n",
              "      <td>38.003907</td>\n",
              "      <td>27.619294</td>\n",
              "      <td>25.509259</td>\n",
              "      <td>0.0</td>\n",
              "      <td>0.0</td>\n",
              "    </tr>\n",
              "    <tr>\n",
              "      <th>2019-10-20 18:04:00</th>\n",
              "      <td>15.664179</td>\n",
              "      <td>38.003150</td>\n",
              "      <td>27.621896</td>\n",
              "      <td>25.500000</td>\n",
              "      <td>0.0</td>\n",
              "      <td>0.0</td>\n",
              "    </tr>\n",
              "    <tr>\n",
              "      <th>...</th>\n",
              "      <td>...</td>\n",
              "      <td>...</td>\n",
              "      <td>...</td>\n",
              "      <td>...</td>\n",
              "      <td>...</td>\n",
              "      <td>...</td>\n",
              "    </tr>\n",
              "    <tr>\n",
              "      <th>2019-10-24 05:49:00</th>\n",
              "      <td>NaN</td>\n",
              "      <td>NaN</td>\n",
              "      <td>NaN</td>\n",
              "      <td>NaN</td>\n",
              "      <td>1.0</td>\n",
              "      <td>0.0</td>\n",
              "    </tr>\n",
              "    <tr>\n",
              "      <th>2019-10-24 05:50:00</th>\n",
              "      <td>NaN</td>\n",
              "      <td>NaN</td>\n",
              "      <td>NaN</td>\n",
              "      <td>NaN</td>\n",
              "      <td>1.0</td>\n",
              "      <td>0.0</td>\n",
              "    </tr>\n",
              "    <tr>\n",
              "      <th>2019-10-24 05:51:00</th>\n",
              "      <td>NaN</td>\n",
              "      <td>NaN</td>\n",
              "      <td>NaN</td>\n",
              "      <td>NaN</td>\n",
              "      <td>1.0</td>\n",
              "      <td>0.0</td>\n",
              "    </tr>\n",
              "    <tr>\n",
              "      <th>2019-10-24 05:52:00</th>\n",
              "      <td>NaN</td>\n",
              "      <td>NaN</td>\n",
              "      <td>NaN</td>\n",
              "      <td>NaN</td>\n",
              "      <td>1.0</td>\n",
              "      <td>0.0</td>\n",
              "    </tr>\n",
              "    <tr>\n",
              "      <th>2019-10-24 05:53:00</th>\n",
              "      <td>NaN</td>\n",
              "      <td>NaN</td>\n",
              "      <td>NaN</td>\n",
              "      <td>NaN</td>\n",
              "      <td>1.0</td>\n",
              "      <td>0.0</td>\n",
              "    </tr>\n",
              "  </tbody>\n",
              "</table>\n",
              "<p>5034 rows × 6 columns</p>\n",
              "</div>"
            ],
            "text/plain": [
              "                     humidity_out  humidity_in  ...  motion_detected   AC\n",
              "statetime                                       ...                      \n",
              "2019-10-20 18:00:00     15.694030    38.006178  ...              0.0  0.0\n",
              "2019-10-20 18:01:00     15.686567    38.005421  ...              0.0  0.0\n",
              "2019-10-20 18:02:00     15.679104    38.004664  ...              0.0  0.0\n",
              "2019-10-20 18:03:00     15.671642    38.003907  ...              0.0  0.0\n",
              "2019-10-20 18:04:00     15.664179    38.003150  ...              0.0  0.0\n",
              "...                           ...          ...  ...              ...  ...\n",
              "2019-10-24 05:49:00           NaN          NaN  ...              1.0  0.0\n",
              "2019-10-24 05:50:00           NaN          NaN  ...              1.0  0.0\n",
              "2019-10-24 05:51:00           NaN          NaN  ...              1.0  0.0\n",
              "2019-10-24 05:52:00           NaN          NaN  ...              1.0  0.0\n",
              "2019-10-24 05:53:00           NaN          NaN  ...              1.0  0.0\n",
              "\n",
              "[5034 rows x 6 columns]"
            ]
          },
          "metadata": {
            "tags": []
          },
          "execution_count": 324
        }
      ]
    },
    {
      "cell_type": "code",
      "metadata": {
        "id": "sxtl3f9XzyP1",
        "colab_type": "code",
        "colab": {}
      },
      "source": [
        "XX = verydff.dropna(subset=['humidity_in','humidity_out','temp_in','temp_out'])"
      ],
      "execution_count": 0,
      "outputs": []
    },
    {
      "cell_type": "code",
      "metadata": {
        "id": "sBK8exALIRhs",
        "colab_type": "code",
        "outputId": "dd221a89-5cc1-4633-f336-bcc4d8e57339",
        "colab": {
          "base_uri": "https://localhost:8080/",
          "height": 455
        }
      },
      "source": [
        "XX"
      ],
      "execution_count": 0,
      "outputs": [
        {
          "output_type": "execute_result",
          "data": {
            "text/html": [
              "<div>\n",
              "<style scoped>\n",
              "    .dataframe tbody tr th:only-of-type {\n",
              "        vertical-align: middle;\n",
              "    }\n",
              "\n",
              "    .dataframe tbody tr th {\n",
              "        vertical-align: top;\n",
              "    }\n",
              "\n",
              "    .dataframe thead th {\n",
              "        text-align: right;\n",
              "    }\n",
              "</style>\n",
              "<table border=\"1\" class=\"dataframe\">\n",
              "  <thead>\n",
              "    <tr style=\"text-align: right;\">\n",
              "      <th></th>\n",
              "      <th>humidity_out</th>\n",
              "      <th>humidity_in</th>\n",
              "      <th>temp_in</th>\n",
              "      <th>temp_out</th>\n",
              "      <th>motion_detected</th>\n",
              "      <th>AC</th>\n",
              "    </tr>\n",
              "    <tr>\n",
              "      <th>statetime</th>\n",
              "      <th></th>\n",
              "      <th></th>\n",
              "      <th></th>\n",
              "      <th></th>\n",
              "      <th></th>\n",
              "      <th></th>\n",
              "    </tr>\n",
              "  </thead>\n",
              "  <tbody>\n",
              "    <tr>\n",
              "      <th>2019-10-20 18:00:00</th>\n",
              "      <td>15.694030</td>\n",
              "      <td>38.006178</td>\n",
              "      <td>27.611490</td>\n",
              "      <td>25.537037</td>\n",
              "      <td>0.0</td>\n",
              "      <td>0.0</td>\n",
              "    </tr>\n",
              "    <tr>\n",
              "      <th>2019-10-20 18:01:00</th>\n",
              "      <td>15.686567</td>\n",
              "      <td>38.005421</td>\n",
              "      <td>27.614091</td>\n",
              "      <td>25.527778</td>\n",
              "      <td>0.0</td>\n",
              "      <td>0.0</td>\n",
              "    </tr>\n",
              "    <tr>\n",
              "      <th>2019-10-20 18:02:00</th>\n",
              "      <td>15.679104</td>\n",
              "      <td>38.004664</td>\n",
              "      <td>27.616693</td>\n",
              "      <td>25.518519</td>\n",
              "      <td>0.0</td>\n",
              "      <td>0.0</td>\n",
              "    </tr>\n",
              "    <tr>\n",
              "      <th>2019-10-20 18:03:00</th>\n",
              "      <td>15.671642</td>\n",
              "      <td>38.003907</td>\n",
              "      <td>27.619294</td>\n",
              "      <td>25.509259</td>\n",
              "      <td>0.0</td>\n",
              "      <td>0.0</td>\n",
              "    </tr>\n",
              "    <tr>\n",
              "      <th>2019-10-20 18:04:00</th>\n",
              "      <td>15.664179</td>\n",
              "      <td>38.003150</td>\n",
              "      <td>27.621896</td>\n",
              "      <td>25.500000</td>\n",
              "      <td>0.0</td>\n",
              "      <td>0.0</td>\n",
              "    </tr>\n",
              "    <tr>\n",
              "      <th>...</th>\n",
              "      <td>...</td>\n",
              "      <td>...</td>\n",
              "      <td>...</td>\n",
              "      <td>...</td>\n",
              "      <td>...</td>\n",
              "      <td>...</td>\n",
              "    </tr>\n",
              "    <tr>\n",
              "      <th>2019-10-24 04:39:00</th>\n",
              "      <td>18.000000</td>\n",
              "      <td>31.807692</td>\n",
              "      <td>28.393906</td>\n",
              "      <td>20.000000</td>\n",
              "      <td>0.0</td>\n",
              "      <td>0.0</td>\n",
              "    </tr>\n",
              "    <tr>\n",
              "      <th>2019-10-24 04:40:00</th>\n",
              "      <td>17.000000</td>\n",
              "      <td>31.794872</td>\n",
              "      <td>28.394044</td>\n",
              "      <td>21.000000</td>\n",
              "      <td>0.0</td>\n",
              "      <td>0.0</td>\n",
              "    </tr>\n",
              "    <tr>\n",
              "      <th>2019-10-24 04:41:00</th>\n",
              "      <td>18.000000</td>\n",
              "      <td>31.782051</td>\n",
              "      <td>28.394183</td>\n",
              "      <td>20.000000</td>\n",
              "      <td>0.0</td>\n",
              "      <td>0.0</td>\n",
              "    </tr>\n",
              "    <tr>\n",
              "      <th>2019-10-24 04:42:00</th>\n",
              "      <td>17.500000</td>\n",
              "      <td>31.769231</td>\n",
              "      <td>28.394321</td>\n",
              "      <td>20.500000</td>\n",
              "      <td>0.0</td>\n",
              "      <td>0.0</td>\n",
              "    </tr>\n",
              "    <tr>\n",
              "      <th>2019-10-24 04:43:00</th>\n",
              "      <td>17.000000</td>\n",
              "      <td>31.756410</td>\n",
              "      <td>28.394460</td>\n",
              "      <td>21.000000</td>\n",
              "      <td>0.0</td>\n",
              "      <td>0.0</td>\n",
              "    </tr>\n",
              "  </tbody>\n",
              "</table>\n",
              "<p>4964 rows × 6 columns</p>\n",
              "</div>"
            ],
            "text/plain": [
              "                     humidity_out  humidity_in  ...  motion_detected   AC\n",
              "statetime                                       ...                      \n",
              "2019-10-20 18:00:00     15.694030    38.006178  ...              0.0  0.0\n",
              "2019-10-20 18:01:00     15.686567    38.005421  ...              0.0  0.0\n",
              "2019-10-20 18:02:00     15.679104    38.004664  ...              0.0  0.0\n",
              "2019-10-20 18:03:00     15.671642    38.003907  ...              0.0  0.0\n",
              "2019-10-20 18:04:00     15.664179    38.003150  ...              0.0  0.0\n",
              "...                           ...          ...  ...              ...  ...\n",
              "2019-10-24 04:39:00     18.000000    31.807692  ...              0.0  0.0\n",
              "2019-10-24 04:40:00     17.000000    31.794872  ...              0.0  0.0\n",
              "2019-10-24 04:41:00     18.000000    31.782051  ...              0.0  0.0\n",
              "2019-10-24 04:42:00     17.500000    31.769231  ...              0.0  0.0\n",
              "2019-10-24 04:43:00     17.000000    31.756410  ...              0.0  0.0\n",
              "\n",
              "[4964 rows x 6 columns]"
            ]
          },
          "metadata": {
            "tags": []
          },
          "execution_count": 326
        }
      ]
    },
    {
      "cell_type": "code",
      "metadata": {
        "id": "t-ofh2fUQaQQ",
        "colab_type": "code",
        "colab": {}
      },
      "source": [
        "X = XX.iloc[:,:-1]\n",
        "y= XX.iloc[:, -1]"
      ],
      "execution_count": 0,
      "outputs": []
    },
    {
      "cell_type": "code",
      "metadata": {
        "id": "5aXDtxMH-EnH",
        "colab_type": "code",
        "outputId": "e19db522-c5e2-4296-fa95-a32e5e7c94f9",
        "colab": {
          "base_uri": "https://localhost:8080/",
          "height": 146
        }
      },
      "source": [
        "XX.isna().sum()"
      ],
      "execution_count": 0,
      "outputs": [
        {
          "output_type": "execute_result",
          "data": {
            "text/plain": [
              "humidity_out       0\n",
              "humidity_in        0\n",
              "temp_in            0\n",
              "temp_out           0\n",
              "motion_detected    0\n",
              "AC                 0\n",
              "dtype: int64"
            ]
          },
          "metadata": {
            "tags": []
          },
          "execution_count": 328
        }
      ]
    },
    {
      "cell_type": "code",
      "metadata": {
        "id": "Vj0J4O5f-Xav",
        "colab_type": "code",
        "outputId": "c6cd1ab9-f66e-417d-d2ba-8e2c42be4bde",
        "colab": {
          "base_uri": "https://localhost:8080/",
          "height": 455
        }
      },
      "source": [
        "X"
      ],
      "execution_count": 0,
      "outputs": [
        {
          "output_type": "execute_result",
          "data": {
            "text/html": [
              "<div>\n",
              "<style scoped>\n",
              "    .dataframe tbody tr th:only-of-type {\n",
              "        vertical-align: middle;\n",
              "    }\n",
              "\n",
              "    .dataframe tbody tr th {\n",
              "        vertical-align: top;\n",
              "    }\n",
              "\n",
              "    .dataframe thead th {\n",
              "        text-align: right;\n",
              "    }\n",
              "</style>\n",
              "<table border=\"1\" class=\"dataframe\">\n",
              "  <thead>\n",
              "    <tr style=\"text-align: right;\">\n",
              "      <th></th>\n",
              "      <th>humidity_out</th>\n",
              "      <th>humidity_in</th>\n",
              "      <th>temp_in</th>\n",
              "      <th>temp_out</th>\n",
              "      <th>motion_detected</th>\n",
              "    </tr>\n",
              "    <tr>\n",
              "      <th>statetime</th>\n",
              "      <th></th>\n",
              "      <th></th>\n",
              "      <th></th>\n",
              "      <th></th>\n",
              "      <th></th>\n",
              "    </tr>\n",
              "  </thead>\n",
              "  <tbody>\n",
              "    <tr>\n",
              "      <th>2019-10-20 18:00:00</th>\n",
              "      <td>15.694030</td>\n",
              "      <td>38.006178</td>\n",
              "      <td>27.611490</td>\n",
              "      <td>25.537037</td>\n",
              "      <td>0.0</td>\n",
              "    </tr>\n",
              "    <tr>\n",
              "      <th>2019-10-20 18:01:00</th>\n",
              "      <td>15.686567</td>\n",
              "      <td>38.005421</td>\n",
              "      <td>27.614091</td>\n",
              "      <td>25.527778</td>\n",
              "      <td>0.0</td>\n",
              "    </tr>\n",
              "    <tr>\n",
              "      <th>2019-10-20 18:02:00</th>\n",
              "      <td>15.679104</td>\n",
              "      <td>38.004664</td>\n",
              "      <td>27.616693</td>\n",
              "      <td>25.518519</td>\n",
              "      <td>0.0</td>\n",
              "    </tr>\n",
              "    <tr>\n",
              "      <th>2019-10-20 18:03:00</th>\n",
              "      <td>15.671642</td>\n",
              "      <td>38.003907</td>\n",
              "      <td>27.619294</td>\n",
              "      <td>25.509259</td>\n",
              "      <td>0.0</td>\n",
              "    </tr>\n",
              "    <tr>\n",
              "      <th>2019-10-20 18:04:00</th>\n",
              "      <td>15.664179</td>\n",
              "      <td>38.003150</td>\n",
              "      <td>27.621896</td>\n",
              "      <td>25.500000</td>\n",
              "      <td>0.0</td>\n",
              "    </tr>\n",
              "    <tr>\n",
              "      <th>...</th>\n",
              "      <td>...</td>\n",
              "      <td>...</td>\n",
              "      <td>...</td>\n",
              "      <td>...</td>\n",
              "      <td>...</td>\n",
              "    </tr>\n",
              "    <tr>\n",
              "      <th>2019-10-24 04:39:00</th>\n",
              "      <td>18.000000</td>\n",
              "      <td>31.807692</td>\n",
              "      <td>28.393906</td>\n",
              "      <td>20.000000</td>\n",
              "      <td>0.0</td>\n",
              "    </tr>\n",
              "    <tr>\n",
              "      <th>2019-10-24 04:40:00</th>\n",
              "      <td>17.000000</td>\n",
              "      <td>31.794872</td>\n",
              "      <td>28.394044</td>\n",
              "      <td>21.000000</td>\n",
              "      <td>0.0</td>\n",
              "    </tr>\n",
              "    <tr>\n",
              "      <th>2019-10-24 04:41:00</th>\n",
              "      <td>18.000000</td>\n",
              "      <td>31.782051</td>\n",
              "      <td>28.394183</td>\n",
              "      <td>20.000000</td>\n",
              "      <td>0.0</td>\n",
              "    </tr>\n",
              "    <tr>\n",
              "      <th>2019-10-24 04:42:00</th>\n",
              "      <td>17.500000</td>\n",
              "      <td>31.769231</td>\n",
              "      <td>28.394321</td>\n",
              "      <td>20.500000</td>\n",
              "      <td>0.0</td>\n",
              "    </tr>\n",
              "    <tr>\n",
              "      <th>2019-10-24 04:43:00</th>\n",
              "      <td>17.000000</td>\n",
              "      <td>31.756410</td>\n",
              "      <td>28.394460</td>\n",
              "      <td>21.000000</td>\n",
              "      <td>0.0</td>\n",
              "    </tr>\n",
              "  </tbody>\n",
              "</table>\n",
              "<p>4964 rows × 5 columns</p>\n",
              "</div>"
            ],
            "text/plain": [
              "                     humidity_out  humidity_in  ...   temp_out  motion_detected\n",
              "statetime                                       ...                            \n",
              "2019-10-20 18:00:00     15.694030    38.006178  ...  25.537037              0.0\n",
              "2019-10-20 18:01:00     15.686567    38.005421  ...  25.527778              0.0\n",
              "2019-10-20 18:02:00     15.679104    38.004664  ...  25.518519              0.0\n",
              "2019-10-20 18:03:00     15.671642    38.003907  ...  25.509259              0.0\n",
              "2019-10-20 18:04:00     15.664179    38.003150  ...  25.500000              0.0\n",
              "...                           ...          ...  ...        ...              ...\n",
              "2019-10-24 04:39:00     18.000000    31.807692  ...  20.000000              0.0\n",
              "2019-10-24 04:40:00     17.000000    31.794872  ...  21.000000              0.0\n",
              "2019-10-24 04:41:00     18.000000    31.782051  ...  20.000000              0.0\n",
              "2019-10-24 04:42:00     17.500000    31.769231  ...  20.500000              0.0\n",
              "2019-10-24 04:43:00     17.000000    31.756410  ...  21.000000              0.0\n",
              "\n",
              "[4964 rows x 5 columns]"
            ]
          },
          "metadata": {
            "tags": []
          },
          "execution_count": 329
        }
      ]
    },
    {
      "cell_type": "code",
      "metadata": {
        "id": "fzG3X5dzuaOn",
        "colab_type": "code",
        "colab": {}
      },
      "source": [
        "X_train, X_test, y_train, y_test = train_test_split(X, y, test_size=0.3)"
      ],
      "execution_count": 0,
      "outputs": []
    },
    {
      "cell_type": "code",
      "metadata": {
        "id": "modRBQB1zlUb",
        "colab_type": "code",
        "colab": {}
      },
      "source": [
        "model4 = tree.DecisionTreeClassifier()"
      ],
      "execution_count": 0,
      "outputs": []
    },
    {
      "cell_type": "code",
      "metadata": {
        "id": "qJYsocXCD0hB",
        "colab_type": "code",
        "colab": {}
      },
      "source": [
        "model4 = model4.fit(X_train, y_train)"
      ],
      "execution_count": 0,
      "outputs": []
    },
    {
      "cell_type": "code",
      "metadata": {
        "id": "0AUPjikxJN5t",
        "colab_type": "code",
        "colab": {}
      },
      "source": [
        "y_pred = model4.predict(X_test)"
      ],
      "execution_count": 0,
      "outputs": []
    },
    {
      "cell_type": "code",
      "metadata": {
        "id": "Pk4ro66ZWmTw",
        "colab_type": "code",
        "outputId": "48973969-b230-4f62-9a28-ea2d336aeb3a",
        "colab": {
          "base_uri": "https://localhost:8080/",
          "height": 54
        }
      },
      "source": [
        "from sklearn.metrics import confusion_matrix\n",
        "print(confusion_matrix(y_test, y_pred, labels=None, sample_weight=None, normalize=None))"
      ],
      "execution_count": 0,
      "outputs": [
        {
          "output_type": "stream",
          "text": [
            "[[1435   16]\n",
            " [  10   29]]\n"
          ],
          "name": "stdout"
        }
      ]
    },
    {
      "cell_type": "code",
      "metadata": {
        "id": "lrZ1lsPQJVS9",
        "colab_type": "code",
        "outputId": "f4a67f87-ab5a-4897-9849-988643438cec",
        "colab": {
          "base_uri": "https://localhost:8080/",
          "height": 35
        }
      },
      "source": [
        "print(\"Accuracy:\",metrics.accuracy_score(y_test, y_pred)) #swsta to vgazei epalhtheysh me xeri"
      ],
      "execution_count": 0,
      "outputs": [
        {
          "output_type": "stream",
          "text": [
            "Accuracy: 0.9825503355704698\n"
          ],
          "name": "stdout"
        }
      ]
    },
    {
      "cell_type": "code",
      "metadata": {
        "id": "o-BT0hbZrQNb",
        "colab_type": "code",
        "outputId": "33b6eca6-453b-4cc2-be28-191fbd26d84b",
        "colab": {
          "base_uri": "https://localhost:8080/",
          "height": 35
        }
      },
      "source": [
        "from sklearn.metrics import recall_score\n",
        "recall_score(y_test, y_pred, average = 'micro')"
      ],
      "execution_count": 0,
      "outputs": [
        {
          "output_type": "execute_result",
          "data": {
            "text/plain": [
              "0.9825503355704698"
            ]
          },
          "metadata": {
            "tags": []
          },
          "execution_count": 336
        }
      ]
    },
    {
      "cell_type": "code",
      "metadata": {
        "id": "3ecOb5MAJGJ7",
        "colab_type": "code",
        "outputId": "88d6317d-2de0-45e3-c4c1-7d1846e3319f",
        "colab": {
          "base_uri": "https://localhost:8080/",
          "height": 35
        }
      },
      "source": [
        "metrics.recall_score(y_test, y_pred) "
      ],
      "execution_count": 0,
      "outputs": [
        {
          "output_type": "execute_result",
          "data": {
            "text/plain": [
              "0.7435897435897436"
            ]
          },
          "metadata": {
            "tags": []
          },
          "execution_count": 337
        }
      ]
    },
    {
      "cell_type": "code",
      "metadata": {
        "id": "E1yqU76osOib",
        "colab_type": "code",
        "outputId": "117de4df-18a0-4f08-cebc-50df03edadf0",
        "colab": {
          "base_uri": "https://localhost:8080/",
          "height": 35
        }
      },
      "source": [
        "from sklearn.metrics import precision_score\n",
        "precision_score(y_test, y_pred)"
      ],
      "execution_count": 0,
      "outputs": [
        {
          "output_type": "execute_result",
          "data": {
            "text/plain": [
              "0.6444444444444445"
            ]
          },
          "metadata": {
            "tags": []
          },
          "execution_count": 338
        }
      ]
    },
    {
      "cell_type": "code",
      "metadata": {
        "id": "QDCb9kDQI2jp",
        "colab_type": "code",
        "outputId": "ce8397db-9299-4d13-8de7-6803c174c749",
        "colab": {
          "base_uri": "https://localhost:8080/",
          "height": 35
        }
      },
      "source": [
        "from sklearn.metrics import f1_score\n",
        "f1_score(y_test, y_pred)"
      ],
      "execution_count": 0,
      "outputs": [
        {
          "output_type": "execute_result",
          "data": {
            "text/plain": [
              "0.6904761904761906"
            ]
          },
          "metadata": {
            "tags": []
          },
          "execution_count": 339
        }
      ]
    },
    {
      "cell_type": "code",
      "metadata": {
        "id": "JgMYJzYuqKic",
        "colab_type": "code",
        "outputId": "0722ebdc-13a6-47ed-acf6-0eed8e62d688",
        "colab": {
          "base_uri": "https://localhost:8080/",
          "height": 54
        }
      },
      "source": [
        "from sklearn.metrics import confusion_matrix\n",
        "confusion_matrix(y_test, y_pred, labels=None, sample_weight=None, normalize=None)"
      ],
      "execution_count": 0,
      "outputs": [
        {
          "output_type": "execute_result",
          "data": {
            "text/plain": [
              "array([[1435,   16],\n",
              "       [  10,   29]])"
            ]
          },
          "metadata": {
            "tags": []
          },
          "execution_count": 340
        }
      ]
    },
    {
      "cell_type": "code",
      "metadata": {
        "id": "IElRGr5JHpiI",
        "colab_type": "code",
        "colab": {}
      },
      "source": [
        "#Logistic regression\n",
        "from sklearn.linear_model import LogisticRegression\n",
        "\n",
        "X_train, X_test, y_train, y_test = train_test_split(X, y, test_size=0.3)\n",
        "clf = LogisticRegression(random_state=0).fit(X_train, y_train)\n",
        "y_pred_lr = clf.predict(X_test)\n"
      ],
      "execution_count": 0,
      "outputs": []
    },
    {
      "cell_type": "code",
      "metadata": {
        "id": "D31ldtUO65YF",
        "colab_type": "code",
        "outputId": "75f9c552-7931-4c15-bcf9-a4a6d5a26795",
        "colab": {
          "base_uri": "https://localhost:8080/",
          "height": 35
        }
      },
      "source": [
        "recall_score(y_test, y_pred_lr, average='micro')"
      ],
      "execution_count": 0,
      "outputs": [
        {
          "output_type": "execute_result",
          "data": {
            "text/plain": [
              "0.9644295302013423"
            ]
          },
          "metadata": {
            "tags": []
          },
          "execution_count": 342
        }
      ]
    },
    {
      "cell_type": "code",
      "metadata": {
        "id": "2Cf4BTfv67hd",
        "colab_type": "code",
        "outputId": "b92e01d9-81af-49ec-ad34-f041c833fc09",
        "colab": {
          "base_uri": "https://localhost:8080/",
          "height": 35
        }
      },
      "source": [
        "precision_score(y_test, y_pred_lr, average = 'micro')"
      ],
      "execution_count": 0,
      "outputs": [
        {
          "output_type": "execute_result",
          "data": {
            "text/plain": [
              "0.9644295302013423"
            ]
          },
          "metadata": {
            "tags": []
          },
          "execution_count": 343
        }
      ]
    },
    {
      "cell_type": "code",
      "metadata": {
        "id": "RLfeUw8VKj4X",
        "colab_type": "code",
        "outputId": "b9fc0994-4c24-4e7b-f4cf-26522f013f37",
        "colab": {
          "base_uri": "https://localhost:8080/",
          "height": 35
        }
      },
      "source": [
        "f1_score(y_test, y_pred_lr, average='micro')"
      ],
      "execution_count": 0,
      "outputs": [
        {
          "output_type": "execute_result",
          "data": {
            "text/plain": [
              "0.9644295302013423"
            ]
          },
          "metadata": {
            "tags": []
          },
          "execution_count": 344
        }
      ]
    },
    {
      "cell_type": "code",
      "metadata": {
        "id": "Bq76reUvKhAA",
        "colab_type": "code",
        "outputId": "c5397958-6086-4c7b-d5f9-e0cde99c3afd",
        "colab": {
          "base_uri": "https://localhost:8080/",
          "height": 35
        }
      },
      "source": [
        "metrics.accuracy_score(y_test, y_pred_lr)"
      ],
      "execution_count": 0,
      "outputs": [
        {
          "output_type": "execute_result",
          "data": {
            "text/plain": [
              "0.9644295302013423"
            ]
          },
          "metadata": {
            "tags": []
          },
          "execution_count": 345
        }
      ]
    },
    {
      "cell_type": "code",
      "metadata": {
        "id": "aL7ABCTxSiVL",
        "colab_type": "code",
        "outputId": "008d9767-07ad-4f74-84e8-72a2ce3c12b6",
        "colab": {
          "base_uri": "https://localhost:8080/",
          "height": 201
        }
      },
      "source": [
        "from sklearn.ensemble import RandomForestClassifier\n",
        "rfc=RandomForestClassifier()\n",
        "for a in range(10):\n",
        "  X_train, X_test, y_train, y_test = train_test_split(X, y, test_size=0.3) \n",
        "  rfc = rfc.fit(X_train,y_train,)\n",
        "  y_pred = rfc.predict(X_test)\n",
        "  print(\"Accuracy:\",metrics.accuracy_score(y_test, y_pred))"
      ],
      "execution_count": 0,
      "outputs": [
        {
          "output_type": "stream",
          "text": [
            "Accuracy: 0.9899328859060402\n",
            "Accuracy: 0.9859060402684564\n",
            "Accuracy: 0.9879194630872483\n",
            "Accuracy: 0.9885906040268456\n",
            "Accuracy: 0.9865771812080537\n",
            "Accuracy: 0.9798657718120806\n",
            "Accuracy: 0.9798657718120806\n",
            "Accuracy: 0.9899328859060402\n",
            "Accuracy: 0.987248322147651\n",
            "Accuracy: 0.9845637583892617\n"
          ],
          "name": "stdout"
        }
      ]
    },
    {
      "cell_type": "code",
      "metadata": {
        "id": "LCTQxgmF7JGW",
        "colab_type": "code",
        "outputId": "ca687e65-222d-4f08-9b82-6f79203f2755",
        "colab": {
          "base_uri": "https://localhost:8080/",
          "height": 35
        }
      },
      "source": [
        "recall_score(y_test, y_pred, average='micro')"
      ],
      "execution_count": 0,
      "outputs": [
        {
          "output_type": "execute_result",
          "data": {
            "text/plain": [
              "0.9845637583892617"
            ]
          },
          "metadata": {
            "tags": []
          },
          "execution_count": 347
        }
      ]
    },
    {
      "cell_type": "code",
      "metadata": {
        "id": "mkHM_dyF7LoT",
        "colab_type": "code",
        "outputId": "df6e77ca-fd97-49da-aca3-c8f90a901dc2",
        "colab": {
          "base_uri": "https://localhost:8080/",
          "height": 35
        }
      },
      "source": [
        "precision_score(y_test, y_pred, average='micro')"
      ],
      "execution_count": 0,
      "outputs": [
        {
          "output_type": "execute_result",
          "data": {
            "text/plain": [
              "0.9845637583892617"
            ]
          },
          "metadata": {
            "tags": []
          },
          "execution_count": 348
        }
      ]
    },
    {
      "cell_type": "code",
      "metadata": {
        "id": "TXfQImKJ7NQm",
        "colab_type": "code",
        "outputId": "44b8f259-6a69-4393-fc89-fa659edd65a2",
        "colab": {
          "base_uri": "https://localhost:8080/",
          "height": 35
        }
      },
      "source": [
        "f1_score(y_test, y_pred, average='micro')"
      ],
      "execution_count": 0,
      "outputs": [
        {
          "output_type": "execute_result",
          "data": {
            "text/plain": [
              "0.9845637583892617"
            ]
          },
          "metadata": {
            "tags": []
          },
          "execution_count": 349
        }
      ]
    },
    {
      "cell_type": "code",
      "metadata": {
        "id": "xG9HH29K3m_Y",
        "colab_type": "code",
        "colab": {}
      },
      "source": [
        "from sklearn.svm import SVC\n",
        "clf = SVC(gamma= 'scale', kernel = 'rbf')\n",
        "#clf = SVC(gamma= 'auto', kernel = 'linear')\n",
        "#clf = SVC(gamma= 'scale', kernel = 'poly', degree= 3) degree= 3 by default\n",
        "\n",
        "X_train, X_test, y_train, y_test = train_test_split(X, y, test_size=0.3)\n",
        "svm_model = clf.fit(X, y)\n",
        "#print(clf.predict())\n",
        "y_pred_svm = clf.predict (X_test)"
      ],
      "execution_count": 0,
      "outputs": []
    },
    {
      "cell_type": "code",
      "metadata": {
        "id": "Nx4ciS1o35sq",
        "colab_type": "code",
        "outputId": "cc38d20d-7566-402d-84a4-d7543a17d9b3",
        "colab": {
          "base_uri": "https://localhost:8080/",
          "height": 35
        }
      },
      "source": [
        "print(\"Accuracy test:\",metrics.accuracy_score(y_test, y_pred_svm))"
      ],
      "execution_count": 0,
      "outputs": [
        {
          "output_type": "stream",
          "text": [
            "Accuracy test: 0.9818791946308725\n"
          ],
          "name": "stdout"
        }
      ]
    },
    {
      "cell_type": "code",
      "metadata": {
        "id": "tzONGIE48peu",
        "colab_type": "code",
        "outputId": "71197142-1a94-45f8-e9b7-817d7c814a56",
        "colab": {
          "base_uri": "https://localhost:8080/",
          "height": 35
        }
      },
      "source": [
        "recall_score(y_test, y_pred_svm)"
      ],
      "execution_count": 0,
      "outputs": [
        {
          "output_type": "execute_result",
          "data": {
            "text/plain": [
              "0.0"
            ]
          },
          "metadata": {
            "tags": []
          },
          "execution_count": 352
        }
      ]
    },
    {
      "cell_type": "code",
      "metadata": {
        "id": "J24MuvZA8rRG",
        "colab_type": "code",
        "outputId": "50a5848f-275c-4e52-8f68-c13c9f1d85c3",
        "colab": {
          "base_uri": "https://localhost:8080/",
          "height": 35
        }
      },
      "source": [
        "precision_score(y_test, y_pred_svm, average='micro')"
      ],
      "execution_count": 0,
      "outputs": [
        {
          "output_type": "execute_result",
          "data": {
            "text/plain": [
              "0.9818791946308725"
            ]
          },
          "metadata": {
            "tags": []
          },
          "execution_count": 353
        }
      ]
    },
    {
      "cell_type": "code",
      "metadata": {
        "id": "302OPT_N8tE4",
        "colab_type": "code",
        "outputId": "97ef06ec-c93a-4103-e1a7-cb21b4234e66",
        "colab": {
          "base_uri": "https://localhost:8080/",
          "height": 54
        }
      },
      "source": [
        "f1_score(y_test, y_pred_svm)\n",
        "confusion_matrix(y_test, y_pred, labels=None, sample_weight=None, normalize=None)"
      ],
      "execution_count": 0,
      "outputs": [
        {
          "output_type": "execute_result",
          "data": {
            "text/plain": [
              "array([[1433,   30],\n",
              "       [  26,    1]])"
            ]
          },
          "metadata": {
            "tags": []
          },
          "execution_count": 354
        }
      ]
    },
    {
      "cell_type": "code",
      "metadata": {
        "id": "u_nPtN5ivc8U",
        "colab_type": "code",
        "outputId": "a91ac5c2-e8a2-40ac-a3df-a998b13c8433",
        "colab": {
          "resources": {
            "http://localhost:8080/nbextensions/google.colab/files.js": {
              "data": "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",
              "ok": true,
              "headers": [
                [
                  "content-type",
                  "application/javascript"
                ]
              ],
              "status": 200,
              "status_text": "OK"
            }
          },
          "base_uri": "https://localhost:8080/",
          "height": 255
        }
      },
      "source": [
        "from google.colab import files\n",
        "uploaded = files.upload()    "
      ],
      "execution_count": 0,
      "outputs": [
        {
          "output_type": "display_data",
          "data": {
            "text/html": [
              "\n",
              "     <input type=\"file\" id=\"files-f830895e-6ca0-4e7e-89e4-7ffc1935b59e\" name=\"files[]\" multiple disabled />\n",
              "     <output id=\"result-f830895e-6ca0-4e7e-89e4-7ffc1935b59e\">\n",
              "      Upload widget is only available when the cell has been executed in the\n",
              "      current browser session. Please rerun this cell to enable.\n",
              "      </output>\n",
              "      <script src=\"/nbextensions/google.colab/files.js\"></script> "
            ],
            "text/plain": [
              "<IPython.core.display.HTML object>"
            ]
          },
          "metadata": {
            "tags": []
          }
        },
        {
          "output_type": "stream",
          "text": [
            "Saving ac_statetime_test.csv to ac_statetime_test (1).csv\n",
            "Saving humidity_in_test.csv to humidity_in_test (1).csv\n",
            "Saving humidity_out_test.csv to humidity_out_test (1).csv\n",
            "Saving occupancy_test.csv to occupancy_test (1).csv\n",
            "Saving temperature_in_test.csv to temperature_in_test (1).csv\n",
            "Saving temperature_out_test.csv to temperature_out_test (1).csv\n"
          ],
          "name": "stdout"
        }
      ]
    },
    {
      "cell_type": "code",
      "metadata": {
        "id": "Z_qKUYk5vrlW",
        "colab_type": "code",
        "colab": {}
      },
      "source": [
        "import io\n",
        "df_hum_in = pd.read_csv(io.BytesIO(uploaded['humidity_in_test.csv']))\n",
        "import io\n",
        "df_hum_out = pd.read_csv(io.BytesIO(uploaded['humidity_out_test.csv']))\n",
        "import io\n",
        "df_occup = pd.read_csv(io.BytesIO(uploaded['occupancy_test.csv']))\n",
        "import io\n",
        "df_temp_in = pd.read_csv(io.BytesIO(uploaded['temperature_in_test.csv']))\n",
        "import io\n",
        "df_temp_out = pd.read_csv(io.BytesIO(uploaded['temperature_out_test.csv']))\n",
        "import io\n",
        "df_ac_statetime= pd.read_csv(io.BytesIO(uploaded['ac_statetime_test.csv']))"
      ],
      "execution_count": 0,
      "outputs": []
    },
    {
      "cell_type": "code",
      "metadata": {
        "id": "DjaalLDfwuAg",
        "colab_type": "code",
        "colab": {}
      },
      "source": [
        "df_hum_in['statetime'] = pd.to_datetime(df_hum_in['statetime'])\n",
        "df_hum_out['statetime'] = pd.to_datetime(df_hum_out['statetime'])\n",
        "df_temp_in['statetime'] = pd.to_datetime(df_temp_in['statetime'])\n",
        "df_temp_out['statetime'] = pd.to_datetime(df_temp_out['statetime'])\n",
        "df_occup['statetime'] = pd.to_datetime(df_occup['statetime'])\n"
      ],
      "execution_count": 0,
      "outputs": []
    },
    {
      "cell_type": "code",
      "metadata": {
        "id": "LqEoIcu0yHYd",
        "colab_type": "code",
        "colab": {}
      },
      "source": [
        "df_ac_statetime['statetime'] = pd.to_datetime(df_ac_statetime['statetime'])"
      ],
      "execution_count": 0,
      "outputs": []
    },
    {
      "cell_type": "code",
      "metadata": {
        "id": "XQtWTRvKUYpf",
        "colab_type": "code",
        "colab": {}
      },
      "source": [
        "df_hum_in['humidity_in'] = pd.to_numeric(df_hum_in['humidity_in'], errors='coerce')\n",
        "df_hum_out['humidity_out'] = pd.to_numeric(df_hum_out['humidity_out'], errors='coerce')\n",
        "df_temp_in['temp_in'] = pd.to_numeric(df_temp_in['temperature_in'], errors='coerce')\n",
        "df_temp_out['temp_out'] = pd.to_numeric(df_temp_out['temperature_out'], errors='coerce')"
      ],
      "execution_count": 0,
      "outputs": []
    },
    {
      "cell_type": "code",
      "metadata": {
        "id": "7Q3Fj5r8VyUO",
        "colab_type": "code",
        "colab": {}
      },
      "source": [
        "df_hum_in = df_hum_in.set_index('statetime')   \n",
        "df_hum_out = df_hum_out.set_index('statetime')\n",
        "df_temp_in = df_temp_in.set_index('statetime')\n",
        "df_temp_out = df_temp_out.set_index('statetime')"
      ],
      "execution_count": 0,
      "outputs": []
    },
    {
      "cell_type": "code",
      "metadata": {
        "id": "HViTORB-hkPg",
        "colab_type": "code",
        "colab": {}
      },
      "source": [
        "df_hum_out = df_hum_out.resample('min').mean()\n",
        "df_hum_in = df_hum_in.resample('min').mean()\n",
        "df_temp_in = df_temp_in.resample('min').mean()\n",
        "df_temp_out = df_temp_out.resample('min').mean()"
      ],
      "execution_count": 0,
      "outputs": []
    },
    {
      "cell_type": "code",
      "metadata": {
        "id": "qw_D-ReBhoWP",
        "colab_type": "code",
        "colab": {}
      },
      "source": [
        "df_hum_out = df_hum_out.sort_values(by=['statetime'])\n",
        "df_hum_in = df_hum_in.sort_values(by=['statetime'])\n",
        "df_temp_in = df_temp_in.sort_values(by=['statetime'])\n",
        "df_temp_out = df_temp_out.sort_values(by=['statetime'])"
      ],
      "execution_count": 0,
      "outputs": []
    },
    {
      "cell_type": "code",
      "metadata": {
        "id": "77eam_q_hr7I",
        "colab_type": "code",
        "colab": {}
      },
      "source": [
        "df_hum_out['humidity_out'].interpolate(method='linear', inplace=True)\n",
        "df_hum_in['humidity_in'].interpolate(method='linear', inplace=True)\n",
        "df_temp_in['temp_in'].interpolate(method='linear', inplace=True)\n",
        "df_temp_out['temp_out'].interpolate(method='linear', inplace=True)"
      ],
      "execution_count": 0,
      "outputs": []
    },
    {
      "cell_type": "code",
      "metadata": {
        "id": "kcdXHY4BhxbJ",
        "colab_type": "code",
        "colab": {}
      },
      "source": [
        "dflist = [df_hum_out, df_hum_in, df_temp_in, df_temp_out, df_ac_statetime]\n",
        "newdf = df_hum_out\n",
        "for i in range(1, 5):\n",
        "  newdf = newdf.merge(dflist[i], on='statetime', how='outer', sort=True)"
      ],
      "execution_count": 0,
      "outputs": []
    },
    {
      "cell_type": "code",
      "metadata": {
        "id": "cNNmCb6HiKE2",
        "colab_type": "code",
        "colab": {}
      },
      "source": [
        "df_occup['statetime'] = pd.to_datetime(df_occup['statetime'])"
      ],
      "execution_count": 0,
      "outputs": []
    },
    {
      "cell_type": "code",
      "metadata": {
        "id": "u0VuqmXLi13g",
        "colab_type": "code",
        "colab": {}
      },
      "source": [
        "df_occup = df_occup.set_index('statetime')"
      ],
      "execution_count": 0,
      "outputs": []
    },
    {
      "cell_type": "code",
      "metadata": {
        "id": "YkjUmXdSi2x3",
        "colab_type": "code",
        "colab": {}
      },
      "source": [
        "df_occup = df_occup.replace(\"EA674E\", 1)"
      ],
      "execution_count": 0,
      "outputs": []
    },
    {
      "cell_type": "code",
      "metadata": {
        "id": "CmWq2_HAjkk2",
        "colab_type": "code",
        "colab": {}
      },
      "source": [
        "df_occup = df_occup.resample('min').max()"
      ],
      "execution_count": 0,
      "outputs": []
    },
    {
      "cell_type": "code",
      "metadata": {
        "id": "T0qmTXP3jtW8",
        "colab_type": "code",
        "colab": {}
      },
      "source": [
        "newdf = newdf.merge(df_occup, on='statetime', how='outer', sort=True)"
      ],
      "execution_count": 0,
      "outputs": []
    },
    {
      "cell_type": "code",
      "metadata": {
        "id": "9YKhLSsWj9mo",
        "colab_type": "code",
        "colab": {}
      },
      "source": [
        "newdf['motion_detected'] = newdf['motion_detected'].fillna(0)"
      ],
      "execution_count": 0,
      "outputs": []
    },
    {
      "cell_type": "code",
      "metadata": {
        "id": "sqFS7SpcTPC5",
        "colab_type": "code",
        "colab": {}
      },
      "source": [
        "newdf = newdf.set_index('statetime')"
      ],
      "execution_count": 0,
      "outputs": []
    },
    {
      "cell_type": "code",
      "metadata": {
        "id": "GNblEPr32GGO",
        "colab_type": "code",
        "colab": {}
      },
      "source": [
        "newdf = newdf.dropna(how='any')"
      ],
      "execution_count": 0,
      "outputs": []
    },
    {
      "cell_type": "code",
      "metadata": {
        "id": "QbQqDg9j2MFO",
        "colab_type": "code",
        "outputId": "d492511e-e512-4a4a-9e27-7b0d88884410",
        "colab": {
          "base_uri": "https://localhost:8080/",
          "height": 455
        }
      },
      "source": [
        "newdf"
      ],
      "execution_count": 0,
      "outputs": [
        {
          "output_type": "execute_result",
          "data": {
            "text/html": [
              "<div>\n",
              "<style scoped>\n",
              "    .dataframe tbody tr th:only-of-type {\n",
              "        vertical-align: middle;\n",
              "    }\n",
              "\n",
              "    .dataframe tbody tr th {\n",
              "        vertical-align: top;\n",
              "    }\n",
              "\n",
              "    .dataframe thead th {\n",
              "        text-align: right;\n",
              "    }\n",
              "</style>\n",
              "<table border=\"1\" class=\"dataframe\">\n",
              "  <thead>\n",
              "    <tr style=\"text-align: right;\">\n",
              "      <th></th>\n",
              "      <th>humidity_out</th>\n",
              "      <th>humidity_in</th>\n",
              "      <th>temp_in</th>\n",
              "      <th>temp_out</th>\n",
              "      <th>motion_detected</th>\n",
              "    </tr>\n",
              "    <tr>\n",
              "      <th>statetime</th>\n",
              "      <th></th>\n",
              "      <th></th>\n",
              "      <th></th>\n",
              "      <th></th>\n",
              "      <th></th>\n",
              "    </tr>\n",
              "  </thead>\n",
              "  <tbody>\n",
              "    <tr>\n",
              "      <th>2019-09-01 04:31:00</th>\n",
              "      <td>15.500000</td>\n",
              "      <td>30.541667</td>\n",
              "      <td>33.650000</td>\n",
              "      <td>26.017857</td>\n",
              "      <td>0.0</td>\n",
              "    </tr>\n",
              "    <tr>\n",
              "      <th>2019-09-01 04:32:00</th>\n",
              "      <td>15.472727</td>\n",
              "      <td>30.583333</td>\n",
              "      <td>33.654167</td>\n",
              "      <td>26.035714</td>\n",
              "      <td>0.0</td>\n",
              "    </tr>\n",
              "    <tr>\n",
              "      <th>2019-09-01 04:33:00</th>\n",
              "      <td>15.445455</td>\n",
              "      <td>30.625000</td>\n",
              "      <td>33.658333</td>\n",
              "      <td>26.053571</td>\n",
              "      <td>0.0</td>\n",
              "    </tr>\n",
              "    <tr>\n",
              "      <th>2019-09-01 04:34:00</th>\n",
              "      <td>15.418182</td>\n",
              "      <td>30.666667</td>\n",
              "      <td>33.662500</td>\n",
              "      <td>26.071429</td>\n",
              "      <td>0.0</td>\n",
              "    </tr>\n",
              "    <tr>\n",
              "      <th>2019-09-01 04:35:00</th>\n",
              "      <td>15.390909</td>\n",
              "      <td>30.500000</td>\n",
              "      <td>33.666667</td>\n",
              "      <td>26.089286</td>\n",
              "      <td>0.0</td>\n",
              "    </tr>\n",
              "    <tr>\n",
              "      <th>...</th>\n",
              "      <td>...</td>\n",
              "      <td>...</td>\n",
              "      <td>...</td>\n",
              "      <td>...</td>\n",
              "      <td>...</td>\n",
              "    </tr>\n",
              "    <tr>\n",
              "      <th>2019-09-30 23:24:00</th>\n",
              "      <td>18.228571</td>\n",
              "      <td>49.500000</td>\n",
              "      <td>30.250000</td>\n",
              "      <td>24.771429</td>\n",
              "      <td>0.0</td>\n",
              "    </tr>\n",
              "    <tr>\n",
              "      <th>2019-09-30 23:25:00</th>\n",
              "      <td>18.200000</td>\n",
              "      <td>49.500000</td>\n",
              "      <td>30.233333</td>\n",
              "      <td>24.800000</td>\n",
              "      <td>0.0</td>\n",
              "    </tr>\n",
              "    <tr>\n",
              "      <th>2019-09-30 23:26:00</th>\n",
              "      <td>18.171429</td>\n",
              "      <td>49.500000</td>\n",
              "      <td>30.216667</td>\n",
              "      <td>24.828571</td>\n",
              "      <td>0.0</td>\n",
              "    </tr>\n",
              "    <tr>\n",
              "      <th>2019-09-30 23:27:00</th>\n",
              "      <td>18.142857</td>\n",
              "      <td>49.666667</td>\n",
              "      <td>30.200000</td>\n",
              "      <td>24.857143</td>\n",
              "      <td>0.0</td>\n",
              "    </tr>\n",
              "    <tr>\n",
              "      <th>2019-09-30 23:28:00</th>\n",
              "      <td>18.114286</td>\n",
              "      <td>49.333333</td>\n",
              "      <td>30.300000</td>\n",
              "      <td>24.885714</td>\n",
              "      <td>0.0</td>\n",
              "    </tr>\n",
              "  </tbody>\n",
              "</table>\n",
              "<p>42898 rows × 5 columns</p>\n",
              "</div>"
            ],
            "text/plain": [
              "                     humidity_out  humidity_in  ...   temp_out  motion_detected\n",
              "statetime                                       ...                            \n",
              "2019-09-01 04:31:00     15.500000    30.541667  ...  26.017857              0.0\n",
              "2019-09-01 04:32:00     15.472727    30.583333  ...  26.035714              0.0\n",
              "2019-09-01 04:33:00     15.445455    30.625000  ...  26.053571              0.0\n",
              "2019-09-01 04:34:00     15.418182    30.666667  ...  26.071429              0.0\n",
              "2019-09-01 04:35:00     15.390909    30.500000  ...  26.089286              0.0\n",
              "...                           ...          ...  ...        ...              ...\n",
              "2019-09-30 23:24:00     18.228571    49.500000  ...  24.771429              0.0\n",
              "2019-09-30 23:25:00     18.200000    49.500000  ...  24.800000              0.0\n",
              "2019-09-30 23:26:00     18.171429    49.500000  ...  24.828571              0.0\n",
              "2019-09-30 23:27:00     18.142857    49.666667  ...  24.857143              0.0\n",
              "2019-09-30 23:28:00     18.114286    49.333333  ...  24.885714              0.0\n",
              "\n",
              "[42898 rows x 5 columns]"
            ]
          },
          "metadata": {
            "tags": []
          },
          "execution_count": 373
        }
      ]
    },
    {
      "cell_type": "code",
      "metadata": {
        "id": "WjIrH-3AR50L",
        "colab_type": "code",
        "colab": {}
      },
      "source": [
        "X = newdf.dropna()"
      ],
      "execution_count": 0,
      "outputs": []
    },
    {
      "cell_type": "code",
      "metadata": {
        "id": "WuFpVlmliCCb",
        "colab_type": "code",
        "outputId": "4b68dbc1-894f-48d8-d480-5f89964efcf2",
        "colab": {
          "base_uri": "https://localhost:8080/",
          "height": 455
        }
      },
      "source": [
        "X"
      ],
      "execution_count": 0,
      "outputs": [
        {
          "output_type": "execute_result",
          "data": {
            "text/html": [
              "<div>\n",
              "<style scoped>\n",
              "    .dataframe tbody tr th:only-of-type {\n",
              "        vertical-align: middle;\n",
              "    }\n",
              "\n",
              "    .dataframe tbody tr th {\n",
              "        vertical-align: top;\n",
              "    }\n",
              "\n",
              "    .dataframe thead th {\n",
              "        text-align: right;\n",
              "    }\n",
              "</style>\n",
              "<table border=\"1\" class=\"dataframe\">\n",
              "  <thead>\n",
              "    <tr style=\"text-align: right;\">\n",
              "      <th></th>\n",
              "      <th>humidity_out</th>\n",
              "      <th>humidity_in</th>\n",
              "      <th>temp_in</th>\n",
              "      <th>temp_out</th>\n",
              "      <th>motion_detected</th>\n",
              "    </tr>\n",
              "    <tr>\n",
              "      <th>statetime</th>\n",
              "      <th></th>\n",
              "      <th></th>\n",
              "      <th></th>\n",
              "      <th></th>\n",
              "      <th></th>\n",
              "    </tr>\n",
              "  </thead>\n",
              "  <tbody>\n",
              "    <tr>\n",
              "      <th>2019-09-01 04:31:00</th>\n",
              "      <td>15.500000</td>\n",
              "      <td>30.541667</td>\n",
              "      <td>33.650000</td>\n",
              "      <td>26.017857</td>\n",
              "      <td>0.0</td>\n",
              "    </tr>\n",
              "    <tr>\n",
              "      <th>2019-09-01 04:32:00</th>\n",
              "      <td>15.472727</td>\n",
              "      <td>30.583333</td>\n",
              "      <td>33.654167</td>\n",
              "      <td>26.035714</td>\n",
              "      <td>0.0</td>\n",
              "    </tr>\n",
              "    <tr>\n",
              "      <th>2019-09-01 04:33:00</th>\n",
              "      <td>15.445455</td>\n",
              "      <td>30.625000</td>\n",
              "      <td>33.658333</td>\n",
              "      <td>26.053571</td>\n",
              "      <td>0.0</td>\n",
              "    </tr>\n",
              "    <tr>\n",
              "      <th>2019-09-01 04:34:00</th>\n",
              "      <td>15.418182</td>\n",
              "      <td>30.666667</td>\n",
              "      <td>33.662500</td>\n",
              "      <td>26.071429</td>\n",
              "      <td>0.0</td>\n",
              "    </tr>\n",
              "    <tr>\n",
              "      <th>2019-09-01 04:35:00</th>\n",
              "      <td>15.390909</td>\n",
              "      <td>30.500000</td>\n",
              "      <td>33.666667</td>\n",
              "      <td>26.089286</td>\n",
              "      <td>0.0</td>\n",
              "    </tr>\n",
              "    <tr>\n",
              "      <th>...</th>\n",
              "      <td>...</td>\n",
              "      <td>...</td>\n",
              "      <td>...</td>\n",
              "      <td>...</td>\n",
              "      <td>...</td>\n",
              "    </tr>\n",
              "    <tr>\n",
              "      <th>2019-09-30 23:24:00</th>\n",
              "      <td>18.228571</td>\n",
              "      <td>49.500000</td>\n",
              "      <td>30.250000</td>\n",
              "      <td>24.771429</td>\n",
              "      <td>0.0</td>\n",
              "    </tr>\n",
              "    <tr>\n",
              "      <th>2019-09-30 23:25:00</th>\n",
              "      <td>18.200000</td>\n",
              "      <td>49.500000</td>\n",
              "      <td>30.233333</td>\n",
              "      <td>24.800000</td>\n",
              "      <td>0.0</td>\n",
              "    </tr>\n",
              "    <tr>\n",
              "      <th>2019-09-30 23:26:00</th>\n",
              "      <td>18.171429</td>\n",
              "      <td>49.500000</td>\n",
              "      <td>30.216667</td>\n",
              "      <td>24.828571</td>\n",
              "      <td>0.0</td>\n",
              "    </tr>\n",
              "    <tr>\n",
              "      <th>2019-09-30 23:27:00</th>\n",
              "      <td>18.142857</td>\n",
              "      <td>49.666667</td>\n",
              "      <td>30.200000</td>\n",
              "      <td>24.857143</td>\n",
              "      <td>0.0</td>\n",
              "    </tr>\n",
              "    <tr>\n",
              "      <th>2019-09-30 23:28:00</th>\n",
              "      <td>18.114286</td>\n",
              "      <td>49.333333</td>\n",
              "      <td>30.300000</td>\n",
              "      <td>24.885714</td>\n",
              "      <td>0.0</td>\n",
              "    </tr>\n",
              "  </tbody>\n",
              "</table>\n",
              "<p>42898 rows × 5 columns</p>\n",
              "</div>"
            ],
            "text/plain": [
              "                     humidity_out  humidity_in  ...   temp_out  motion_detected\n",
              "statetime                                       ...                            \n",
              "2019-09-01 04:31:00     15.500000    30.541667  ...  26.017857              0.0\n",
              "2019-09-01 04:32:00     15.472727    30.583333  ...  26.035714              0.0\n",
              "2019-09-01 04:33:00     15.445455    30.625000  ...  26.053571              0.0\n",
              "2019-09-01 04:34:00     15.418182    30.666667  ...  26.071429              0.0\n",
              "2019-09-01 04:35:00     15.390909    30.500000  ...  26.089286              0.0\n",
              "...                           ...          ...  ...        ...              ...\n",
              "2019-09-30 23:24:00     18.228571    49.500000  ...  24.771429              0.0\n",
              "2019-09-30 23:25:00     18.200000    49.500000  ...  24.800000              0.0\n",
              "2019-09-30 23:26:00     18.171429    49.500000  ...  24.828571              0.0\n",
              "2019-09-30 23:27:00     18.142857    49.666667  ...  24.857143              0.0\n",
              "2019-09-30 23:28:00     18.114286    49.333333  ...  24.885714              0.0\n",
              "\n",
              "[42898 rows x 5 columns]"
            ]
          },
          "metadata": {
            "tags": []
          },
          "execution_count": 375
        }
      ]
    },
    {
      "cell_type": "code",
      "metadata": {
        "id": "MRD4LB-rMz_-",
        "colab_type": "code",
        "colab": {}
      },
      "source": [
        "X['AC'] = np.nan"
      ],
      "execution_count": 0,
      "outputs": []
    },
    {
      "cell_type": "code",
      "metadata": {
        "id": "2vPjtPA9m3pV",
        "colab_type": "code",
        "colab": {}
      },
      "source": [
        "XA = X.iloc[:, : -1]"
      ],
      "execution_count": 0,
      "outputs": []
    },
    {
      "cell_type": "code",
      "metadata": {
        "id": "Qvkt4nTwS0BX",
        "colab_type": "code",
        "outputId": "ba03f02d-431c-410d-fe40-9885f41b20d0",
        "colab": {
          "base_uri": "https://localhost:8080/",
          "height": 455
        }
      },
      "source": [
        "XA"
      ],
      "execution_count": 0,
      "outputs": [
        {
          "output_type": "execute_result",
          "data": {
            "text/html": [
              "<div>\n",
              "<style scoped>\n",
              "    .dataframe tbody tr th:only-of-type {\n",
              "        vertical-align: middle;\n",
              "    }\n",
              "\n",
              "    .dataframe tbody tr th {\n",
              "        vertical-align: top;\n",
              "    }\n",
              "\n",
              "    .dataframe thead th {\n",
              "        text-align: right;\n",
              "    }\n",
              "</style>\n",
              "<table border=\"1\" class=\"dataframe\">\n",
              "  <thead>\n",
              "    <tr style=\"text-align: right;\">\n",
              "      <th></th>\n",
              "      <th>humidity_out</th>\n",
              "      <th>humidity_in</th>\n",
              "      <th>temp_in</th>\n",
              "      <th>temp_out</th>\n",
              "      <th>motion_detected</th>\n",
              "    </tr>\n",
              "    <tr>\n",
              "      <th>statetime</th>\n",
              "      <th></th>\n",
              "      <th></th>\n",
              "      <th></th>\n",
              "      <th></th>\n",
              "      <th></th>\n",
              "    </tr>\n",
              "  </thead>\n",
              "  <tbody>\n",
              "    <tr>\n",
              "      <th>2019-09-01 04:31:00</th>\n",
              "      <td>15.500000</td>\n",
              "      <td>30.541667</td>\n",
              "      <td>33.650000</td>\n",
              "      <td>26.017857</td>\n",
              "      <td>0.0</td>\n",
              "    </tr>\n",
              "    <tr>\n",
              "      <th>2019-09-01 04:32:00</th>\n",
              "      <td>15.472727</td>\n",
              "      <td>30.583333</td>\n",
              "      <td>33.654167</td>\n",
              "      <td>26.035714</td>\n",
              "      <td>0.0</td>\n",
              "    </tr>\n",
              "    <tr>\n",
              "      <th>2019-09-01 04:33:00</th>\n",
              "      <td>15.445455</td>\n",
              "      <td>30.625000</td>\n",
              "      <td>33.658333</td>\n",
              "      <td>26.053571</td>\n",
              "      <td>0.0</td>\n",
              "    </tr>\n",
              "    <tr>\n",
              "      <th>2019-09-01 04:34:00</th>\n",
              "      <td>15.418182</td>\n",
              "      <td>30.666667</td>\n",
              "      <td>33.662500</td>\n",
              "      <td>26.071429</td>\n",
              "      <td>0.0</td>\n",
              "    </tr>\n",
              "    <tr>\n",
              "      <th>2019-09-01 04:35:00</th>\n",
              "      <td>15.390909</td>\n",
              "      <td>30.500000</td>\n",
              "      <td>33.666667</td>\n",
              "      <td>26.089286</td>\n",
              "      <td>0.0</td>\n",
              "    </tr>\n",
              "    <tr>\n",
              "      <th>...</th>\n",
              "      <td>...</td>\n",
              "      <td>...</td>\n",
              "      <td>...</td>\n",
              "      <td>...</td>\n",
              "      <td>...</td>\n",
              "    </tr>\n",
              "    <tr>\n",
              "      <th>2019-09-30 23:24:00</th>\n",
              "      <td>18.228571</td>\n",
              "      <td>49.500000</td>\n",
              "      <td>30.250000</td>\n",
              "      <td>24.771429</td>\n",
              "      <td>0.0</td>\n",
              "    </tr>\n",
              "    <tr>\n",
              "      <th>2019-09-30 23:25:00</th>\n",
              "      <td>18.200000</td>\n",
              "      <td>49.500000</td>\n",
              "      <td>30.233333</td>\n",
              "      <td>24.800000</td>\n",
              "      <td>0.0</td>\n",
              "    </tr>\n",
              "    <tr>\n",
              "      <th>2019-09-30 23:26:00</th>\n",
              "      <td>18.171429</td>\n",
              "      <td>49.500000</td>\n",
              "      <td>30.216667</td>\n",
              "      <td>24.828571</td>\n",
              "      <td>0.0</td>\n",
              "    </tr>\n",
              "    <tr>\n",
              "      <th>2019-09-30 23:27:00</th>\n",
              "      <td>18.142857</td>\n",
              "      <td>49.666667</td>\n",
              "      <td>30.200000</td>\n",
              "      <td>24.857143</td>\n",
              "      <td>0.0</td>\n",
              "    </tr>\n",
              "    <tr>\n",
              "      <th>2019-09-30 23:28:00</th>\n",
              "      <td>18.114286</td>\n",
              "      <td>49.333333</td>\n",
              "      <td>30.300000</td>\n",
              "      <td>24.885714</td>\n",
              "      <td>0.0</td>\n",
              "    </tr>\n",
              "  </tbody>\n",
              "</table>\n",
              "<p>42898 rows × 5 columns</p>\n",
              "</div>"
            ],
            "text/plain": [
              "                     humidity_out  humidity_in  ...   temp_out  motion_detected\n",
              "statetime                                       ...                            \n",
              "2019-09-01 04:31:00     15.500000    30.541667  ...  26.017857              0.0\n",
              "2019-09-01 04:32:00     15.472727    30.583333  ...  26.035714              0.0\n",
              "2019-09-01 04:33:00     15.445455    30.625000  ...  26.053571              0.0\n",
              "2019-09-01 04:34:00     15.418182    30.666667  ...  26.071429              0.0\n",
              "2019-09-01 04:35:00     15.390909    30.500000  ...  26.089286              0.0\n",
              "...                           ...          ...  ...        ...              ...\n",
              "2019-09-30 23:24:00     18.228571    49.500000  ...  24.771429              0.0\n",
              "2019-09-30 23:25:00     18.200000    49.500000  ...  24.800000              0.0\n",
              "2019-09-30 23:26:00     18.171429    49.500000  ...  24.828571              0.0\n",
              "2019-09-30 23:27:00     18.142857    49.666667  ...  24.857143              0.0\n",
              "2019-09-30 23:28:00     18.114286    49.333333  ...  24.885714              0.0\n",
              "\n",
              "[42898 rows x 5 columns]"
            ]
          },
          "metadata": {
            "tags": []
          },
          "execution_count": 378
        }
      ]
    },
    {
      "cell_type": "code",
      "metadata": {
        "id": "CQV5MgiySndq",
        "colab_type": "code",
        "outputId": "94ed4ca6-e27a-4ab9-c875-ffaead42c3b8",
        "colab": {
          "base_uri": "https://localhost:8080/",
          "height": 127
        }
      },
      "source": [
        "XA.isna().sum()"
      ],
      "execution_count": 0,
      "outputs": [
        {
          "output_type": "execute_result",
          "data": {
            "text/plain": [
              "humidity_out       0\n",
              "humidity_in        0\n",
              "temp_in            0\n",
              "temp_out           0\n",
              "motion_detected    0\n",
              "dtype: int64"
            ]
          },
          "metadata": {
            "tags": []
          },
          "execution_count": 379
        }
      ]
    },
    {
      "cell_type": "code",
      "metadata": {
        "id": "tTpkch-GnTKx",
        "colab_type": "code",
        "colab": {}
      },
      "source": [
        "XA['AC'] = model4.predict(XA)"
      ],
      "execution_count": 0,
      "outputs": []
    },
    {
      "cell_type": "code",
      "metadata": {
        "id": "4m4fwJykTpqV",
        "colab_type": "code",
        "outputId": "6b1104fd-0767-4431-beaa-6608aafb05ff",
        "colab": {
          "base_uri": "https://localhost:8080/",
          "height": 146
        }
      },
      "source": [
        "XA.isna().sum()"
      ],
      "execution_count": 0,
      "outputs": [
        {
          "output_type": "execute_result",
          "data": {
            "text/plain": [
              "humidity_out       0\n",
              "humidity_in        0\n",
              "temp_in            0\n",
              "temp_out           0\n",
              "motion_detected    0\n",
              "AC                 0\n",
              "dtype: int64"
            ]
          },
          "metadata": {
            "tags": []
          },
          "execution_count": 381
        }
      ]
    },
    {
      "cell_type": "code",
      "metadata": {
        "id": "difk5DKTNjCw",
        "colab_type": "code",
        "colab": {}
      },
      "source": [
        "XA['motion_detected'] = XA['motion_detected'].fillna(0)"
      ],
      "execution_count": 0,
      "outputs": []
    },
    {
      "cell_type": "code",
      "metadata": {
        "id": "_ZR1hLLy0LVn",
        "colab_type": "code",
        "outputId": "366fe5f5-6adc-4d56-a587-9d8f3895da12",
        "colab": {
          "base_uri": "https://localhost:8080/",
          "height": 238
        }
      },
      "source": [
        "XA.tail()"
      ],
      "execution_count": 0,
      "outputs": [
        {
          "output_type": "execute_result",
          "data": {
            "text/html": [
              "<div>\n",
              "<style scoped>\n",
              "    .dataframe tbody tr th:only-of-type {\n",
              "        vertical-align: middle;\n",
              "    }\n",
              "\n",
              "    .dataframe tbody tr th {\n",
              "        vertical-align: top;\n",
              "    }\n",
              "\n",
              "    .dataframe thead th {\n",
              "        text-align: right;\n",
              "    }\n",
              "</style>\n",
              "<table border=\"1\" class=\"dataframe\">\n",
              "  <thead>\n",
              "    <tr style=\"text-align: right;\">\n",
              "      <th></th>\n",
              "      <th>humidity_out</th>\n",
              "      <th>humidity_in</th>\n",
              "      <th>temp_in</th>\n",
              "      <th>temp_out</th>\n",
              "      <th>motion_detected</th>\n",
              "      <th>AC</th>\n",
              "    </tr>\n",
              "    <tr>\n",
              "      <th>statetime</th>\n",
              "      <th></th>\n",
              "      <th></th>\n",
              "      <th></th>\n",
              "      <th></th>\n",
              "      <th></th>\n",
              "      <th></th>\n",
              "    </tr>\n",
              "  </thead>\n",
              "  <tbody>\n",
              "    <tr>\n",
              "      <th>2019-09-30 23:24:00</th>\n",
              "      <td>18.228571</td>\n",
              "      <td>49.500000</td>\n",
              "      <td>30.250000</td>\n",
              "      <td>24.771429</td>\n",
              "      <td>0.0</td>\n",
              "      <td>0.0</td>\n",
              "    </tr>\n",
              "    <tr>\n",
              "      <th>2019-09-30 23:25:00</th>\n",
              "      <td>18.200000</td>\n",
              "      <td>49.500000</td>\n",
              "      <td>30.233333</td>\n",
              "      <td>24.800000</td>\n",
              "      <td>0.0</td>\n",
              "      <td>0.0</td>\n",
              "    </tr>\n",
              "    <tr>\n",
              "      <th>2019-09-30 23:26:00</th>\n",
              "      <td>18.171429</td>\n",
              "      <td>49.500000</td>\n",
              "      <td>30.216667</td>\n",
              "      <td>24.828571</td>\n",
              "      <td>0.0</td>\n",
              "      <td>0.0</td>\n",
              "    </tr>\n",
              "    <tr>\n",
              "      <th>2019-09-30 23:27:00</th>\n",
              "      <td>18.142857</td>\n",
              "      <td>49.666667</td>\n",
              "      <td>30.200000</td>\n",
              "      <td>24.857143</td>\n",
              "      <td>0.0</td>\n",
              "      <td>0.0</td>\n",
              "    </tr>\n",
              "    <tr>\n",
              "      <th>2019-09-30 23:28:00</th>\n",
              "      <td>18.114286</td>\n",
              "      <td>49.333333</td>\n",
              "      <td>30.300000</td>\n",
              "      <td>24.885714</td>\n",
              "      <td>0.0</td>\n",
              "      <td>0.0</td>\n",
              "    </tr>\n",
              "  </tbody>\n",
              "</table>\n",
              "</div>"
            ],
            "text/plain": [
              "                     humidity_out  humidity_in  ...  motion_detected   AC\n",
              "statetime                                       ...                      \n",
              "2019-09-30 23:24:00     18.228571    49.500000  ...              0.0  0.0\n",
              "2019-09-30 23:25:00     18.200000    49.500000  ...              0.0  0.0\n",
              "2019-09-30 23:26:00     18.171429    49.500000  ...              0.0  0.0\n",
              "2019-09-30 23:27:00     18.142857    49.666667  ...              0.0  0.0\n",
              "2019-09-30 23:28:00     18.114286    49.333333  ...              0.0  0.0\n",
              "\n",
              "[5 rows x 6 columns]"
            ]
          },
          "metadata": {
            "tags": []
          },
          "execution_count": 383
        }
      ]
    },
    {
      "cell_type": "code",
      "metadata": {
        "id": "gfl0fv_8N7O9",
        "colab_type": "code",
        "outputId": "a63576a5-92c1-4e4f-c2f1-9d242107b57b",
        "colab": {
          "base_uri": "https://localhost:8080/",
          "height": 283
        }
      },
      "source": [
        "plt.plot(XA['AC'])\n",
        "plt.plot(XA['temp_in'])"
      ],
      "execution_count": 0,
      "outputs": [
        {
          "output_type": "execute_result",
          "data": {
            "text/plain": [
              "[<matplotlib.lines.Line2D at 0x7f9dcaf9bda0>]"
            ]
          },
          "metadata": {
            "tags": []
          },
          "execution_count": 384
        },
        {
          "output_type": "display_data",
          "data": {
            "image/png": "[encoded data removed]",
            "text/plain": [
              "<Figure size 432x288 with 1 Axes>"
            ]
          },
          "metadata": {
            "tags": []
          }
        }
      ]
    },
    {
      "cell_type": "code",
      "metadata": {
        "id": "9zaq0iRPMGNi",
        "colab_type": "code",
        "colab": {}
      },
      "source": [
        "# σε αυτό το σημείο θα μπορούσαμε να αναπτύξουμε ένα προγνωστικό μοντέλο με την παρακάτω προσθήκη, \n",
        "# έτσι ώστε η τιμή του AC να συνυπολογίζει και το αν υπάρχει κίνηση 15 λεπτά μετά και 15 λεπτά πριν\n",
        "\n",
        "for i in range(15, len(XA)):\n",
        "  if ((XA['AC'][i] == 1) &  (XA['motion_detected'][i] == 0)):\n",
        "    if (XA['motion_detected'][i-15:i+15].sum() == 0):\n",
        "      XA['AC'][i] = 0"
      ],
      "execution_count": 0,
      "outputs": []
    },
    {
      "cell_type": "code",
      "metadata": {
        "id": "a96D16x2M4i0",
        "colab_type": "code",
        "outputId": "05df5f34-f918-4a5b-9fc2-d92ebc9d2acd",
        "colab": {
          "base_uri": "https://localhost:8080/",
          "height": 283
        }
      },
      "source": [
        "plt.plot(XA['temp_out']['2019-09-11 04:31:00':'2019-09-12 23:00:00'])\n",
        "plt.plot(XA['temp_in']['2019-09-11 04:31:00':'2019-09-12 23:00:00']) \n",
        "plt.plot(XA['humidity_in']['2019-09-11 04:31:00':'2019-09-12 23:00:00']) \n",
        "plt.plot(XA['AC']['2019-09-11 04:31:00':'2019-09-12 23:00:00'])     \n",
        "    "
      ],
      "execution_count": 0,
      "outputs": [
        {
          "output_type": "execute_result",
          "data": {
            "text/plain": [
              "[<matplotlib.lines.Line2D at 0x7f9dca6e7908>]"
            ]
          },
          "metadata": {
            "tags": []
          },
          "execution_count": 386
        },
        {
          "output_type": "display_data",
          "data": {
            "image/png": "[encoded data removed]",
            "text/plain": [
              "<Figure size 432x288 with 1 Axes>"
            ]
          },
          "metadata": {
            "tags": []
          }
        }
      ]
    },
    {
      "cell_type": "code",
      "metadata": {
        "id": "9Xo5ES9nRxS7",
        "colab_type": "code",
        "outputId": "7f6d4ba4-1e8b-4311-d8e6-b921ef2dbaf6",
        "colab": {
          "base_uri": "https://localhost:8080/",
          "height": 35
        }
      },
      "source": [
        "XA['AC'][XA['AC'] == 1].count()"
      ],
      "execution_count": 0,
      "outputs": [
        {
          "output_type": "execute_result",
          "data": {
            "text/plain": [
              "1697"
            ]
          },
          "metadata": {
            "tags": []
          },
          "execution_count": 394
        }
      ]
    },
    {
      "cell_type": "code",
      "metadata": {
        "id": "pgAZDLCFlIAq",
        "colab_type": "code",
        "outputId": "1695c4c5-693c-4b61-f638-59c6714cd118",
        "colab": {
          "base_uri": "https://localhost:8080/",
          "height": 74
        }
      },
      "source": [
        "#giorgosextract\n",
        "XA['AC'].to_csv(r'ac_operation.csv')\n",
        "files.download('ac_operation.csv')"
      ],
      "execution_count": 0,
      "outputs": [
        {
          "output_type": "stream",
          "text": [
            "/usr/local/lib/python3.6/dist-packages/ipykernel_launcher.py:1: FutureWarning: The signature of `Series.to_csv` was aligned to that of `DataFrame.to_csv`, and argument 'header' will change its default value from False to True: please pass an explicit value to suppress this warning.\n",
            "  \"\"\"Entry point for launching an IPython kernel.\n"
          ],
          "name": "stderr"
        }
      ]
    },
    {
      "cell_type": "code",
      "metadata": {
        "id": "YKE59_5qa60q",
        "colab_type": "code",
        "colab": {}
      },
      "source": [
        "######### PCA\n",
        "from mpl_toolkits.mplot3d import Axes3D\n",
        "from sklearn.decomposition import PCA"
      ],
      "execution_count": 0,
      "outputs": []
    },
    {
      "cell_type": "code",
      "metadata": {
        "id": "FlYhhDBXi9DC",
        "colab_type": "code",
        "colab": {}
      },
      "source": [
        "DF = XA\n",
        "DF = DF.reset_index()\n",
        "DF = DF.drop(columns='statetime')"
      ],
      "execution_count": 0,
      "outputs": []
    },
    {
      "cell_type": "code",
      "metadata": {
        "id": "O4xbo0VQchpi",
        "colab_type": "code",
        "colab": {}
      },
      "source": [
        "X = DF.iloc[:, :-2]\n",
        "y = DF.iloc[:, -2]"
      ],
      "execution_count": 0,
      "outputs": []
    },
    {
      "cell_type": "code",
      "metadata": {
        "id": "9J4hqaJlers0",
        "colab_type": "code",
        "colab": {}
      },
      "source": [
        "pca = PCA(n_components=2)\n",
        "principalComponents = pca.fit_transform(X)\n",
        "principalDf = pd.DataFrame(data = principalComponents, columns = ['principal component 1', 'principal component 2'])\n",
        "finalDf = pd.concat([principalDf, DF[['AC']]], axis = 1)"
      ],
      "execution_count": 0,
      "outputs": []
    },
    {
      "cell_type": "code",
      "metadata": {
        "id": "Jr-QWW2-htF3",
        "colab_type": "code",
        "colab": {}
      },
      "source": [
        "fig = plt.figure(figsize = (8,8))\n",
        "ax = fig.add_subplot(1,1,1) \n",
        "ax.set_xlabel('Principal Component 1', fontsize = 15)\n",
        "ax.set_ylabel('Principal Component 2', fontsize = 15)\n",
        "ax.set_title('2 component PCA', fontsize = 20)\n",
        "targets = [0, 1]\n",
        "colors = ['r', 'g']\n",
        "for target, color in zip(targets,colors):\n",
        "    indicesToKeep = finalDf['AC'] == target\n",
        "    ax.scatter(finalDf.loc[indicesToKeep, 'principal component 1']\n",
        "               , finalDf.loc[indicesToKeep, 'principal component 2']\n",
        "               , c = color\n",
        "               , s = 50)\n",
        "ax.legend(targets)\n",
        "ax.grid()"
      ],
      "execution_count": 0,
      "outputs": []
    },
    {
      "cell_type": "code",
      "metadata": {
        "id": "g3FXnzYHIQXC",
        "colab_type": "code",
        "colab": {}
      },
      "source": [
        "for i in range(0, len(DF)):\n",
        "  if DF['AC'][i] == \"off\":\n",
        "    DF['AC'][i] = DF['AC'][i].replace(\"off\", '0')\n",
        "  else: \n",
        "     DF['AC'][i] = DF['AC'][i].replace(\"on\", '1')"
      ],
      "execution_count": 0,
      "outputs": []
    },
    {
      "cell_type": "code",
      "metadata": {
        "id": "1_jiMTkD0DY5",
        "colab_type": "code",
        "colab": {}
      },
      "source": [
        "y = DF.AC\n",
        "plt.figure(2, figsize=(8, 6))\n",
        "\n",
        "plt.scatter(DF['temp_in'], DF['temp_out'], c=DF['AC'],  cmap=plt.cm.Set1, edgecolor='k')"
      ],
      "execution_count": 0,
      "outputs": []
    },
    {
      "cell_type": "code",
      "metadata": {
        "id": "KN0uiy8O8tsd",
        "colab_type": "code",
        "colab": {}
      },
      "source": [
        "DF2 = verydff"
      ],
      "execution_count": 0,
      "outputs": []
    },
    {
      "cell_type": "code",
      "metadata": {
        "id": "XTSFUjAY9pJW",
        "colab_type": "code",
        "colab": {}
      },
      "source": [
        "DF2['test_ac'] = np.nan"
      ],
      "execution_count": 0,
      "outputs": []
    },
    {
      "cell_type": "code",
      "metadata": {
        "id": "7ZVriITI9Pwy",
        "colab_type": "code",
        "colab": {}
      },
      "source": [
        "DF2['test_ac'] = DF2['AC']"
      ],
      "execution_count": 0,
      "outputs": []
    },
    {
      "cell_type": "code",
      "metadata": {
        "id": "-mt_Phjb9YuD",
        "colab_type": "code",
        "colab": {}
      },
      "source": [
        "DF2"
      ],
      "execution_count": 0,
      "outputs": []
    },
    {
      "cell_type": "code",
      "metadata": {
        "id": "ZPIfAUbg85Yd",
        "colab_type": "code",
        "colab": {}
      },
      "source": [
        "for i in range(0, len(DF2)):\n",
        "  if DF2['test_ac'][i] == \"off\":\n",
        "    DF2['test_ac'][i] = DF2['test_ac'][i].replace(\"off\", '0')\n",
        "  else: \n",
        "     DF2['test_ac'][i] = DF2['test_ac'][i].replace(\"on\", '1')"
      ],
      "execution_count": 0,
      "outputs": []
    },
    {
      "cell_type": "code",
      "metadata": {
        "id": "lpbDrRTg9_cX",
        "colab_type": "code",
        "colab": {}
      },
      "source": [
        "y = DF2.test_ac\n",
        "plt.figure(2, figsize=(8, 6))\n",
        "\n",
        "plt.scatter(DF2['temp_in'], DF2['temp_out'], c=DF2['test_ac'],  cmap=plt.cm.Set1, edgecolor='k')"
      ],
      "execution_count": 0,
      "outputs": []
    },
    {
      "cell_type": "code",
      "metadata": {
        "id": "lt4Z-22j-dn9",
        "colab_type": "code",
        "colab": {}
      },
      "source": [
        "\n",
        "plt.figure(2, figsize=(8, 6))\n",
        "\n",
        "plt.scatter(DF2['temp_in'], DF2['temp_out'],   cmap=plt.cm.Set1, edgecolor='k')"
      ],
      "execution_count": 0,
      "outputs": []
    },
    {
      "cell_type": "code",
      "metadata": {
        "id": "nnDkzGg8AHLZ",
        "colab_type": "code",
        "colab": {}
      },
      "source": [
        "DF2 = DF2.reset_index()\n",
        "DF2 = DF2.drop(columns='statetime')"
      ],
      "execution_count": 0,
      "outputs": []
    },
    {
      "cell_type": "code",
      "metadata": {
        "id": "TcF-Y46dA4xN",
        "colab_type": "code",
        "colab": {}
      },
      "source": [
        "DF2 = DF2.dropna()"
      ],
      "execution_count": 0,
      "outputs": []
    },
    {
      "cell_type": "code",
      "metadata": {
        "id": "ZAyIrBinAKNM",
        "colab_type": "code",
        "colab": {}
      },
      "source": [
        "X = DF2.iloc[:,: -2]\n",
        "y = DF2.iloc[:, -2]"
      ],
      "execution_count": 0,
      "outputs": []
    },
    {
      "cell_type": "code",
      "metadata": {
        "id": "tIq9vBPsoCz3",
        "colab_type": "code",
        "colab": {}
      },
      "source": [
        "y"
      ],
      "execution_count": 0,
      "outputs": []
    },
    {
      "cell_type": "code",
      "metadata": {
        "id": "-gB6FcWQ_UFY",
        "colab_type": "code",
        "colab": {}
      },
      "source": [
        "pca = PCA(n_components=2)\n",
        "principalComponents = pca.fit_transform(X)\n",
        "principalDf = pd.DataFrame(data = principalComponents, columns = ['principal component 1', 'principal component 2'])\n",
        "finalDf = pd.concat([principalDf, DF2[['AC']]], axis = 1)"
      ],
      "execution_count": 0,
      "outputs": []
    },
    {
      "cell_type": "code",
      "metadata": {
        "id": "eauFbOnL_ige",
        "colab_type": "code",
        "colab": {}
      },
      "source": [
        "fig = plt.figure(figsize = (8,8))\n",
        "ax = fig.add_subplot(1,1,1) \n",
        "ax.set_xlabel('Principal Component 1', fontsize = 15)\n",
        "ax.set_ylabel('Principal Component 2', fontsize = 15)\n",
        "ax.set_title('2 component PCA', fontsize = 20)\n",
        "targets = [0, 1]\n",
        "colors = ['r', 'g']\n",
        "for target, color in zip(targets,colors):\n",
        "    indicesToKeep = finalDf['AC'] == target\n",
        "    ax.scatter(finalDf.loc[indicesToKeep, 'principal component 1']\n",
        "               , finalDf.loc[indicesToKeep, 'principal component 2']\n",
        "               , c = color\n",
        "               , s = 50)\n",
        "ax.legend(targets)\n",
        "ax.grid()"
      ],
      "execution_count": 0,
      "outputs": []
    },
    {
      "cell_type": "code",
      "metadata": {
        "id": "jS1nGL0bDTxV",
        "colab_type": "code",
        "colab": {}
      },
      "source": [
        "from sklearn.cluster import KMeans\n",
        "X = dff.dropna(subset=['ac_pow_power','temp_in']).iloc[:, [2,4]]\n",
        "kmeans = KMeans(n_clusters=3, random_state=1000).fit(X)\n",
        "#kmeans.labels_\n",
        "kmeans.predict(X)\n",
        "#plt.plot (X)\n",
        "c = kmeans.cluster_centers_\n",
        "plt.plot (c)"
      ],
      "execution_count": 0,
      "outputs": []
    },
    {
      "cell_type": "code",
      "metadata": {
        "id": "dYOvgsFSDpQO",
        "colab_type": "code",
        "colab": {}
      },
      "source": [
        "plt.scatter(x= X['ac_pow_power'], y= X['temp_in'])\n",
        "plt.scatter(x=c[:, 1],y= c[:, 0])"
      ],
      "execution_count": 0,
      "outputs": []
    },
    {
      "cell_type": "code",
      "metadata": {
        "id": "Sr9Lp8PRk9QX",
        "colab_type": "code",
        "colab": {}
      },
      "source": [
        "from sklearn.decomposition import TruncatedSVD\n",
        "from scipy.sparse import random as sparse_random\n",
        "from sklearn.random_projection import sparse_random_matrix"
      ],
      "execution_count": 0,
      "outputs": []
    },
    {
      "cell_type": "code",
      "metadata": {
        "id": "gEIa1nqVlMZ4",
        "colab_type": "code",
        "colab": {}
      },
      "source": [
        "svd = TruncatedSVD(n_components=2, n_iter=7, random_state=42)"
      ],
      "execution_count": 0,
      "outputs": []
    },
    {
      "cell_type": "code",
      "metadata": {
        "id": "xKM5daFYRRfd",
        "colab_type": "code",
        "colab": {}
      },
      "source": [
        "final = X.merge(df_ac_statetime['statetime'], on='statetime', how='inner', sort=True)"
      ],
      "execution_count": 0,
      "outputs": []
    },
    {
      "cell_type": "code",
      "metadata": {
        "id": "T2ZJ8rnFR09_",
        "colab_type": "code",
        "colab": {}
      },
      "source": [
        "final"
      ],
      "execution_count": 0,
      "outputs": []
    },
    {
      "cell_type": "code",
      "metadata": {
        "id": "qA_Sj2MFR5Kk",
        "colab_type": "code",
        "colab": {}
      },
      "source": [
        "final = final.set_index('statetime')"
      ],
      "execution_count": 0,
      "outputs": []
    },
    {
      "cell_type": "code",
      "metadata": {
        "id": "3EDfT6S8Tkgq",
        "colab_type": "code",
        "colab": {}
      },
      "source": [
        "# εδώ βάζουμε ότι μέρα θέλουμε\n",
        "finald = final['2019-09-15 04:31:00':'2019-09-15 23:00:00']"
      ],
      "execution_count": 0,
      "outputs": []
    },
    {
      "cell_type": "code",
      "metadata": {
        "id": "iUalLMRfSLzj",
        "colab_type": "code",
        "colab": {}
      },
      "source": [
        "plt.plot(finald['temp_in'])\n",
        "plt.plot(finald['temp_out'])\n",
        "plt.plot(finald['AC'])"
      ],
      "execution_count": 0,
      "outputs": []
    },
    {
      "cell_type": "code",
      "metadata": {
        "id": "80TvESSnGkMg",
        "colab_type": "code",
        "colab": {}
      },
      "source": [
        "#giorgos svm\n",
        "\n",
        "from sklearn.svm import SVC\n",
        "clf = SVC(gamma= 'scale', kernel = 'rbf')\n",
        "#clf = SVC(gamma= 'auto', kernel = 'linear')\n",
        "#clf = SVC(gamma= 'scale', kernel = 'poly', degree= 3) degree= 3 by default\n",
        "X = dff.iloc[:, [0,1,2,3]]\n",
        "y = dff.iloc[:, 5]\n",
        "X_train, X_test, y_train, y_test = train_test_split(X, y, test_size=0.2)\n",
        "svm_model = clf.fit(X, y)\n",
        "#print(clf.predict())\n",
        "y_pred_svm = clf.predict (X_test)"
      ],
      "execution_count": 0,
      "outputs": []
    },
    {
      "cell_type": "markdown",
      "metadata": {
        "id": "6kPvcxivpFmD",
        "colab_type": "text"
      },
      "source": [
        "12 me 13 septemvriou.. false interpolate logw elleipshs metrhsewn na mh lhfthei ypopsin"
      ]
    }
  ]
}